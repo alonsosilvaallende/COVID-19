{
  "nbformat": 4,
  "nbformat_minor": 0,
  "metadata": {
    "colab": {
      "name": "COVID-19-Confirmed-Cases-France-Italy.ipynb",
      "provenance": [],
      "collapsed_sections": [],
      "authorship_tag": "ABX9TyNVwz6SmRm5EIofE1Alip++",
      "include_colab_link": true
    },
    "kernelspec": {
      "name": "python3",
      "display_name": "Python 3"
    }
  },
  "cells": [
    {
      "cell_type": "markdown",
      "metadata": {
        "id": "view-in-github",
        "colab_type": "text"
      },
      "source": [
        "<a href=\"https://colab.research.google.com/github/alonsosilvaallende/COVID-19/blob/master/COVID_19_Confirmed_Cases_France_Italy.ipynb\" target=\"_parent\"><img src=\"https://colab.research.google.com/assets/colab-badge.svg\" alt=\"Open In Colab\"/></a>"
      ]
    },
    {
      "cell_type": "code",
      "metadata": {
        "id": "YgOlJ-nVSw3_",
        "colab_type": "code",
        "colab": {}
      },
      "source": [
        "import numpy as np\n",
        "import matplotlib.pyplot as plt\n",
        "import pandas as pd\n",
        "plt.style.use('seaborn')"
      ],
      "execution_count": 0,
      "outputs": []
    },
    {
      "cell_type": "code",
      "metadata": {
        "colab_type": "code",
        "id": "fsHYi51tp-Po",
        "outputId": "493c5908-ff80-428d-b7ac-a900b30575c2",
        "colab": {
          "base_uri": "https://localhost:8080/",
          "height": 174
        }
      },
      "source": [
        "total_cases = pd.read_csv(\"https://covid.ourworldindata.org/data/ecdc/total_cases.csv\", index_col='date')\n",
        "total_cases[[\"France\", \"Italy\"]].tail(3)"
      ],
      "execution_count": 73,
      "outputs": [
        {
          "output_type": "execute_result",
          "data": {
            "text/html": [
              "<div>\n",
              "<style scoped>\n",
              "    .dataframe tbody tr th:only-of-type {\n",
              "        vertical-align: middle;\n",
              "    }\n",
              "\n",
              "    .dataframe tbody tr th {\n",
              "        vertical-align: top;\n",
              "    }\n",
              "\n",
              "    .dataframe thead th {\n",
              "        text-align: right;\n",
              "    }\n",
              "</style>\n",
              "<table border=\"1\" class=\"dataframe\">\n",
              "  <thead>\n",
              "    <tr style=\"text-align: right;\">\n",
              "      <th></th>\n",
              "      <th>France</th>\n",
              "      <th>Italy</th>\n",
              "    </tr>\n",
              "    <tr>\n",
              "      <th>date</th>\n",
              "      <th></th>\n",
              "      <th></th>\n",
              "    </tr>\n",
              "  </thead>\n",
              "  <tbody>\n",
              "    <tr>\n",
              "      <th>2020-03-21</th>\n",
              "      <td>12612</td>\n",
              "      <td>47021</td>\n",
              "    </tr>\n",
              "    <tr>\n",
              "      <th>2020-03-22</th>\n",
              "      <td>14459</td>\n",
              "      <td>53578</td>\n",
              "    </tr>\n",
              "    <tr>\n",
              "      <th>2020-03-23</th>\n",
              "      <td>16018</td>\n",
              "      <td>59138</td>\n",
              "    </tr>\n",
              "  </tbody>\n",
              "</table>\n",
              "</div>"
            ],
            "text/plain": [
              "            France  Italy\n",
              "date                     \n",
              "2020-03-21   12612  47021\n",
              "2020-03-22   14459  53578\n",
              "2020-03-23   16018  59138"
            ]
          },
          "metadata": {
            "tags": []
          },
          "execution_count": 73
        }
      ]
    },
    {
      "cell_type": "code",
      "metadata": {
        "id": "cqRgfVKrGgoP",
        "colab_type": "code",
        "colab": {}
      },
      "source": [
        "list_countries = ['France', 'Italy']"
      ],
      "execution_count": 0,
      "outputs": []
    },
    {
      "cell_type": "code",
      "metadata": {
        "colab_type": "code",
        "id": "mcphnCz2kWS1",
        "colab": {}
      },
      "source": [
        "TIPPING_POINT = 131"
      ],
      "execution_count": 0,
      "outputs": []
    },
    {
      "cell_type": "code",
      "metadata": {
        "id": "BxdvXK44IdKK",
        "colab_type": "code",
        "colab": {}
      },
      "source": [
        "France_lockdown = '2020-03-18'\n",
        "Italy_lockdown = '2020-03-10'"
      ],
      "execution_count": 0,
      "outputs": []
    },
    {
      "cell_type": "code",
      "metadata": {
        "id": "ZHu83DjILaEJ",
        "colab_type": "code",
        "colab": {}
      },
      "source": [
        "France_schools = '2020-03-16'\n",
        "Italy_schools = '2020-03-05'"
      ],
      "execution_count": 0,
      "outputs": []
    },
    {
      "cell_type": "code",
      "metadata": {
        "colab_type": "code",
        "id": "Zbc7FeqKkU3h",
        "colab": {}
      },
      "source": [
        "cases = {}\n",
        "for country in list_countries:\n",
        "  cases[country] = total_cases[country][total_cases[country] > TIPPING_POINT]"
      ],
      "execution_count": 0,
      "outputs": []
    },
    {
      "cell_type": "code",
      "metadata": {
        "id": "W0vcvj9kS99q",
        "colab_type": "code",
        "outputId": "628ed1b0-d34e-4a55-e933-046c12cda843",
        "colab": {
          "base_uri": "https://localhost:8080/",
          "height": 105
        }
      },
      "source": [
        "cases[\"France\"].head(3)"
      ],
      "execution_count": 79,
      "outputs": [
        {
          "output_type": "execute_result",
          "data": {
            "text/plain": [
              "date\n",
              "2020-03-03    178\n",
              "2020-03-04    212\n",
              "2020-03-05    285\n",
              "Name: France, dtype: int64"
            ]
          },
          "metadata": {
            "tags": []
          },
          "execution_count": 79
        }
      ]
    },
    {
      "cell_type": "code",
      "metadata": {
        "id": "JA17yIgSagqS",
        "colab_type": "code",
        "colab": {}
      },
      "source": [
        "France_starting_date = '2020-03-03'"
      ],
      "execution_count": 0,
      "outputs": []
    },
    {
      "cell_type": "code",
      "metadata": {
        "id": "KCjGjWh7TAmZ",
        "colab_type": "code",
        "outputId": "729fdcea-6958-4106-8488-27d1b2a166df",
        "colab": {
          "base_uri": "https://localhost:8080/",
          "height": 105
        }
      },
      "source": [
        "cases[\"Italy\"].head(3)"
      ],
      "execution_count": 81,
      "outputs": [
        {
          "output_type": "execute_result",
          "data": {
            "text/plain": [
              "date\n",
              "2020-02-24    132\n",
              "2020-02-25    229\n",
              "2020-02-26    322\n",
              "Name: Italy, dtype: int64"
            ]
          },
          "metadata": {
            "tags": []
          },
          "execution_count": 81
        }
      ]
    },
    {
      "cell_type": "code",
      "metadata": {
        "id": "ujJfM4olUAjl",
        "colab_type": "code",
        "colab": {}
      },
      "source": [
        "Italy_starting_date = '2020-02-24'"
      ],
      "execution_count": 0,
      "outputs": []
    },
    {
      "cell_type": "code",
      "metadata": {
        "id": "OlOpcggLIoOj",
        "colab_type": "code",
        "outputId": "2f6bd32f-cf39-46c4-d434-c639fba00e43",
        "colab": {
          "base_uri": "https://localhost:8080/",
          "height": 35
        }
      },
      "source": [
        "France_gap = (pd.to_datetime(France_lockdown) - pd.to_datetime(cases[\"France\"].keys()[0])).days\n",
        "Italy_gap = (pd.to_datetime(Italy_lockdown) - pd.to_datetime(cases[\"Italy\"].keys()[0])).days\n",
        "France_gap_schools = (pd.to_datetime(France_schools) - pd.to_datetime(cases[\"France\"].keys()[0])).days\n",
        "Italy_gap_schools = (pd.to_datetime(Italy_schools) - pd.to_datetime(cases[\"Italy\"].keys()[0])).days\n",
        "France_gap, Italy_gap, France_gap_schools, Italy_gap_schools"
      ],
      "execution_count": 83,
      "outputs": [
        {
          "output_type": "execute_result",
          "data": {
            "text/plain": [
              "(15, 15, 13, 10)"
            ]
          },
          "metadata": {
            "tags": []
          },
          "execution_count": 83
        }
      ]
    },
    {
      "cell_type": "code",
      "metadata": {
        "id": "KtDhJceD3mUd",
        "colab_type": "code",
        "colab": {}
      },
      "source": [
        "x_trn_FR = np.arange(France_gap)\n",
        "x_trn_IT = np.arange(Italy_gap)"
      ],
      "execution_count": 0,
      "outputs": []
    },
    {
      "cell_type": "code",
      "metadata": {
        "id": "TH6zP1Hk5qyi",
        "colab_type": "code",
        "colab": {}
      },
      "source": [
        "x_trn_FR = x_trn_FR[...,None]\n",
        "x_trn_IT = x_trn_IT[...,None]"
      ],
      "execution_count": 0,
      "outputs": []
    },
    {
      "cell_type": "code",
      "metadata": {
        "id": "vE_bB7jr5wrC",
        "colab_type": "code",
        "colab": {}
      },
      "source": [
        "y_trn_FR = np.log(np.array(cases[\"France\"].iloc[:France_gap]))\n",
        "y_trn_IT = np.log(np.array(cases[\"Italy\"].iloc[:Italy_gap]))"
      ],
      "execution_count": 0,
      "outputs": []
    },
    {
      "cell_type": "code",
      "metadata": {
        "id": "v6g5GIR7mkTV",
        "colab_type": "code",
        "outputId": "2a020cdf-8420-4afd-b2b0-923ff441e443",
        "colab": {
          "base_uri": "https://localhost:8080/",
          "height": 141
        }
      },
      "source": [
        "cases['France'].head()"
      ],
      "execution_count": 87,
      "outputs": [
        {
          "output_type": "execute_result",
          "data": {
            "text/plain": [
              "date\n",
              "2020-03-03    178\n",
              "2020-03-04    212\n",
              "2020-03-05    285\n",
              "2020-03-06    423\n",
              "2020-03-07    613\n",
              "Name: France, dtype: int64"
            ]
          },
          "metadata": {
            "tags": []
          },
          "execution_count": 87
        }
      ]
    },
    {
      "cell_type": "code",
      "metadata": {
        "id": "-vxuP8zq6DVQ",
        "colab_type": "code",
        "colab": {}
      },
      "source": [
        "x = np.arange(len(cases[\"Italy\"]))\n",
        "x = x[...,None]"
      ],
      "execution_count": 0,
      "outputs": []
    },
    {
      "cell_type": "code",
      "metadata": {
        "id": "I1W3lW0M6KuT",
        "colab_type": "code",
        "colab": {}
      },
      "source": [
        "from sklearn.linear_model import LinearRegression\n",
        "\n",
        "lm_FR = LinearRegression()\n",
        "lm_FR.fit(x_trn_FR, y_trn_FR)\n",
        "preds_FR = np.exp(lm_FR.predict(x))"
      ],
      "execution_count": 0,
      "outputs": []
    },
    {
      "cell_type": "code",
      "metadata": {
        "id": "JaggyOYL6QSH",
        "colab_type": "code",
        "colab": {}
      },
      "source": [
        "lm_IT = LinearRegression()\n",
        "lm_IT.fit(x_trn_IT, y_trn_IT)\n",
        "preds_IT = np.exp(lm_IT.predict(x))"
      ],
      "execution_count": 0,
      "outputs": []
    },
    {
      "cell_type": "code",
      "metadata": {
        "id": "ijkqWfUV7PSM",
        "colab_type": "code",
        "outputId": "32d58842-6832-4547-a9f5-afb15a9980b1",
        "colab": {
          "base_uri": "https://localhost:8080/",
          "height": 35
        }
      },
      "source": [
        "lm_FR.coef_, lm_IT.coef_"
      ],
      "execution_count": 91,
      "outputs": [
        {
          "output_type": "execute_result",
          "data": {
            "text/plain": [
              "(array([0.26650047]), array([0.27597578]))"
            ]
          },
          "metadata": {
            "tags": []
          },
          "execution_count": 91
        }
      ]
    },
    {
      "cell_type": "code",
      "metadata": {
        "id": "EvAeGqCB6eX5",
        "colab_type": "code",
        "outputId": "939b7118-570f-421e-9f97-10a17dbf261b",
        "colab": {
          "base_uri": "https://localhost:8080/",
          "height": 35
        }
      },
      "source": [
        "lm_FR.score(x_trn_FR, y_trn_FR), lm_IT.score(x_trn_IT, y_trn_IT)"
      ],
      "execution_count": 92,
      "outputs": [
        {
          "output_type": "execute_result",
          "data": {
            "text/plain": [
              "(0.9911926441762691, 0.9833723985103766)"
            ]
          },
          "metadata": {
            "tags": []
          },
          "execution_count": 92
        }
      ]
    },
    {
      "cell_type": "code",
      "metadata": {
        "id": "xtJ9or88apE3",
        "colab_type": "code",
        "colab": {}
      },
      "source": [
        "France = pd.Series()\n",
        "for i in np.arange(len(cases['France'])):\n",
        "  France[(pd.to_datetime(cases['France'].head(1).keys()) + pd.DateOffset(i)).strftime('%m-%d')[0]] = cases['France'][i]"
      ],
      "execution_count": 0,
      "outputs": []
    },
    {
      "cell_type": "code",
      "metadata": {
        "colab_type": "code",
        "id": "dNE5gnIAc3N2",
        "colab": {}
      },
      "source": [
        "Italy = pd.Series()\n",
        "for i in np.arange(len(cases['Italy'])):\n",
        "  Italy[(pd.to_datetime(cases['France'].head(1).keys()) + pd.DateOffset(i)).strftime('%m-%d')[0]] = cases['Italy'][i]"
      ],
      "execution_count": 0,
      "outputs": []
    },
    {
      "cell_type": "code",
      "metadata": {
        "id": "oBcH4vt3rc6_",
        "colab_type": "code",
        "outputId": "32b63b37-bb25-4fc6-e3ec-8b87f955cc80",
        "colab": {
          "base_uri": "https://localhost:8080/",
          "height": 35
        }
      },
      "source": [
        "(pd.to_datetime(cases['Italy'].head(1).keys()) - pd.to_datetime(cases['France'].head(1).keys()))[0]"
      ],
      "execution_count": 95,
      "outputs": [
        {
          "output_type": "execute_result",
          "data": {
            "text/plain": [
              "Timedelta('-8 days +00:00:00')"
            ]
          },
          "metadata": {
            "tags": []
          },
          "execution_count": 95
        }
      ]
    },
    {
      "cell_type": "code",
      "metadata": {
        "id": "cU0lOhkL7Msl",
        "colab_type": "code",
        "outputId": "da2a78fe-4bf3-46ea-fb2d-05e9bac9e738",
        "colab": {
          "base_uri": "https://localhost:8080/",
          "height": 35
        }
      },
      "source": [
        "from sklearn.pipeline import make_pipeline\n",
        "from sklearn.preprocessing import PolynomialFeatures\n",
        "from sklearn.preprocessing import FunctionTransformer\n",
        "\n",
        "plm_FR = make_pipeline(\n",
        "    PolynomialFeatures(degree=2),\n",
        "    LinearRegression()\n",
        ")\n",
        "plm_FR.fit(x_trn_FR, y_trn_FR)\n",
        "print(f\"Score: {plm_FR.score(x_trn_FR, y_trn_FR):.3f}\")\n",
        "preds_square_FR = np.exp(plm_FR.predict(x))"
      ],
      "execution_count": 96,
      "outputs": [
        {
          "output_type": "stream",
          "text": [
            "Score: 0.998\n"
          ],
          "name": "stdout"
        }
      ]
    },
    {
      "cell_type": "code",
      "metadata": {
        "id": "v0lFO8Yn9IMo",
        "colab_type": "code",
        "outputId": "b1dd494e-0996-4a0f-bc05-77cdfde7206e",
        "colab": {
          "base_uri": "https://localhost:8080/",
          "height": 35
        }
      },
      "source": [
        "plm_IT = make_pipeline(\n",
        "    PolynomialFeatures(degree=2),\n",
        "    LinearRegression()\n",
        ")\n",
        "plm_IT.fit(x_trn_IT, y_trn_IT)\n",
        "print(f\"Score: {plm_IT.score(x_trn_IT, y_trn_IT):.3f}\")\n",
        "preds_square_IT = np.exp(plm_IT.predict(x))"
      ],
      "execution_count": 97,
      "outputs": [
        {
          "output_type": "stream",
          "text": [
            "Score: 0.997\n"
          ],
          "name": "stdout"
        }
      ]
    },
    {
      "cell_type": "code",
      "metadata": {
        "colab_type": "code",
        "outputId": "4ada250e-3727-4ecc-b667-9589f7d0caa0",
        "id": "jHvRFcUp_aos",
        "colab": {
          "base_uri": "https://localhost:8080/",
          "height": 35
        }
      },
      "source": [
        "len(x_trn_FR)"
      ],
      "execution_count": 98,
      "outputs": [
        {
          "output_type": "execute_result",
          "data": {
            "text/plain": [
              "15"
            ]
          },
          "metadata": {
            "tags": []
          },
          "execution_count": 98
        }
      ]
    },
    {
      "cell_type": "code",
      "metadata": {
        "id": "TX6p9QudnJYr",
        "colab_type": "code",
        "outputId": "8eff2580-8cd2-4293-e55d-ba3b1a573590",
        "colab": {
          "base_uri": "https://localhost:8080/",
          "height": 479
        }
      },
      "source": [
        "fig, ax = plt.subplots(figsize=(10,7))\n",
        "\n",
        "plt.plot(Italy, label='Italy (-8 days)', linewidth=2, color='C1', marker='o')\n",
        "plt.plot(France, label='France', linewidth=2, color='C0', marker='o')\n",
        "\n",
        "# ax.plot(x, preds_square_FR, label=\"Do nothing square (France)\", linewidth=2, color='C0', linestyle='dashed')\n",
        "# ax.plot(x, preds_square_IT, label=\"Do nothing square (Italy)\", linewidth=2, color='C1', linestyle='dashed')\n",
        "ax.plot(x, preds_FR, label=\"Do nothing (France)\", linewidth=2, color='C0', linestyle='dashed')\n",
        "ax.plot(x, preds_IT, label=\"Do nothing (Italy (-8 days))\", linewidth=2, color='C1', linestyle='dashed')\n",
        "\n",
        "plt.axvline(France_gap, color='C0', linestyle='dashed')\n",
        "plt.axvline(Italy_gap, color='C1', linestyle='dashed')\n",
        "plt.axvline(Italy_gap_schools, color='C1', linestyle='dashed')\n",
        "plt.axvline(France_gap_schools, color='C0', linestyle='dashed')\n",
        "\n",
        "plt.annotate('<-  Italy lockdown', (Italy_gap,2500.0), xytext=(Italy_gap+0.2,2500.0), color='C1', fontsize='x-large', fontweight='bold')\n",
        "plt.annotate('<-  France lockdown', (France_gap,1000.0), xytext=(France_gap+0.2,1000.0), color='C0', fontsize='x-large', fontweight='bold')\n",
        "plt.annotate('Italy closes schools\\n     and universities ->', (Italy_gap_schools,27000.0), \\\n",
        "             xytext=(Italy_gap_schools-8.1,10000.0), color='C1', fontsize='x-large', fontweight='bold')\n",
        "plt.annotate('France closes schools\\n       and universities ->', (France_gap_schools,23000.0), \\\n",
        "             xytext=(France_gap_schools-8.6,300.0), color='C0', fontsize='x-large', fontweight='bold')\n",
        "\n",
        "ax.set_title('COVID-19: Number of confirmed cases', fontsize='x-large')\n",
        "ax.set_xlabel('date (month-day)', fontsize='x-large')\n",
        "ax.set_ylabel('number of confirmed cases', fontsize='x-large')\n",
        "ax.legend(fontsize='x-large')\n",
        "\n",
        "ax.set_xticks(np.arange(0, len(Italy.keys()),1))\n",
        "plt.xticks(rotation=90)\n",
        "plt.yscale(\"log\")\n",
        "plt.savefig(\"2020-03-23-COVID-19-Confirmed-Cases-France-Italy.png\", format='png', dvi=500)"
      ],
      "execution_count": 101,
      "outputs": [
        {
          "output_type": "display_data",
          "data": {
            "image/png": "[encoded data removed]",
            "text/plain": [
              "<Figure size 720x504 with 1 Axes>"
            ]
          },
          "metadata": {
            "tags": []
          }
        }
      ]
    },
    {
      "cell_type": "code",
      "metadata": {
        "id": "sQLEwutAEqkO",
        "colab_type": "code",
        "colab": {}
      },
      "source": [
        "from google.colab import files\n",
        "files.download(\"2020-03-23-COVID-19-Confirmed-Cases-France-Italy.png\")"
      ],
      "execution_count": 0,
      "outputs": []
    },
    {
      "cell_type": "code",
      "metadata": {
        "id": "6i5HYhH1S1hi",
        "colab_type": "code",
        "colab": {}
      },
      "source": [
        "fig, ax = plt.subplots(figsize=(10,7))\n",
        "\n",
        "plt.plot(Italy, label='Italy (-8 days)', linewidth=2, color='C1', marker='o')\n",
        "plt.plot(France, label='France', linewidth=2, color='C0', marker='o')\n",
        "\n",
        "ax.plot(x, preds_FR, label=\"Do nothing (France)\", linewidth=2, color='C0', linestyle='dashed')\n",
        "ax.plot(x, preds_IT, label=\"Do nothing (Italy)\", linewidth=2, color='C1', linestyle='dashed')\n",
        "\n",
        "plt.axvline(France_gap, color='C0', linestyle='dashed')\n",
        "plt.axvline(Italy_gap, color='C1', linestyle='dashed')\n",
        "plt.axvline(Italy_gap_schools, color='C1', linestyle='dashed')\n",
        "plt.axvline(France_gap_schools, color='C0', linestyle='dashed')\n",
        "\n",
        "plt.annotate('<-  Italy lockdown', (Italy_gap,45000.0), xytext=(Italy_gap+0.2,45000.0), color='C1', fontsize='x-large', fontweight='bold')\n",
        "plt.annotate('<-  France lockdown', (France_gap,35000.0), xytext=(France_gap+0.2,35000.0), color='C0', fontsize='x-large', fontweight='bold')\n",
        "plt.annotate('Italy closes schools\\n     and universities ->', (Italy_gap_schools,45000.0), \\\n",
        "             xytext=(Italy_gap_schools-8.1,45000.0), color='C1', fontsize='x-large', fontweight='bold')\n",
        "plt.annotate('France closes schools\\n       and universities ->', (France_gap_schools,35000.0), \\\n",
        "             xytext=(France_gap_schools-8.6,35000.0), color='C0', fontsize='x-large', fontweight='bold')\n",
        "\n",
        "ax.set_title('COVID-19: Number of known cases', fontsize='x-large')\n",
        "ax.set_xlabel('dates (month-day)', fontsize='x-large')\n",
        "ax.set_ylabel('number of known cases', fontsize='x-large')\n",
        "ax.legend(fontsize='x-large')\n",
        "\n",
        "ax.set_xticks(np.arange(0, len(Italy.keys()),1))\n",
        "plt.xticks(rotation=90)\n",
        "plt.show()"
      ],
      "execution_count": 0,
      "outputs": []
    },
    {
      "cell_type": "code",
      "metadata": {
        "id": "-Ig4Zxgg66YV",
        "colab_type": "code",
        "colab": {}
      },
      "source": [
        ""
      ],
      "execution_count": 0,
      "outputs": []
    }
  ]
}