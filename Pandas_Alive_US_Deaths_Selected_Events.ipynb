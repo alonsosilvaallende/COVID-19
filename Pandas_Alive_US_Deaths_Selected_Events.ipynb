{
  "nbformat": 4,
  "nbformat_minor": 0,
  "metadata": {
    "colab": {
      "name": "Pandas-Alive-US-Deaths-Selected-Events.ipynb",
      "provenance": [],
      "collapsed_sections": [],
      "authorship_tag": "ABX9TyPuB6hlEMYu5N8B9ddYy4Zt",
      "include_colab_link": true
    },
    "kernelspec": {
      "name": "python3",
      "display_name": "Python 3"
    }
  },
  "cells": [
    {
      "cell_type": "markdown",
      "metadata": {
        "id": "view-in-github",
        "colab_type": "text"
      },
      "source": [
        "<a href=\"https://colab.research.google.com/github/alonsosilvaallende/COVID-19/blob/master/Pandas_Alive_US_Deaths_Selected_Events.ipynb\" target=\"_parent\"><img src=\"https://colab.research.google.com/assets/colab-badge.svg\" alt=\"Open In Colab\"/></a>"
      ]
    },
    {
      "cell_type": "code",
      "metadata": {
        "id": "bOTaiOp47lde",
        "colab_type": "code",
        "colab": {}
      },
      "source": [
        "import numpy as np\n",
        "import matplotlib.pyplot as plt\n",
        "import pandas as pd\n",
        "plt.style.use('seaborn')"
      ],
      "execution_count": 0,
      "outputs": []
    },
    {
      "cell_type": "code",
      "metadata": {
        "id": "l_DsfoLr7uLA",
        "colab_type": "code",
        "colab": {}
      },
      "source": [
        "# OurWorldinData data from ECDC\n",
        "full_data = pd.read_csv(\"https://covid.ourworldindata.org/data/ecdc/full_data.csv\", index_col='date')"
      ],
      "execution_count": 0,
      "outputs": []
    },
    {
      "cell_type": "code",
      "metadata": {
        "id": "OoaiawvQ9PEL",
        "colab_type": "code",
        "colab": {}
      },
      "source": [
        "full_data.index = full_data.index.astype('<M8[ns]')"
      ],
      "execution_count": 0,
      "outputs": []
    },
    {
      "cell_type": "code",
      "metadata": {
        "id": "vkcuPpZP72CP",
        "colab_type": "code",
        "colab": {}
      },
      "source": [
        "United_States = full_data.query(\"location == 'United States'\")"
      ],
      "execution_count": 0,
      "outputs": []
    },
    {
      "cell_type": "code",
      "metadata": {
        "id": "VyA6A2r975sx",
        "colab_type": "code",
        "colab": {}
      },
      "source": [
        "# Numbers from Wikipedia\n",
        "data = pd.DataFrame()\n",
        "data['date'] = United_States[United_States['total_deaths']>0].reset_index()['date']\n",
        "data['Covid-19'] = United_States[United_States['total_deaths']>0].reset_index()['total_deaths']\n",
        "data['Vietnam War'] = 58209*np.ones(len(data))\n",
        "data['Korean War'] = 54246*np.ones(len(data))\n",
        "data['American Revolution'] = 25000*np.ones(len(data))\n",
        "data['War of 1812'] = 15000*np.ones(len(data))\n",
        "data['1900 Galveston Hurricane'] = 8000*np.ones(len(data))\n",
        "data['Iraq War'] = 4497*np.ones(len(data))\n",
        "data['1906 Earthquake'] = 3000*np.ones(len(data))\n",
        "data['9/11'] = 2997*np.ones(len(data))\n",
        "data['Hurricane Maria'] = 2982*np.ones(len(data))\n",
        "data['Pearl Harbor'] = 2467*np.ones(len(data))\n",
        "data['War in Afghanistan'] = 2216*np.ones(len(data))\n",
        "data['Hurricane Katrina'] = 1836*np.ones(len(data))\n",
        "data['Jonestown'] = 918*np.ones(len(data))\n",
        "# data['World War I'] = 116516*np.ones(len(data))\n",
        "# data['World War II'] = 405399*np.ones(len(data))\n",
        "# data['1918 Flu'] = 675000*np.ones(len(data))\n",
        "# data['Civil War'] = 750000*np.ones(len(data))\n",
        "data = data.set_index('date')"
      ],
      "execution_count": 0,
      "outputs": []
    },
    {
      "cell_type": "code",
      "metadata": {
        "id": "O8ea_GA-797f",
        "colab_type": "code",
        "colab": {}
      },
      "source": [
        "!pip install -q pandas-alive"
      ],
      "execution_count": 0,
      "outputs": []
    },
    {
      "cell_type": "code",
      "metadata": {
        "id": "NIcbZJj38FJJ",
        "colab_type": "code",
        "colab": {
          "base_uri": "https://localhost:8080/",
          "height": 35
        },
        "outputId": "d0f53713-cfae-45ac-f6f1-db310e3649fe"
      },
      "source": [
        "import pandas_alive\n",
        "print(pandas_alive.version)"
      ],
      "execution_count": 12,
      "outputs": [
        {
          "output_type": "stream",
          "text": [
            "0.1.8\n"
          ],
          "name": "stdout"
        }
      ]
    },
    {
      "cell_type": "code",
      "metadata": {
        "id": "2V2QXaUZ8Iul",
        "colab_type": "code",
        "colab": {}
      },
      "source": [
        "animated_line_chart = data.fillna(0).plot_animated(kind='line',period_length=200,show_period_annotation=False,figsize=(12,8), dpi=800)"
      ],
      "execution_count": 0,
      "outputs": []
    },
    {
      "cell_type": "code",
      "metadata": {
        "id": "wz1GgK-P8SrW",
        "colab_type": "code",
        "colab": {}
      },
      "source": [
        "animated_bar_chart = data.plot_animated(kind='barh',period_length=200,figsize=(12,8),dpi=800)"
      ],
      "execution_count": 0,
      "outputs": []
    },
    {
      "cell_type": "code",
      "metadata": {
        "id": "KZVcJgAU86Jy",
        "colab_type": "code",
        "colab": {
          "base_uri": "https://localhost:8080/",
          "height": 361
        },
        "outputId": "67db8a7a-5ee1-499b-e0be-0b04046f2da2"
      },
      "source": [
        "pandas_alive.animate_multiple_plots('example-bar-and-line-chart.mp4', plots=[animated_bar_chart,animated_line_chart], title=\"Deaths in selected events in the US as of May 4\",adjust_subplot_left=0.2)"
      ],
      "execution_count": 10,
      "outputs": [
        {
          "output_type": "stream",
          "text": [
            "/usr/local/lib/python3.6/dist-packages/pandas_alive/charts.py:729: UserWarning: Attempting to set identical left == right == 737485.0 results in singular transformations; automatically expanding.\n",
            "  self.ax.set_xlim(self.df.index[: i + 1].min(), self.df.index[: i + 1].max())\n"
          ],
          "name": "stderr"
        },
        {
          "output_type": "display_data",
          "data": {
            "image/png": "[encoded data removed]",
            "text/plain": [
              "<Figure size 432x288 with 2 Axes>"
            ]
          },
          "metadata": {
            "tags": [],
            "needs_background": "light"
          }
        }
      ]
    },
    {
      "cell_type": "code",
      "metadata": {
        "id": "mHlQF8HV-TWp",
        "colab_type": "code",
        "colab": {}
      },
      "source": [
        "from google.colab import files\n",
        "files.download(\"example-bar-and-line-chart.mp4\")"
      ],
      "execution_count": 0,
      "outputs": []
    },
    {
      "cell_type": "code",
      "metadata": {
        "id": "1r_rbHy3_FON",
        "colab_type": "code",
        "colab": {}
      },
      "source": [
        ""
      ],
      "execution_count": 0,
      "outputs": []
    }
  ]
}