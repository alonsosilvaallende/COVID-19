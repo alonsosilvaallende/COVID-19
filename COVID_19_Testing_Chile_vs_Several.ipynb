{
  "nbformat": 4,
  "nbformat_minor": 0,
  "metadata": {
    "colab": {
      "name": "COVID-19-Testing-Chile-vs-Several.ipynb",
      "provenance": [],
      "collapsed_sections": [],
      "authorship_tag": "ABX9TyPkklpA7c0nV4aGYdRh63wr",
      "include_colab_link": true
    },
    "kernelspec": {
      "name": "python3",
      "display_name": "Python 3"
    }
  },
  "cells": [
    {
      "cell_type": "markdown",
      "metadata": {
        "id": "view-in-github",
        "colab_type": "text"
      },
      "source": [
        "<a href=\"https://colab.research.google.com/github/alonsosilvaallende/COVID-19/blob/master/COVID_19_Testing_Chile_vs_Several.ipynb\" target=\"_parent\"><img src=\"https://colab.research.google.com/assets/colab-badge.svg\" alt=\"Open In Colab\"/></a>"
      ]
    },
    {
      "cell_type": "code",
      "metadata": {
        "id": "cw85wrghvjFd",
        "colab_type": "code",
        "colab": {}
      },
      "source": [
        "import numpy as np\n",
        "import matplotlib.pyplot as plt\n",
        "import pandas as pd\n",
        "plt.style.use('seaborn')"
      ],
      "execution_count": 0,
      "outputs": []
    },
    {
      "cell_type": "code",
      "metadata": {
        "id": "84JvZh2aLc30",
        "colab_type": "code",
        "colab": {}
      },
      "source": [
        "TIPPING_POINT = 100"
      ],
      "execution_count": 0,
      "outputs": []
    },
    {
      "cell_type": "markdown",
      "metadata": {
        "id": "lSG09v5Y-GLY",
        "colab_type": "text"
      },
      "source": [
        "# Get the date for each country at which the tipping point was reached."
      ]
    },
    {
      "cell_type": "code",
      "metadata": {
        "id": "bvt5rtUEyqDf",
        "colab_type": "code",
        "colab": {}
      },
      "source": [
        "full_data = pd.read_csv(\"https://covid.ourworldindata.org/data/ecdc/full_data.csv\", index_col='date')"
      ],
      "execution_count": 0,
      "outputs": []
    },
    {
      "cell_type": "code",
      "metadata": {
        "id": "NAuWf9qxyrtS",
        "colab_type": "code",
        "colab": {}
      },
      "source": [
        "Chile = full_data.query(\"location == 'Chile'\")\n",
        "South_Korea = full_data.query(\"location == 'South Korea'\")\n",
        "United_States = full_data.query(\"location == 'United States'\")"
      ],
      "execution_count": 0,
      "outputs": []
    },
    {
      "cell_type": "code",
      "metadata": {
        "id": "QztHcvg2ywJT",
        "colab_type": "code",
        "colab": {}
      },
      "source": [
        "date_since_TP_CL = Chile[\"total_cases\"][Chile[\"total_cases\"]>=TIPPING_POINT].keys()[0]\n",
        "date_since_TP_SK = South_Korea[\"total_cases\"][South_Korea[\"total_cases\"]>=TIPPING_POINT].keys()[0]\n",
        "date_since_TP_US = United_States[\"total_cases\"][United_States[\"total_cases\"]>=TIPPING_POINT].keys()[0]"
      ],
      "execution_count": 0,
      "outputs": []
    },
    {
      "cell_type": "code",
      "metadata": {
        "id": "LWnZfJdxy_Sx",
        "colab_type": "code",
        "colab": {
          "base_uri": "https://localhost:8080/",
          "height": 35
        },
        "outputId": "bb30271d-2961-4d7b-b29b-d824599bc8ff"
      },
      "source": [
        "date_since_TP_CL, date_since_TP_SK, date_since_TP_US"
      ],
      "execution_count": 6,
      "outputs": [
        {
          "output_type": "execute_result",
          "data": {
            "text/plain": [
              "('2020-03-17', '2020-02-21', '2020-03-03')"
            ]
          },
          "metadata": {
            "tags": []
          },
          "execution_count": 6
        }
      ]
    },
    {
      "cell_type": "markdown",
      "metadata": {
        "id": "4_xYNOVWMda_",
        "colab_type": "text"
      },
      "source": [
        "# Get the total number of tests per million people of South Korea and the United States"
      ]
    },
    {
      "cell_type": "markdown",
      "metadata": {
        "id": "MR9EBmNNNy06",
        "colab_type": "text"
      },
      "source": [
        "Download the file from Our World in Data ( https://ourworldindata.org/grapher/cumulative-total-tests-per-million ) and add it to your Google Drive."
      ]
    },
    {
      "cell_type": "code",
      "metadata": {
        "id": "1EcGR_ULvkpc",
        "colab_type": "code",
        "colab": {
          "base_uri": "https://localhost:8080/",
          "height": 35
        },
        "outputId": "fc859025-5185-48bd-bafd-36d6e0dff9fb"
      },
      "source": [
        "from google.colab import drive\n",
        "drive.mount('/content/gdrive')"
      ],
      "execution_count": 7,
      "outputs": [
        {
          "output_type": "stream",
          "text": [
            "Drive already mounted at /content/gdrive; to attempt to forcibly remount, call drive.mount(\"/content/gdrive\", force_remount=True).\n"
          ],
          "name": "stdout"
        }
      ]
    },
    {
      "cell_type": "code",
      "metadata": {
        "id": "D57Kpcfrvnpf",
        "colab_type": "code",
        "colab": {}
      },
      "source": [
        "tests_raw = pd.read_csv(\"gdrive/My Drive/cumulative-total-tests-per-million.csv\")"
      ],
      "execution_count": 0,
      "outputs": []
    },
    {
      "cell_type": "code",
      "metadata": {
        "id": "7YkqkQnAv4Wg",
        "colab_type": "code",
        "colab": {
          "base_uri": "https://localhost:8080/",
          "height": 143
        },
        "outputId": "2fb2bb50-2c9a-455d-8ed0-954eb300d74f"
      },
      "source": [
        "tests_raw.head(3)"
      ],
      "execution_count": 9,
      "outputs": [
        {
          "output_type": "execute_result",
          "data": {
            "text/html": [
              "<div>\n",
              "<style scoped>\n",
              "    .dataframe tbody tr th:only-of-type {\n",
              "        vertical-align: middle;\n",
              "    }\n",
              "\n",
              "    .dataframe tbody tr th {\n",
              "        vertical-align: top;\n",
              "    }\n",
              "\n",
              "    .dataframe thead th {\n",
              "        text-align: right;\n",
              "    }\n",
              "</style>\n",
              "<table border=\"1\" class=\"dataframe\">\n",
              "  <thead>\n",
              "    <tr style=\"text-align: right;\">\n",
              "      <th></th>\n",
              "      <th>Entity</th>\n",
              "      <th>Code</th>\n",
              "      <th>Date</th>\n",
              "      <th>Cumulative total tests per million</th>\n",
              "    </tr>\n",
              "  </thead>\n",
              "  <tbody>\n",
              "    <tr>\n",
              "      <th>0</th>\n",
              "      <td>South Korea - cases tested</td>\n",
              "      <td>NaN</td>\n",
              "      <td>Jan 21, 2020</td>\n",
              "      <td>0.23</td>\n",
              "    </tr>\n",
              "    <tr>\n",
              "      <th>1</th>\n",
              "      <td>South Korea - cases tested</td>\n",
              "      <td>NaN</td>\n",
              "      <td>Jan 22, 2020</td>\n",
              "      <td>0.33</td>\n",
              "    </tr>\n",
              "    <tr>\n",
              "      <th>2</th>\n",
              "      <td>South Korea - cases tested</td>\n",
              "      <td>NaN</td>\n",
              "      <td>Jan 23, 2020</td>\n",
              "      <td>0.00</td>\n",
              "    </tr>\n",
              "  </tbody>\n",
              "</table>\n",
              "</div>"
            ],
            "text/plain": [
              "                       Entity  ...  Cumulative total tests per million\n",
              "0  South Korea - cases tested  ...                                0.23\n",
              "1  South Korea - cases tested  ...                                0.33\n",
              "2  South Korea - cases tested  ...                                0.00\n",
              "\n",
              "[3 rows x 4 columns]"
            ]
          },
          "metadata": {
            "tags": []
          },
          "execution_count": 9
        }
      ]
    },
    {
      "cell_type": "code",
      "metadata": {
        "id": "M27-RrNUBB7u",
        "colab_type": "code",
        "colab": {
          "base_uri": "https://localhost:8080/",
          "height": 70
        },
        "outputId": "3651359e-b9b1-4f3d-9744-19b3874aa8dc"
      },
      "source": [
        "tests_raw['Entity'].unique()"
      ],
      "execution_count": 10,
      "outputs": [
        {
          "output_type": "execute_result",
          "data": {
            "text/plain": [
              "array(['South Korea - cases tested',\n",
              "       'United States (COVID Tracking Project)',\n",
              "       'United States - Specimens tested (CDC)'], dtype=object)"
            ]
          },
          "metadata": {
            "tags": []
          },
          "execution_count": 10
        }
      ]
    },
    {
      "cell_type": "code",
      "metadata": {
        "id": "aR51shS3wYjO",
        "colab_type": "code",
        "colab": {}
      },
      "source": [
        "SK_tests_raw = tests_raw.query(\"Entity == 'South Korea - cases tested'\")\n",
        "US_tests_raw = tests_raw.query(\"Entity == 'United States (COVID Tracking Project)'\")"
      ],
      "execution_count": 0,
      "outputs": []
    },
    {
      "cell_type": "code",
      "metadata": {
        "id": "Hnsz1UtK_6hS",
        "colab_type": "code",
        "colab": {}
      },
      "source": [
        "data_starting_date_SK = SK_tests_raw['Date'].iloc[0]\n",
        "data_starting_date_US = US_tests_raw['Date'].iloc[0]"
      ],
      "execution_count": 0,
      "outputs": []
    },
    {
      "cell_type": "code",
      "metadata": {
        "id": "zVtv5V-ICOau",
        "colab_type": "code",
        "colab": {}
      },
      "source": [
        "delta_time_SK = pd.to_datetime(date_since_TP_SK) - pd.to_datetime(data_starting_date_SK)\n",
        "delta_time_US = pd.to_datetime(date_since_TP_US) - pd.to_datetime(data_starting_date_US)"
      ],
      "execution_count": 0,
      "outputs": []
    },
    {
      "cell_type": "code",
      "metadata": {
        "id": "7zdyqb_fDhvV",
        "colab_type": "code",
        "colab": {}
      },
      "source": [
        "SK_total_tests_raw = SK_tests_raw['Cumulative total tests per million']\n",
        "US_total_tests_raw = US_tests_raw['Cumulative total tests per million']"
      ],
      "execution_count": 0,
      "outputs": []
    },
    {
      "cell_type": "code",
      "metadata": {
        "id": "AbiRLJ0tDxy-",
        "colab_type": "code",
        "colab": {}
      },
      "source": [
        "US_total_tests = {}\n",
        "if delta_time_US.days<0:\n",
        "  for i in np.arange(0,np.abs(delta_time_US.days),1):\n",
        "    US_total_tests[i] = 0.0\n",
        "  for i in np.arange(np.abs(delta_time_US.days), len(US_total_tests_raw)+np.abs(delta_time_US.days), 1):\n",
        "    US_total_tests[i] = US_total_tests_raw.iloc[i-np.abs(delta_time_US.days)]\n",
        "else:\n",
        "  US_total_tests = US_total_tests_raw.iloc[delta_time_US.days:].reset_index(drop=True)\n",
        "US_total_tests = pd.Series(US_total_tests)"
      ],
      "execution_count": 0,
      "outputs": []
    },
    {
      "cell_type": "code",
      "metadata": {
        "id": "iiFLZRuhHwC6",
        "colab_type": "code",
        "colab": {}
      },
      "source": [
        "SK_total_tests = {}\n",
        "if delta_time_SK.days<0:\n",
        "  for i in np.arange(0,np.abs(delta_time_SK.days),1):\n",
        "    SK_total_tests[i] = 0.0\n",
        "  for i in np.arange(np.abs(delta_time_SK.days), len(SK_total_tests_raw)+np.abs(delta_time_SK.days), 1):\n",
        "    SK_total_tests[i] = SK_total_tests_raw.iloc[i-np.abs(delta_time_SK.days)]\n",
        "else:\n",
        "  SK_total_tests = SK_total_tests_raw.iloc[delta_time_SK.days:].reset_index(drop=True)\n",
        "SK_total_tests = pd.Series(SK_total_tests)"
      ],
      "execution_count": 0,
      "outputs": []
    },
    {
      "cell_type": "markdown",
      "metadata": {
        "id": "786lBFMWM30R",
        "colab_type": "text"
      },
      "source": [
        "# Add the total number of tests per million people from Chile"
      ]
    },
    {
      "cell_type": "code",
      "metadata": {
        "id": "pGATIHWs68vf",
        "colab_type": "code",
        "colab": {}
      },
      "source": [
        "Chile_dict = {\n",
        "    '2020-03-27': 23105,\n",
        "    '2020-03-29': 28416,\n",
        "    '2020-03-30': 32096,\n",
        "    '2020-03-31': 35142\n",
        "}"
      ],
      "execution_count": 0,
      "outputs": []
    },
    {
      "cell_type": "code",
      "metadata": {
        "id": "LcjiiR6bJbkD",
        "colab_type": "code",
        "colab": {}
      },
      "source": [
        "Chile_tests_raw = pd.Series(Chile_dict)"
      ],
      "execution_count": 0,
      "outputs": []
    },
    {
      "cell_type": "code",
      "metadata": {
        "id": "Ze_ZXH5yJhGD",
        "colab_type": "code",
        "colab": {
          "base_uri": "https://localhost:8080/",
          "height": 105
        },
        "outputId": "42c9b740-7494-4f98-e667-fc0d05c1c82d"
      },
      "source": [
        "Chile_tests_raw"
      ],
      "execution_count": 19,
      "outputs": [
        {
          "output_type": "execute_result",
          "data": {
            "text/plain": [
              "2020-03-27    23105\n",
              "2020-03-29    28416\n",
              "2020-03-30    32096\n",
              "2020-03-31    35142\n",
              "dtype: int64"
            ]
          },
          "metadata": {
            "tags": []
          },
          "execution_count": 19
        }
      ]
    },
    {
      "cell_type": "code",
      "metadata": {
        "id": "TlH0U9vfJz7h",
        "colab_type": "code",
        "colab": {}
      },
      "source": [
        "Chile_total_tests = {}\n",
        "for i in np.arange(len(Chile_tests_raw)):\n",
        "  gap = (pd.to_datetime(Chile_tests_raw.keys()[i]) - pd.to_datetime(date_since_TP_CL)).days\n",
        "  Chile_total_tests[gap] = Chile_tests_raw.iloc[i]\n",
        "Chile_total_tests = pd.Series(Chile_total_tests)"
      ],
      "execution_count": 0,
      "outputs": []
    },
    {
      "cell_type": "code",
      "metadata": {
        "id": "KhLgN4W0LlYU",
        "colab_type": "code",
        "colab": {
          "base_uri": "https://localhost:8080/",
          "height": 105
        },
        "outputId": "01094708-2eaa-4296-a2a3-1d158a7e8f07"
      },
      "source": [
        "Chile_total_tests"
      ],
      "execution_count": 21,
      "outputs": [
        {
          "output_type": "execute_result",
          "data": {
            "text/plain": [
              "10    23105\n",
              "12    28416\n",
              "13    32096\n",
              "14    35142\n",
              "dtype: int64"
            ]
          },
          "metadata": {
            "tags": []
          },
          "execution_count": 21
        }
      ]
    },
    {
      "cell_type": "code",
      "metadata": {
        "id": "JiKTom_fNJ5U",
        "colab_type": "code",
        "colab": {}
      },
      "source": [
        "Chile_population = 19"
      ],
      "execution_count": 0,
      "outputs": []
    },
    {
      "cell_type": "code",
      "metadata": {
        "id": "mrU-sA8FNEPK",
        "colab_type": "code",
        "colab": {}
      },
      "source": [
        "Chile_total_tests = Chile_total_tests/Chile_population"
      ],
      "execution_count": 0,
      "outputs": []
    },
    {
      "cell_type": "markdown",
      "metadata": {
        "id": "Qo23qNj1NPQq",
        "colab_type": "text"
      },
      "source": [
        "# Make the plot"
      ]
    },
    {
      "cell_type": "code",
      "metadata": {
        "id": "XZfKqWktz71K",
        "colab_type": "code",
        "colab": {
          "base_uri": "https://localhost:8080/",
          "height": 478
        },
        "outputId": "5420108c-b2b6-45b3-cc07-717dfd043b05"
      },
      "source": [
        "fig, ax = plt.subplots(figsize=(10,7))\n",
        "plt.plot(SK_total_tests, linewidth=2, marker='o', label='South Korea')\n",
        "plt.plot(US_total_tests, linewidth=2, marker='o', label='United States')\n",
        "plt.scatter(Chile_total_tests.keys(), Chile_total_tests, color='C2', label='Chile')\n",
        "plt.annotate('Fuente: KCDC, COVID Tracking Project (Our World in Data). Ministerio de Salud de Chile.', (0,0), (-80,-40), fontsize=10, xycoords='axes fraction', textcoords='offset points', va='top')\n",
        "plt.legend(fontsize='x-large')\n",
        "plt.title('COVID-19: Número total de tests por millón de habitantes', fontsize='x-large')\n",
        "plt.ylabel('número total de tests por millón de habitantes', fontsize='x-large')\n",
        "plt.xlabel('días desde 100 casos confirmados', fontsize='x-large')\n",
        "plt.savefig(\"Chile_SK_US.png\", format='png', dvi=500)"
      ],
      "execution_count": 24,
      "outputs": [
        {
          "output_type": "display_data",
          "data": {
            "image/png": "[encoded data removed]",
            "text/plain": [
              "<Figure size 720x504 with 1 Axes>"
            ]
          },
          "metadata": {
            "tags": []
          }
        }
      ]
    }
  ]
}