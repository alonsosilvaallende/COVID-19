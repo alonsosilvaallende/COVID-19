{
  "nbformat": 4,
  "nbformat_minor": 0,
  "metadata": {
    "colab": {
      "name": "COVID-19-deaths-do-nothing.ipynb",
      "provenance": [],
      "collapsed_sections": [],
      "authorship_tag": "ABX9TyNsbjMfcdnHj7Mn8iH1qZ40",
      "include_colab_link": true
    },
    "kernelspec": {
      "name": "python3",
      "display_name": "Python 3"
    }
  },
  "cells": [
    {
      "cell_type": "markdown",
      "metadata": {
        "id": "view-in-github",
        "colab_type": "text"
      },
      "source": [
        "<a href=\"https://colab.research.google.com/github/alonsosilvaallende/COVID-19/blob/master/COVID_19_deaths_do_nothing.ipynb\" target=\"_parent\"><img src=\"https://colab.research.google.com/assets/colab-badge.svg\" alt=\"Open In Colab\"/></a>"
      ]
    },
    {
      "cell_type": "code",
      "metadata": {
        "id": "YgOlJ-nVSw3_",
        "colab_type": "code",
        "colab": {}
      },
      "source": [
        "import numpy as np\n",
        "import matplotlib.pyplot as plt\n",
        "import pandas as pd\n",
        "plt.style.use('seaborn')"
      ],
      "execution_count": 0,
      "outputs": []
    },
    {
      "cell_type": "code",
      "metadata": {
        "id": "5T1bzjcbTchb",
        "colab_type": "code",
        "colab": {}
      },
      "source": [
        "deaths = pd.read_csv(\"https://covid.ourworldindata.org/data/total_deaths.csv\", index_col='date')"
      ],
      "execution_count": 0,
      "outputs": []
    },
    {
      "cell_type": "code",
      "metadata": {
        "id": "Qc6BtXHC0Kqm",
        "colab_type": "code",
        "outputId": "e3d062d3-457b-4396-bee1-3e974f379933",
        "colab": {
          "base_uri": "https://localhost:8080/",
          "height": 174
        }
      },
      "source": [
        "deaths[[\"France\", \"Italy\", \"Spain\"]].tail(3)"
      ],
      "execution_count": 3,
      "outputs": [
        {
          "output_type": "execute_result",
          "data": {
            "text/html": [
              "<div>\n",
              "<style scoped>\n",
              "    .dataframe tbody tr th:only-of-type {\n",
              "        vertical-align: middle;\n",
              "    }\n",
              "\n",
              "    .dataframe tbody tr th {\n",
              "        vertical-align: top;\n",
              "    }\n",
              "\n",
              "    .dataframe thead th {\n",
              "        text-align: right;\n",
              "    }\n",
              "</style>\n",
              "<table border=\"1\" class=\"dataframe\">\n",
              "  <thead>\n",
              "    <tr style=\"text-align: right;\">\n",
              "      <th></th>\n",
              "      <th>France</th>\n",
              "      <th>Italy</th>\n",
              "      <th>Spain</th>\n",
              "    </tr>\n",
              "    <tr>\n",
              "      <th>date</th>\n",
              "      <th></th>\n",
              "      <th></th>\n",
              "      <th></th>\n",
              "    </tr>\n",
              "  </thead>\n",
              "  <tbody>\n",
              "    <tr>\n",
              "      <th>2020-03-15</th>\n",
              "      <td>91.0</td>\n",
              "      <td>1441.0</td>\n",
              "      <td>136.0</td>\n",
              "    </tr>\n",
              "    <tr>\n",
              "      <th>2020-03-16</th>\n",
              "      <td>127.0</td>\n",
              "      <td>1809.0</td>\n",
              "      <td>288.0</td>\n",
              "    </tr>\n",
              "    <tr>\n",
              "      <th>2020-03-17</th>\n",
              "      <td>148.0</td>\n",
              "      <td>2503.0</td>\n",
              "      <td>309.0</td>\n",
              "    </tr>\n",
              "  </tbody>\n",
              "</table>\n",
              "</div>"
            ],
            "text/plain": [
              "            France   Italy  Spain\n",
              "date                             \n",
              "2020-03-15    91.0  1441.0  136.0\n",
              "2020-03-16   127.0  1809.0  288.0\n",
              "2020-03-17   148.0  2503.0  309.0"
            ]
          },
          "metadata": {
            "tags": []
          },
          "execution_count": 3
        }
      ]
    },
    {
      "cell_type": "code",
      "metadata": {
        "id": "f_NOn1_lsZIF",
        "colab_type": "code",
        "colab": {}
      },
      "source": [
        "list_countries = [\"France\", \"Italy\", \"Spain\"]"
      ],
      "execution_count": 0,
      "outputs": []
    },
    {
      "cell_type": "code",
      "metadata": {
        "id": "GQ5UdkpAsTQ8",
        "colab_type": "code",
        "colab": {}
      },
      "source": [
        "TIPPING_POINT = 10"
      ],
      "execution_count": 0,
      "outputs": []
    },
    {
      "cell_type": "code",
      "metadata": {
        "id": "5tbkR6lbcI4b",
        "colab_type": "code",
        "colab": {}
      },
      "source": [
        "NEXT = 14"
      ],
      "execution_count": 0,
      "outputs": []
    },
    {
      "cell_type": "code",
      "metadata": {
        "id": "UwISSNxd3wMi",
        "colab_type": "code",
        "colab": {}
      },
      "source": [
        "France_lockdown = '2020-03-18'\n",
        "Italy_lockdown = '2020-03-10'\n",
        "Spain_lockdown = '2020-03-15'"
      ],
      "execution_count": 0,
      "outputs": []
    },
    {
      "cell_type": "code",
      "metadata": {
        "id": "8kMDpXgMskZl",
        "colab_type": "code",
        "colab": {}
      },
      "source": [
        "deaths_country = {}\n",
        "for country in list_countries:\n",
        "  deaths_country[country] = deaths[country][deaths[country]> TIPPING_POINT]"
      ],
      "execution_count": 0,
      "outputs": []
    },
    {
      "cell_type": "code",
      "metadata": {
        "id": "kOEmjwS_6Zil",
        "colab_type": "code",
        "outputId": "fe66a7e7-db5d-41d4-c224-5585ba945e75",
        "colab": {
          "base_uri": "https://localhost:8080/",
          "height": 35
        }
      },
      "source": [
        "France_gap = (pd.to_datetime(France_lockdown) - pd.to_datetime(deaths_country[\"France\"].keys()[0])).days\n",
        "Italy_gap = (pd.to_datetime(Italy_lockdown) - pd.to_datetime(deaths_country[\"Italy\"].keys()[0])).days\n",
        "Spain_gap = (pd.to_datetime(Spain_lockdown) - pd.to_datetime(deaths_country[\"Spain\"].keys()[0])).days\n",
        "France_gap, Italy_gap, Spain_gap"
      ],
      "execution_count": 9,
      "outputs": [
        {
          "output_type": "execute_result",
          "data": {
            "text/plain": [
              "(9, 13, 5)"
            ]
          },
          "metadata": {
            "tags": []
          },
          "execution_count": 9
        }
      ]
    },
    {
      "cell_type": "code",
      "metadata": {
        "id": "QXwIQcanLjqB",
        "colab_type": "code",
        "colab": {}
      },
      "source": [
        "x_trn_FR = np.arange(France_gap)\n",
        "x_trn_ES = np.arange(Spain_gap)\n",
        "x_trn_IT = np.arange(Italy_gap)"
      ],
      "execution_count": 0,
      "outputs": []
    },
    {
      "cell_type": "code",
      "metadata": {
        "id": "VhdGJkl0L1DM",
        "colab_type": "code",
        "colab": {}
      },
      "source": [
        "x_trn_FR = x_trn_FR[...,None]\n",
        "x_trn_ES = x_trn_ES[...,None]\n",
        "x_trn_IT = x_trn_IT[...,None]"
      ],
      "execution_count": 0,
      "outputs": []
    },
    {
      "cell_type": "code",
      "metadata": {
        "id": "aX5aEJWpK2qZ",
        "colab_type": "code",
        "colab": {}
      },
      "source": [
        "y_trn_FR = np.log(np.array(deaths_country[\"France\"].iloc[:France_gap]))\n",
        "y_trn_ES = np.log(np.array(deaths_country[\"Spain\"].iloc[:Spain_gap]))\n",
        "y_trn_IT = np.log(np.array(deaths_country[\"Italy\"].iloc[:Italy_gap]))"
      ],
      "execution_count": 0,
      "outputs": []
    },
    {
      "cell_type": "code",
      "metadata": {
        "id": "7zNVceKwMdKo",
        "colab_type": "code",
        "colab": {}
      },
      "source": [
        "x = np.arange(len(deaths_country[\"Italy\"]))\n",
        "x = x[...,None]"
      ],
      "execution_count": 0,
      "outputs": []
    },
    {
      "cell_type": "code",
      "metadata": {
        "id": "PtvW4lHDZ2j1",
        "colab_type": "code",
        "colab": {}
      },
      "source": [
        "x_next_FR = np.arange(len(deaths_country[\"France\"]), len(deaths_country[\"France\"])+NEXT)\n",
        "x_next_IT = np.arange(len(deaths_country[\"Italy\"]), len(deaths_country[\"Italy\"])+NEXT)\n",
        "x_next_ES = np.arange(len(deaths_country[\"Spain\"]), len(deaths_country[\"Spain\"])+NEXT)"
      ],
      "execution_count": 0,
      "outputs": []
    },
    {
      "cell_type": "code",
      "metadata": {
        "id": "cdr7YsO4ai8w",
        "colab_type": "code",
        "colab": {}
      },
      "source": [
        "x_next_FR = x_next_FR[..., None]\n",
        "x_next_IT = x_next_IT[..., None]\n",
        "x_next_ES = x_next_ES[..., None]"
      ],
      "execution_count": 0,
      "outputs": []
    },
    {
      "cell_type": "code",
      "metadata": {
        "id": "jffvb7QHK1H5",
        "colab_type": "code",
        "colab": {}
      },
      "source": [
        "from sklearn.linear_model import LinearRegression\n",
        "\n",
        "lm_FR = LinearRegression()\n",
        "lm_FR.fit(x_trn_FR, y_trn_FR)\n",
        "preds_FR = np.exp(lm_FR.predict(x))\n",
        "preds_next_FR = np.exp(lm_FR.predict(x_next_FR))"
      ],
      "execution_count": 0,
      "outputs": []
    },
    {
      "cell_type": "code",
      "metadata": {
        "id": "4W7L0G4cPHit",
        "colab_type": "code",
        "colab": {}
      },
      "source": [
        "lm_ES = LinearRegression()\n",
        "lm_ES.fit(x_trn_ES, y_trn_ES)\n",
        "preds_ES = np.exp(lm_ES.predict(x))\n",
        "preds_next_ES = np.exp(lm_ES.predict(x_next_ES))"
      ],
      "execution_count": 0,
      "outputs": []
    },
    {
      "cell_type": "code",
      "metadata": {
        "id": "pVXJ1ycTPMP4",
        "colab_type": "code",
        "colab": {}
      },
      "source": [
        "lm_IT = LinearRegression()\n",
        "lm_IT.fit(x_trn_IT, y_trn_IT)\n",
        "preds_IT = np.exp(lm_IT.predict(x))\n",
        "preds_next_IT = np.exp(lm_IT.predict(x_next_IT))"
      ],
      "execution_count": 0,
      "outputs": []
    },
    {
      "cell_type": "markdown",
      "metadata": {
        "id": "d2nmVYVPigqa",
        "colab_type": "text"
      },
      "source": [
        "In logarithmic scale:"
      ]
    },
    {
      "cell_type": "code",
      "metadata": {
        "id": "dKel_PKlYHmQ",
        "colab_type": "code",
        "outputId": "3b26e2ca-4e54-44e0-bfde-eb241b6b6fd1",
        "colab": {
          "base_uri": "https://localhost:8080/",
          "height": 463
        }
      },
      "source": [
        "fig, ax = plt.subplots(figsize=(10,7))\n",
        "for country in list_countries:\n",
        "  ax.plot(np.arange(len(deaths_country[country])),deaths_country[country], label=country, linewidth=2, marker='o')\n",
        "ax.plot(x, preds_FR, label=\"Do nothing (France)\", linewidth=2, color='C0', linestyle='dashed')\n",
        "ax.plot(x, preds_ES, label=\"Do nothing (Spain)\", linewidth=2, color='C2', linestyle='dashed')\n",
        "ax.plot(x, preds_IT, label=\"Do nothing (Italy)\", linewidth=2, color='C1', linestyle='dashed')\n",
        "ax.axvline(Spain_gap, color='C2', linestyle='dashed')\n",
        "ax.axvline(Italy_gap, color='C1', linestyle='dashed')\n",
        "ax.axvline(France_gap, color='C0', linestyle='dashed')\n",
        "ax.annotate('Spain\\n lockdown', (Spain_gap, 10000.0), xytext=(Spain_gap+0.2,10000.0), color='C2', fontsize='x-large', fontweight='bold')\n",
        "ax.annotate('Italy\\n lockdown', (Italy_gap, 30000.0), xytext=(Italy_gap+0.2,30000.0), color='C1', fontsize='x-large', fontweight='bold')\n",
        "ax.annotate('France\\n lockdown', (France_gap, 10000.0), xytext=(France_gap+0.2,10000.0), color='C0', fontsize='x-large', fontweight='bold')\n",
        "ax.set_title(f'COVID-19: Number of deaths vs number of days since {TIPPING_POINT} deaths', fontsize='x-large')\n",
        "ax.set_xlabel(f'number of days since {TIPPING_POINT} deaths', fontsize='x-large')\n",
        "ax.set_ylabel(f'number of deaths', fontsize='x-large')\n",
        "ax.set_xticks(np.arange(len(deaths_country[\"Italy\"])))\n",
        "ax.set_yscale(\"log\")\n",
        "ax.legend(fontsize='x-large')\n",
        "plt.show()"
      ],
      "execution_count": 19,
      "outputs": [
        {
          "output_type": "display_data",
          "data": {
            "image/png": "[encoded data removed]",
            "text/plain": [
              "<Figure size 720x504 with 1 Axes>"
            ]
          },
          "metadata": {
            "tags": []
          }
        }
      ]
    },
    {
      "cell_type": "code",
      "metadata": {
        "id": "bqPeLOJkYRYZ",
        "colab_type": "code",
        "outputId": "b3547e15-0ad5-4a23-d67e-195c78735360",
        "colab": {
          "base_uri": "https://localhost:8080/",
          "height": 70
        }
      },
      "source": [
        "print(f\"Slope for France: {lm_FR.coef_[0]:.2f}\")\n",
        "print(f\"Slope for Italy: {lm_IT.coef_[0]:.2f}\")\n",
        "print(f\"Slope for Spain: {lm_ES.coef_[0]:.2f}\")"
      ],
      "execution_count": 20,
      "outputs": [
        {
          "output_type": "stream",
          "text": [
            "Slope for France: 0.25\n",
            "Slope for Italy: 0.30\n",
            "Slope for Spain: 0.38\n"
          ],
          "name": "stdout"
        }
      ]
    },
    {
      "cell_type": "code",
      "metadata": {
        "id": "woE7OIAAbGdu",
        "colab_type": "code",
        "colab": {
          "base_uri": "https://localhost:8080/",
          "height": 264
        },
        "outputId": "532c3938-eaef-42fc-f93c-95535c9a12ac"
      },
      "source": [
        "for i, prediction in enumerate(preds_next_FR):\n",
        "  print(f\"{(pd.to_datetime(deaths['France'].tail(1).keys()) + \\\n",
        "            pd.DateOffset(i+1)).strftime('%B %d')[0]}: {int(prediction)}\")"
      ],
      "execution_count": 21,
      "outputs": [
        {
          "output_type": "stream",
          "text": [
            "March 18: 203\n",
            "March 19: 261\n",
            "March 20: 336\n",
            "March 21: 432\n",
            "March 22: 555\n",
            "March 23: 714\n",
            "March 24: 918\n",
            "March 25: 1180\n",
            "March 26: 1518\n",
            "March 27: 1951\n",
            "March 28: 2508\n",
            "March 29: 3224\n",
            "March 30: 4144\n",
            "March 31: 5328\n"
          ],
          "name": "stdout"
        }
      ]
    },
    {
      "cell_type": "code",
      "metadata": {
        "id": "bcui9tFbQila",
        "colab_type": "code",
        "outputId": "8acb53e0-c0bf-44b6-987c-49082e7b18d3",
        "colab": {
          "base_uri": "https://localhost:8080/",
          "height": 264
        }
      },
      "source": [
        "for i, prediction in enumerate(preds_next_IT):\n",
        "  print(f\"{(pd.to_datetime(deaths['Italy'].tail(1).keys()) + \\\n",
        "            pd.DateOffset(i+1)).strftime('%B %d')[0]}: {int(prediction)}\")"
      ],
      "execution_count": 22,
      "outputs": [
        {
          "output_type": "stream",
          "text": [
            "March 18: 5198\n",
            "March 19: 7032\n",
            "March 20: 9512\n",
            "March 21: 12866\n",
            "March 22: 17404\n",
            "March 23: 23542\n",
            "March 24: 31844\n",
            "March 25: 43074\n",
            "March 26: 58264\n",
            "March 27: 78812\n",
            "March 28: 106605\n",
            "March 29: 144200\n",
            "March 30: 195052\n",
            "March 31: 263838\n"
          ],
          "name": "stdout"
        }
      ]
    },
    {
      "cell_type": "code",
      "metadata": {
        "id": "0ziLm2eCQ32u",
        "colab_type": "code",
        "outputId": "f6d015a4-bb4d-47c9-ab73-3ca3ce26bdb7",
        "colab": {
          "base_uri": "https://localhost:8080/",
          "height": 264
        }
      },
      "source": [
        "for i, prediction in enumerate(preds_next_ES):\n",
        "  print(f\"{(pd.to_datetime(deaths['Spain'].tail(1).keys()) + \\\n",
        "            pd.DateOffset(i+1)).strftime('%B %d')[0]}: {int(prediction)}\")"
      ],
      "execution_count": 23,
      "outputs": [
        {
          "output_type": "stream",
          "text": [
            "March 18: 521\n",
            "March 19: 758\n",
            "March 20: 1104\n",
            "March 21: 1608\n",
            "March 22: 2342\n",
            "March 23: 3410\n",
            "March 24: 4966\n",
            "March 25: 7232\n",
            "March 26: 10530\n",
            "March 27: 15334\n",
            "March 28: 22329\n",
            "March 29: 32514\n",
            "March 30: 47345\n",
            "March 31: 68940\n"
          ],
          "name": "stdout"
        }
      ]
    }
  ]
}