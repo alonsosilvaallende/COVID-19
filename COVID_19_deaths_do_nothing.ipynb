{
  "nbformat": 4,
  "nbformat_minor": 0,
  "metadata": {
    "colab": {
      "name": "COVID-19-deaths-do-nothing.ipynb",
      "provenance": [],
      "collapsed_sections": [],
      "authorship_tag": "ABX9TyPTM6YfS9Izs2dW7kP0ZMHY",
      "include_colab_link": true
    },
    "kernelspec": {
      "name": "python3",
      "display_name": "Python 3"
    }
  },
  "cells": [
    {
      "cell_type": "markdown",
      "metadata": {
        "id": "view-in-github",
        "colab_type": "text"
      },
      "source": [
        "<a href=\"https://colab.research.google.com/github/alonsosilvaallende/COVID-19/blob/master/COVID_19_deaths_do_nothing.ipynb\" target=\"_parent\"><img src=\"https://colab.research.google.com/assets/colab-badge.svg\" alt=\"Open In Colab\"/></a>"
      ]
    },
    {
      "cell_type": "code",
      "metadata": {
        "id": "YgOlJ-nVSw3_",
        "colab_type": "code",
        "colab": {}
      },
      "source": [
        "import numpy as np\n",
        "import matplotlib.pyplot as plt\n",
        "import pandas as pd\n",
        "plt.style.use('seaborn')"
      ],
      "execution_count": 0,
      "outputs": []
    },
    {
      "cell_type": "code",
      "metadata": {
        "id": "5T1bzjcbTchb",
        "colab_type": "code",
        "colab": {}
      },
      "source": [
        "deaths = pd.read_csv(\"https://covid.ourworldindata.org/data/total_deaths.csv\", index_col='date')"
      ],
      "execution_count": 0,
      "outputs": []
    },
    {
      "cell_type": "code",
      "metadata": {
        "id": "Qc6BtXHC0Kqm",
        "colab_type": "code",
        "outputId": "c4ee3265-647f-45eb-d7a9-6b056887ade8",
        "colab": {
          "base_uri": "https://localhost:8080/",
          "height": 174
        }
      },
      "source": [
        "deaths[[\"France\", \"Italy\", \"Spain\"]].tail(3)"
      ],
      "execution_count": 3,
      "outputs": [
        {
          "output_type": "execute_result",
          "data": {
            "text/html": [
              "<div>\n",
              "<style scoped>\n",
              "    .dataframe tbody tr th:only-of-type {\n",
              "        vertical-align: middle;\n",
              "    }\n",
              "\n",
              "    .dataframe tbody tr th {\n",
              "        vertical-align: top;\n",
              "    }\n",
              "\n",
              "    .dataframe thead th {\n",
              "        text-align: right;\n",
              "    }\n",
              "</style>\n",
              "<table border=\"1\" class=\"dataframe\">\n",
              "  <thead>\n",
              "    <tr style=\"text-align: right;\">\n",
              "      <th></th>\n",
              "      <th>France</th>\n",
              "      <th>Italy</th>\n",
              "      <th>Spain</th>\n",
              "    </tr>\n",
              "    <tr>\n",
              "      <th>date</th>\n",
              "      <th></th>\n",
              "      <th></th>\n",
              "      <th></th>\n",
              "    </tr>\n",
              "  </thead>\n",
              "  <tbody>\n",
              "    <tr>\n",
              "      <th>2020-03-15</th>\n",
              "      <td>91.0</td>\n",
              "      <td>1441.0</td>\n",
              "      <td>136.0</td>\n",
              "    </tr>\n",
              "    <tr>\n",
              "      <th>2020-03-16</th>\n",
              "      <td>127.0</td>\n",
              "      <td>1809.0</td>\n",
              "      <td>288.0</td>\n",
              "    </tr>\n",
              "    <tr>\n",
              "      <th>2020-03-17</th>\n",
              "      <td>148.0</td>\n",
              "      <td>2503.0</td>\n",
              "      <td>309.0</td>\n",
              "    </tr>\n",
              "  </tbody>\n",
              "</table>\n",
              "</div>"
            ],
            "text/plain": [
              "            France   Italy  Spain\n",
              "date                             \n",
              "2020-03-15    91.0  1441.0  136.0\n",
              "2020-03-16   127.0  1809.0  288.0\n",
              "2020-03-17   148.0  2503.0  309.0"
            ]
          },
          "metadata": {
            "tags": []
          },
          "execution_count": 3
        }
      ]
    },
    {
      "cell_type": "code",
      "metadata": {
        "id": "f_NOn1_lsZIF",
        "colab_type": "code",
        "colab": {}
      },
      "source": [
        "list_countries = [\"France\", \"Italy\", \"Spain\"]"
      ],
      "execution_count": 0,
      "outputs": []
    },
    {
      "cell_type": "code",
      "metadata": {
        "id": "GQ5UdkpAsTQ8",
        "colab_type": "code",
        "colab": {}
      },
      "source": [
        "TIPPING_POINT = 10"
      ],
      "execution_count": 0,
      "outputs": []
    },
    {
      "cell_type": "code",
      "metadata": {
        "id": "UwISSNxd3wMi",
        "colab_type": "code",
        "colab": {}
      },
      "source": [
        "France_lockdown = '2020-03-18'\n",
        "Italy_lockdown = '2020-03-10'\n",
        "Spain_lockdown = '2020-03-15'"
      ],
      "execution_count": 0,
      "outputs": []
    },
    {
      "cell_type": "code",
      "metadata": {
        "id": "8kMDpXgMskZl",
        "colab_type": "code",
        "colab": {}
      },
      "source": [
        "deaths_country = {}\n",
        "for country in list_countries:\n",
        "  deaths_country[country] = deaths[country][deaths[country]> TIPPING_POINT]"
      ],
      "execution_count": 0,
      "outputs": []
    },
    {
      "cell_type": "code",
      "metadata": {
        "id": "kOEmjwS_6Zil",
        "colab_type": "code",
        "outputId": "751cfb63-47db-4110-ab0a-44cc5a0c7bdb",
        "colab": {
          "base_uri": "https://localhost:8080/",
          "height": 35
        }
      },
      "source": [
        "France_gap = (pd.to_datetime(France_lockdown) - pd.to_datetime(deaths_country[\"France\"].keys()[0])).days\n",
        "France_gap"
      ],
      "execution_count": 8,
      "outputs": [
        {
          "output_type": "execute_result",
          "data": {
            "text/plain": [
              "9"
            ]
          },
          "metadata": {
            "tags": []
          },
          "execution_count": 8
        }
      ]
    },
    {
      "cell_type": "code",
      "metadata": {
        "id": "W3fhSKnO5ikD",
        "colab_type": "code",
        "outputId": "71d71ddf-3b8a-44b1-f949-ca9430964113",
        "colab": {
          "base_uri": "https://localhost:8080/",
          "height": 35
        }
      },
      "source": [
        "Italy_gap = (pd.to_datetime(Italy_lockdown) - pd.to_datetime(deaths_country[\"Italy\"].keys()[0])).days\n",
        "Italy_gap"
      ],
      "execution_count": 9,
      "outputs": [
        {
          "output_type": "execute_result",
          "data": {
            "text/plain": [
              "13"
            ]
          },
          "metadata": {
            "tags": []
          },
          "execution_count": 9
        }
      ]
    },
    {
      "cell_type": "code",
      "metadata": {
        "id": "7mD_MKsk5J8k",
        "colab_type": "code",
        "outputId": "df076dd9-9880-4a8d-a67b-58b29d323051",
        "colab": {
          "base_uri": "https://localhost:8080/",
          "height": 35
        }
      },
      "source": [
        "Spain_gap = (pd.to_datetime(Spain_lockdown) - pd.to_datetime(deaths_country[\"Spain\"].keys()[0])).days\n",
        "Spain_gap"
      ],
      "execution_count": 10,
      "outputs": [
        {
          "output_type": "execute_result",
          "data": {
            "text/plain": [
              "5"
            ]
          },
          "metadata": {
            "tags": []
          },
          "execution_count": 10
        }
      ]
    },
    {
      "cell_type": "code",
      "metadata": {
        "id": "QXwIQcanLjqB",
        "colab_type": "code",
        "colab": {}
      },
      "source": [
        "x_trn_FR = np.arange(France_gap)\n",
        "x_trn_ES = np.arange(Spain_gap)\n",
        "x_trn_IT = np.arange(Italy_gap)"
      ],
      "execution_count": 0,
      "outputs": []
    },
    {
      "cell_type": "code",
      "metadata": {
        "id": "aX5aEJWpK2qZ",
        "colab_type": "code",
        "colab": {}
      },
      "source": [
        "y_trn_FR = np.log(np.array(deaths_country[\"France\"].iloc[:France_gap]))\n",
        "y_trn_ES = np.log(np.array(deaths_country[\"Spain\"].iloc[:Spain_gap]))\n",
        "y_trn_IT = np.log(np.array(deaths_country[\"Italy\"].iloc[:Italy_gap]))"
      ],
      "execution_count": 0,
      "outputs": []
    },
    {
      "cell_type": "code",
      "metadata": {
        "id": "VhdGJkl0L1DM",
        "colab_type": "code",
        "colab": {}
      },
      "source": [
        "x_trn_FR = x_trn_FR[...,None]\n",
        "x_trn_ES = x_trn_ES[...,None]\n",
        "x_trn_IT = x_trn_IT[...,None]"
      ],
      "execution_count": 0,
      "outputs": []
    },
    {
      "cell_type": "code",
      "metadata": {
        "id": "7zNVceKwMdKo",
        "colab_type": "code",
        "colab": {}
      },
      "source": [
        "x = np.arange(len(deaths_country[\"Italy\"]))\n",
        "x = x[...,None]"
      ],
      "execution_count": 0,
      "outputs": []
    },
    {
      "cell_type": "code",
      "metadata": {
        "id": "jffvb7QHK1H5",
        "colab_type": "code",
        "colab": {}
      },
      "source": [
        "from sklearn.linear_model import LinearRegression\n",
        "\n",
        "lm = LinearRegression()\n",
        "lm.fit(x_trn_FR, y_trn_FR)\n",
        "preds_FR = np.exp(lm.predict(x))"
      ],
      "execution_count": 0,
      "outputs": []
    },
    {
      "cell_type": "code",
      "metadata": {
        "id": "4W7L0G4cPHit",
        "colab_type": "code",
        "colab": {}
      },
      "source": [
        "lm.fit(x_trn_ES, y_trn_ES)\n",
        "preds_ES = np.exp(lm.predict(x))"
      ],
      "execution_count": 0,
      "outputs": []
    },
    {
      "cell_type": "code",
      "metadata": {
        "id": "pVXJ1ycTPMP4",
        "colab_type": "code",
        "colab": {}
      },
      "source": [
        "lm.fit(x_trn_IT, y_trn_IT)\n",
        "preds_IT = np.exp(lm.predict(x))"
      ],
      "execution_count": 0,
      "outputs": []
    },
    {
      "cell_type": "markdown",
      "metadata": {
        "id": "d2nmVYVPigqa",
        "colab_type": "text"
      },
      "source": [
        "In logarithmic scale:"
      ]
    },
    {
      "cell_type": "code",
      "metadata": {
        "id": "dKel_PKlYHmQ",
        "colab_type": "code",
        "outputId": "45a9c28f-84fb-4d3e-ba8b-0885808c1557",
        "colab": {
          "base_uri": "https://localhost:8080/",
          "height": 463
        }
      },
      "source": [
        "fig, ax = plt.subplots(figsize=(10,7))\n",
        "for country in list_countries:\n",
        "  plt.plot(np.arange(len(deaths_country[country])),deaths_country[country], label=country, linewidth=2, marker='o')\n",
        "plt.plot(x, preds_FR, label=\"Do nothing (France)\", linewidth=2, color='C0', linestyle='dashed')\n",
        "plt.plot(x, preds_ES, label=\"Do nothing (Spain)\", linewidth=2, color='C2', linestyle='dashed')\n",
        "plt.plot(x, preds_IT, label=\"Do nothing (Italy)\", linewidth=2, color='C1', linestyle='dashed')\n",
        "plt.axvline(Spain_gap, color='red', linestyle='dashed')\n",
        "plt.axvline(Italy_gap, color='red', linestyle='dashed')\n",
        "plt.axvline(France_gap, color='red', linestyle='dashed')\n",
        "plt.annotate('<- Spain lockdown', (Spain_gap, 30000.0), color='red', fontsize='x-large')\n",
        "plt.annotate('<- Italy lockdown', (Italy_gap, 30000.0), color='red', fontsize='x-large')\n",
        "plt.annotate('<- France\\n lockdown', (France_gap, 10000.0), color='red', fontsize='x-large')\n",
        "ax.set_title(f'COVID-19: Number of deaths vs number of days since {TIPPING_POINT} deaths', fontsize='x-large')\n",
        "ax.set_xlabel(f'number of days since {TIPPING_POINT} deaths', fontsize='x-large')\n",
        "ax.set_ylabel(f'number of deaths', fontsize='x-large')\n",
        "ax.set_xticks(np.arange(len(deaths_country[\"Italy\"])))\n",
        "plt.yscale(\"log\")\n",
        "plt.legend(fontsize='x-large')\n",
        "plt.show()"
      ],
      "execution_count": 29,
      "outputs": [
        {
          "output_type": "display_data",
          "data": {
            "image/png": "[encoded data removed]",
            "text/plain": [
              "<Figure size 720x504 with 1 Axes>"
            ]
          },
          "metadata": {
            "tags": []
          }
        }
      ]
    },
    {
      "cell_type": "code",
      "metadata": {
        "id": "LIwlHErRTM6G",
        "colab_type": "code",
        "colab": {}
      },
      "source": [
        "from google.colab import files\n",
        "files.download(\"2020-03-20-COVID-19-Do-Nothing.png\")"
      ],
      "execution_count": 0,
      "outputs": []
    },
    {
      "cell_type": "code",
      "metadata": {
        "id": "-0cCyH_UM1_o",
        "colab_type": "code",
        "colab": {}
      },
      "source": [
        "preds_next_FR = preds_FR[len(deaths_country[\"France\"]):]\n",
        "preds_next_ES = preds_ES[len(deaths_country[\"Spain\"]):]\n",
        "preds_next_IT = preds_IT[len(deaths_country[\"Italy\"]):]"
      ],
      "execution_count": 0,
      "outputs": []
    },
    {
      "cell_type": "code",
      "metadata": {
        "id": "bcui9tFbQila",
        "colab_type": "code",
        "colab": {
          "base_uri": "https://localhost:8080/",
          "height": 229
        },
        "outputId": "f9f13b9c-0cc8-48c2-9f7f-bf67fbf3bf6b"
      },
      "source": [
        "for prediction in preds_next_FR:\n",
        "  print(int(prediction))"
      ],
      "execution_count": 20,
      "outputs": [
        {
          "output_type": "stream",
          "text": [
            "203\n",
            "261\n",
            "336\n",
            "432\n",
            "555\n",
            "714\n",
            "918\n",
            "1180\n",
            "1518\n",
            "1951\n",
            "2508\n",
            "3224\n"
          ],
          "name": "stdout"
        }
      ]
    },
    {
      "cell_type": "code",
      "metadata": {
        "id": "0ziLm2eCQ32u",
        "colab_type": "code",
        "colab": {
          "base_uri": "https://localhost:8080/",
          "height": 246
        },
        "outputId": "356da8e9-3c44-4041-8392-c8271392e75f"
      },
      "source": [
        "for prediction in preds_next_ES:\n",
        "  print(int(prediction))"
      ],
      "execution_count": 21,
      "outputs": [
        {
          "output_type": "stream",
          "text": [
            "521\n",
            "758\n",
            "1104\n",
            "1608\n",
            "2342\n",
            "3410\n",
            "4966\n",
            "7232\n",
            "10530\n",
            "15334\n",
            "22329\n",
            "32514\n",
            "47345\n"
          ],
          "name": "stdout"
        }
      ]
    }
  ]
}