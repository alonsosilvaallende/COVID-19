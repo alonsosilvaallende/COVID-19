{
  "nbformat": 4,
  "nbformat_minor": 0,
  "metadata": {
    "colab": {
      "name": "COVID-19-Chile-Tasa-Fallecidos-por-Region.ipynb",
      "provenance": [],
      "collapsed_sections": [],
      "authorship_tag": "ABX9TyOcUoeoUT/LMjR+FNuG9ixr",
      "include_colab_link": true
    },
    "kernelspec": {
      "name": "python3",
      "display_name": "Python 3"
    }
  },
  "cells": [
    {
      "cell_type": "markdown",
      "metadata": {
        "id": "view-in-github",
        "colab_type": "text"
      },
      "source": [
        "<a href=\"https://colab.research.google.com/github/alonsosilvaallende/COVID-19/blob/master/COVID_19_Chile_Tasa_Fallecidos_por_Region.ipynb\" target=\"_parent\"><img src=\"https://colab.research.google.com/assets/colab-badge.svg\" alt=\"Open In Colab\"/></a>"
      ]
    },
    {
      "cell_type": "code",
      "metadata": {
        "id": "UQTvPiUb9Whb",
        "colab_type": "code",
        "colab": {}
      },
      "source": [
        "import numpy as np\n",
        "import matplotlib.pyplot as plt\n",
        "import pandas as pd\n",
        "plt.style.use('seaborn')"
      ],
      "execution_count": 0,
      "outputs": []
    },
    {
      "cell_type": "code",
      "metadata": {
        "id": "wWvoIitK9FJc",
        "colab_type": "code",
        "colab": {}
      },
      "source": [
        "data_raw = pd.read_csv('https://raw.githubusercontent.com/MinCiencia/Datos-COVID19/master/output/producto4/2020-04-14-CasosConfirmados-totalRegional.csv', index_col='Region')"
      ],
      "execution_count": 0,
      "outputs": []
    },
    {
      "cell_type": "code",
      "metadata": {
        "id": "aELqJoXm9gAQ",
        "colab_type": "code",
        "outputId": "cf1b0265-b74f-451e-dc7c-c24534959ca6",
        "colab": {
          "base_uri": "https://localhost:8080/",
          "height": 614
        }
      },
      "source": [
        "data_raw"
      ],
      "execution_count": 23,
      "outputs": [
        {
          "output_type": "execute_result",
          "data": {
            "text/html": [
              "<div>\n",
              "<style scoped>\n",
              "    .dataframe tbody tr th:only-of-type {\n",
              "        vertical-align: middle;\n",
              "    }\n",
              "\n",
              "    .dataframe tbody tr th {\n",
              "        vertical-align: top;\n",
              "    }\n",
              "\n",
              "    .dataframe thead th {\n",
              "        text-align: right;\n",
              "    }\n",
              "</style>\n",
              "<table border=\"1\" class=\"dataframe\">\n",
              "  <thead>\n",
              "    <tr style=\"text-align: right;\">\n",
              "      <th></th>\n",
              "      <th>Casos  nuevos</th>\n",
              "      <th>Casos  totales</th>\n",
              "      <th>%  Casos  totales**</th>\n",
              "      <th>Fallecidos</th>\n",
              "    </tr>\n",
              "    <tr>\n",
              "      <th>Region</th>\n",
              "      <th></th>\n",
              "      <th></th>\n",
              "      <th></th>\n",
              "      <th></th>\n",
              "    </tr>\n",
              "  </thead>\n",
              "  <tbody>\n",
              "    <tr>\n",
              "      <th>Arica  y  Parinacota</th>\n",
              "      <td>5</td>\n",
              "      <td>120</td>\n",
              "      <td>1.52  %</td>\n",
              "      <td>1</td>\n",
              "    </tr>\n",
              "    <tr>\n",
              "      <th>Tarapaca</th>\n",
              "      <td>10</td>\n",
              "      <td>62</td>\n",
              "      <td>0.78  %</td>\n",
              "      <td>0</td>\n",
              "    </tr>\n",
              "    <tr>\n",
              "      <th>Antofagasta</th>\n",
              "      <td>6</td>\n",
              "      <td>155</td>\n",
              "      <td>1.96  %</td>\n",
              "      <td>1</td>\n",
              "    </tr>\n",
              "    <tr>\n",
              "      <th>Atacama</th>\n",
              "      <td>0</td>\n",
              "      <td>13</td>\n",
              "      <td>0.16  %</td>\n",
              "      <td>0</td>\n",
              "    </tr>\n",
              "    <tr>\n",
              "      <th>Coquimbo</th>\n",
              "      <td>0</td>\n",
              "      <td>66</td>\n",
              "      <td>0.83  %</td>\n",
              "      <td>0</td>\n",
              "    </tr>\n",
              "    <tr>\n",
              "      <th>Valparaiso</th>\n",
              "      <td>12</td>\n",
              "      <td>285</td>\n",
              "      <td>3.60  %</td>\n",
              "      <td>2</td>\n",
              "    </tr>\n",
              "    <tr>\n",
              "      <th>Metropolitana</th>\n",
              "      <td>283</td>\n",
              "      <td>4086</td>\n",
              "      <td>51.61  %</td>\n",
              "      <td>40</td>\n",
              "    </tr>\n",
              "    <tr>\n",
              "      <th>O'Higgins</th>\n",
              "      <td>5</td>\n",
              "      <td>53</td>\n",
              "      <td>0.67  %</td>\n",
              "      <td>0</td>\n",
              "    </tr>\n",
              "    <tr>\n",
              "      <th>Maule</th>\n",
              "      <td>1</td>\n",
              "      <td>142</td>\n",
              "      <td>1.79  %</td>\n",
              "      <td>4</td>\n",
              "    </tr>\n",
              "    <tr>\n",
              "      <th>Nuble</th>\n",
              "      <td>4</td>\n",
              "      <td>622</td>\n",
              "      <td>7.86  %</td>\n",
              "      <td>8</td>\n",
              "    </tr>\n",
              "    <tr>\n",
              "      <th>Biobio</th>\n",
              "      <td>16</td>\n",
              "      <td>528</td>\n",
              "      <td>6.67  %</td>\n",
              "      <td>2</td>\n",
              "    </tr>\n",
              "    <tr>\n",
              "      <th>Araucania</th>\n",
              "      <td>21</td>\n",
              "      <td>816</td>\n",
              "      <td>10.31  %</td>\n",
              "      <td>20</td>\n",
              "    </tr>\n",
              "    <tr>\n",
              "      <th>Los  Rios</th>\n",
              "      <td>10</td>\n",
              "      <td>148</td>\n",
              "      <td>1.87  %</td>\n",
              "      <td>3</td>\n",
              "    </tr>\n",
              "    <tr>\n",
              "      <th>Los  Lagos</th>\n",
              "      <td>5</td>\n",
              "      <td>385</td>\n",
              "      <td>4.86  %</td>\n",
              "      <td>5</td>\n",
              "    </tr>\n",
              "    <tr>\n",
              "      <th>Aysen</th>\n",
              "      <td>0</td>\n",
              "      <td>7</td>\n",
              "      <td>0.09  %</td>\n",
              "      <td>0</td>\n",
              "    </tr>\n",
              "    <tr>\n",
              "      <th>Magallanes</th>\n",
              "      <td>14</td>\n",
              "      <td>429</td>\n",
              "      <td>5.42  %</td>\n",
              "      <td>6</td>\n",
              "    </tr>\n",
              "    <tr>\n",
              "      <th>Total</th>\n",
              "      <td>392</td>\n",
              "      <td>7917</td>\n",
              "      <td>100%</td>\n",
              "      <td>92</td>\n",
              "    </tr>\n",
              "  </tbody>\n",
              "</table>\n",
              "</div>"
            ],
            "text/plain": [
              "                      Casos  nuevos  ...  Fallecidos\n",
              "Region                               ...            \n",
              "Arica  y  Parinacota              5  ...           1\n",
              "Tarapaca                         10  ...           0\n",
              "Antofagasta                       6  ...           1\n",
              "Atacama                           0  ...           0\n",
              "Coquimbo                          0  ...           0\n",
              "Valparaiso                       12  ...           2\n",
              "Metropolitana                   283  ...          40\n",
              "O'Higgins                         5  ...           0\n",
              "Maule                             1  ...           4\n",
              "Nuble                             4  ...           8\n",
              "Biobio                           16  ...           2\n",
              "Araucania                        21  ...          20\n",
              "Los  Rios                        10  ...           3\n",
              "Los  Lagos                        5  ...           5\n",
              "Aysen                             0  ...           0\n",
              "Magallanes                       14  ...           6\n",
              "Total                           392  ...          92\n",
              "\n",
              "[17 rows x 4 columns]"
            ]
          },
          "metadata": {
            "tags": []
          },
          "execution_count": 23
        }
      ]
    },
    {
      "cell_type": "code",
      "metadata": {
        "id": "b6b-Ce8FyHaj",
        "colab_type": "code",
        "colab": {
          "base_uri": "https://localhost:8080/",
          "height": 614
        },
        "outputId": "4ef9e0d2-53cb-46df-9773-70b272ad5f92"
      },
      "source": [
        "data_raw"
      ],
      "execution_count": 21,
      "outputs": [
        {
          "output_type": "execute_result",
          "data": {
            "text/html": [
              "<div>\n",
              "<style scoped>\n",
              "    .dataframe tbody tr th:only-of-type {\n",
              "        vertical-align: middle;\n",
              "    }\n",
              "\n",
              "    .dataframe tbody tr th {\n",
              "        vertical-align: top;\n",
              "    }\n",
              "\n",
              "    .dataframe thead th {\n",
              "        text-align: right;\n",
              "    }\n",
              "</style>\n",
              "<table border=\"1\" class=\"dataframe\">\n",
              "  <thead>\n",
              "    <tr style=\"text-align: right;\">\n",
              "      <th></th>\n",
              "      <th>Casos  nuevos</th>\n",
              "      <th>Casos  totales</th>\n",
              "      <th>%  Casos  totales**</th>\n",
              "      <th>Fallecidos</th>\n",
              "    </tr>\n",
              "    <tr>\n",
              "      <th>Region</th>\n",
              "      <th></th>\n",
              "      <th></th>\n",
              "      <th></th>\n",
              "      <th></th>\n",
              "    </tr>\n",
              "  </thead>\n",
              "  <tbody>\n",
              "    <tr>\n",
              "      <th>Arica  y  Parinacota</th>\n",
              "      <td>0</td>\n",
              "      <td>115</td>\n",
              "      <td>1.53  %</td>\n",
              "      <td>1</td>\n",
              "    </tr>\n",
              "    <tr>\n",
              "      <th>Tarapaca</th>\n",
              "      <td>6</td>\n",
              "      <td>52</td>\n",
              "      <td>0.69  %</td>\n",
              "      <td>0</td>\n",
              "    </tr>\n",
              "    <tr>\n",
              "      <th>Antofagasta</th>\n",
              "      <td>11</td>\n",
              "      <td>149</td>\n",
              "      <td>1.98  %</td>\n",
              "      <td>1</td>\n",
              "    </tr>\n",
              "    <tr>\n",
              "      <th>Atacama</th>\n",
              "      <td>0</td>\n",
              "      <td>13</td>\n",
              "      <td>0.17  %</td>\n",
              "      <td>0</td>\n",
              "    </tr>\n",
              "    <tr>\n",
              "      <th>Coquimbo</th>\n",
              "      <td>0</td>\n",
              "      <td>66</td>\n",
              "      <td>0.88  %</td>\n",
              "      <td>0</td>\n",
              "    </tr>\n",
              "    <tr>\n",
              "      <th>Valparaiso</th>\n",
              "      <td>19</td>\n",
              "      <td>273</td>\n",
              "      <td>3.63  %</td>\n",
              "      <td>2</td>\n",
              "    </tr>\n",
              "    <tr>\n",
              "      <th>Metropolitana</th>\n",
              "      <td>204</td>\n",
              "      <td>3803</td>\n",
              "      <td>50.54  %</td>\n",
              "      <td>36</td>\n",
              "    </tr>\n",
              "    <tr>\n",
              "      <th>O'Higgins</th>\n",
              "      <td>2</td>\n",
              "      <td>48</td>\n",
              "      <td>0.64  %</td>\n",
              "      <td>0</td>\n",
              "    </tr>\n",
              "    <tr>\n",
              "      <th>Maule</th>\n",
              "      <td>3</td>\n",
              "      <td>141</td>\n",
              "      <td>1.87  %</td>\n",
              "      <td>3</td>\n",
              "    </tr>\n",
              "    <tr>\n",
              "      <th>Nuble</th>\n",
              "      <td>5</td>\n",
              "      <td>618</td>\n",
              "      <td>8.21  %</td>\n",
              "      <td>7</td>\n",
              "    </tr>\n",
              "    <tr>\n",
              "      <th>Biobio</th>\n",
              "      <td>12</td>\n",
              "      <td>512</td>\n",
              "      <td>6.80  %</td>\n",
              "      <td>2</td>\n",
              "    </tr>\n",
              "    <tr>\n",
              "      <th>Araucania</th>\n",
              "      <td>20</td>\n",
              "      <td>795</td>\n",
              "      <td>10.56  %</td>\n",
              "      <td>17</td>\n",
              "    </tr>\n",
              "    <tr>\n",
              "      <th>Los  Rios</th>\n",
              "      <td>3</td>\n",
              "      <td>138</td>\n",
              "      <td>1.83  %</td>\n",
              "      <td>3</td>\n",
              "    </tr>\n",
              "    <tr>\n",
              "      <th>Los  Lagos</th>\n",
              "      <td>8</td>\n",
              "      <td>380</td>\n",
              "      <td>5.05  %</td>\n",
              "      <td>5</td>\n",
              "    </tr>\n",
              "    <tr>\n",
              "      <th>Aysen</th>\n",
              "      <td>0</td>\n",
              "      <td>7</td>\n",
              "      <td>0.09  %</td>\n",
              "      <td>0</td>\n",
              "    </tr>\n",
              "    <tr>\n",
              "      <th>Magallanes</th>\n",
              "      <td>19</td>\n",
              "      <td>415</td>\n",
              "      <td>5.51  %</td>\n",
              "      <td>5</td>\n",
              "    </tr>\n",
              "    <tr>\n",
              "      <th>Total</th>\n",
              "      <td>312</td>\n",
              "      <td>7525</td>\n",
              "      <td>100%</td>\n",
              "      <td>82</td>\n",
              "    </tr>\n",
              "  </tbody>\n",
              "</table>\n",
              "</div>"
            ],
            "text/plain": [
              "                      Casos  nuevos  ...  Fallecidos\n",
              "Region                               ...            \n",
              "Arica  y  Parinacota              0  ...           1\n",
              "Tarapaca                          6  ...           0\n",
              "Antofagasta                      11  ...           1\n",
              "Atacama                           0  ...           0\n",
              "Coquimbo                          0  ...           0\n",
              "Valparaiso                       19  ...           2\n",
              "Metropolitana                   204  ...          36\n",
              "O'Higgins                         2  ...           0\n",
              "Maule                             3  ...           3\n",
              "Nuble                             5  ...           7\n",
              "Biobio                           12  ...           2\n",
              "Araucania                        20  ...          17\n",
              "Los  Rios                         3  ...           3\n",
              "Los  Lagos                        8  ...           5\n",
              "Aysen                             0  ...           0\n",
              "Magallanes                       19  ...           5\n",
              "Total                           312  ...          82\n",
              "\n",
              "[17 rows x 4 columns]"
            ]
          },
          "metadata": {
            "tags": []
          },
          "execution_count": 21
        }
      ]
    },
    {
      "cell_type": "code",
      "metadata": {
        "id": "D0UuE2X49kgg",
        "colab_type": "code",
        "colab": {}
      },
      "source": [
        "tests_raw = pd.read_csv(\n",
        "    'https://raw.githubusercontent.com/MinCiencia/Datos-COVID19/master/output/producto7/PCR.csv',\n",
        "    index_col='Region')\n",
        "tests_raw = tests_raw.fillna(0)"
      ],
      "execution_count": 0,
      "outputs": []
    },
    {
      "cell_type": "code",
      "metadata": {
        "id": "Cm_KX1Gd96Wt",
        "colab_type": "code",
        "colab": {}
      },
      "source": [
        "tests_total = pd.Series(dtype='float64')\n",
        "for date in tests_raw.columns:\n",
        "  tests_raw[date] = tests_raw[date].apply(lambda x: 0 if x=='-' else x)\n",
        "  tests_raw[date] = tests_raw[date].astype(int)\n",
        "  tests_total[date] = np.sum(tests_raw[date])"
      ],
      "execution_count": 0,
      "outputs": []
    },
    {
      "cell_type": "code",
      "metadata": {
        "id": "d5ad4BCh99gA",
        "colab_type": "code",
        "colab": {}
      },
      "source": [
        "tests_raw.loc['Total'] = tests_total"
      ],
      "execution_count": 0,
      "outputs": []
    },
    {
      "cell_type": "code",
      "metadata": {
        "id": "sfbhsP399wR-",
        "colab_type": "code",
        "colab": {
          "base_uri": "https://localhost:8080/",
          "height": 353
        },
        "outputId": "9ceb000a-de6d-41c9-905d-20fe2c0f32b2"
      },
      "source": [
        "tests_raw['Poblacion']"
      ],
      "execution_count": 8,
      "outputs": [
        {
          "output_type": "execute_result",
          "data": {
            "text/plain": [
              "Region\n",
              "Arica y Parinacota                             252110\n",
              "Tarapaca                                       382773\n",
              "Antofagasta                                    691854\n",
              "Atacama                                        314709\n",
              "Coquimbo                                       836096\n",
              "Valparaiso                                    1960170\n",
              "Metropolitana                                 8125072\n",
              "Del Libertador General Bernardo O’Higgins      991063\n",
              "Maule                                         1131939\n",
              "Nuble                                          511551\n",
              "Biobio                                        1663696\n",
              "La Araucania                                  1014343\n",
              "Los Rios                                       405835\n",
              "Los Lagos                                      891440\n",
              "Aysen                                          107297\n",
              "Magallanes y la Antartica                      178362\n",
              "Total                                        19458310\n",
              "Name: Poblacion, dtype: int64"
            ]
          },
          "metadata": {
            "tags": []
          },
          "execution_count": 8
        }
      ]
    },
    {
      "cell_type": "code",
      "metadata": {
        "id": "S4DuZa779s1p",
        "colab_type": "code",
        "colab": {}
      },
      "source": [
        "death_rate = 1000000*data_raw['Fallecidos']/tests_raw['Poblacion'].values"
      ],
      "execution_count": 0,
      "outputs": []
    },
    {
      "cell_type": "code",
      "metadata": {
        "id": "OemcZHDu-hlp",
        "colab_type": "code",
        "colab": {}
      },
      "source": [
        "death_rate = death_rate.sort_values(ascending=True)"
      ],
      "execution_count": 0,
      "outputs": []
    },
    {
      "cell_type": "code",
      "metadata": {
        "id": "gDCg4HuvwCv3",
        "colab_type": "code",
        "colab": {}
      },
      "source": [
        "death_rate = death_rate[death_rate>0]"
      ],
      "execution_count": 0,
      "outputs": []
    },
    {
      "cell_type": "code",
      "metadata": {
        "id": "p8sKSAll-M1X",
        "colab_type": "code",
        "outputId": "628e6ace-55b8-457c-ddf1-e3f2850ae2be",
        "colab": {
          "base_uri": "https://localhost:8080/",
          "height": 535
        }
      },
      "source": [
        "fig, ax = plt.subplots(figsize=(10,7))\n",
        "death_rate.plot(kind='barh', ax=ax, color='C0', fontsize='x-large')\n",
        "for i, val in enumerate(death_rate):\n",
        "  ax.text(val, i-0.1, f\" {val:.1f}\", fontsize='large')\n",
        "ax.set_title(f'COVID-19 en Chile: Tasa de fallecidos por región al 14 de abril\\nTasa de fallecidos = fallecidos por 1 millón de habitantes', fontsize='x-large')\n",
        "ax.set_xlabel(f'Tasa de fallecidos', fontsize='x-large')\n",
        "ax.set_ylabel(f'Región', fontsize='x-large')\n",
        "plt.xlim(0,36)\n",
        "fig.tight_layout()\n",
        "plt.annotate('Source:\\nhttps://github.com/MinCiencia/Datos-COVID19', (0,0), (-120,-30), fontsize='x-large', xycoords='axes fraction', textcoords='offset points', va='top')\n",
        "plt.savefig(\"2020-04-15-COVID-19-Chile-Tasa-de-Fallecidos-por-Region.png\", format='png', bbox_inches='tight', dvi=1200)"
      ],
      "execution_count": 18,
      "outputs": [
        {
          "output_type": "display_data",
          "data": {
            "image/png": "[encoded data removed]",
            "text/plain": [
              "<Figure size 720x504 with 1 Axes>"
            ]
          },
          "metadata": {
            "tags": [],
            "needs_background": "light"
          }
        }
      ]
    },
    {
      "cell_type": "code",
      "metadata": {
        "id": "f3AHfDiY-gPv",
        "colab_type": "code",
        "colab": {}
      },
      "source": [
        "from google.colab import files\n",
        "files.download(\"2020-04-15-COVID-19-Chile-Tasa-de-Fallecidos-por-Region.png\")"
      ],
      "execution_count": 0,
      "outputs": []
    },
    {
      "cell_type": "code",
      "metadata": {
        "id": "OkNu_nOMAD-0",
        "colab_type": "code",
        "colab": {}
      },
      "source": [
        "CFR = data_raw['Fallecidos']/data_raw['Casos  totales']*100"
      ],
      "execution_count": 0,
      "outputs": []
    },
    {
      "cell_type": "code",
      "metadata": {
        "id": "DcLrc4Rlt9V2",
        "colab_type": "code",
        "colab": {}
      },
      "source": [
        "CFR = CFR.sort_values(ascending=True)"
      ],
      "execution_count": 0,
      "outputs": []
    },
    {
      "cell_type": "code",
      "metadata": {
        "id": "fhyGe01HuYrO",
        "colab_type": "code",
        "colab": {}
      },
      "source": [
        "CFR = CFR[CFR>0]"
      ],
      "execution_count": 0,
      "outputs": []
    },
    {
      "cell_type": "code",
      "metadata": {
        "id": "B6waAidwuQN_",
        "colab_type": "code",
        "outputId": "ef067be8-70d9-42dc-b210-19b864aced4e",
        "colab": {
          "base_uri": "https://localhost:8080/",
          "height": 535
        }
      },
      "source": [
        "fig, ax = plt.subplots(figsize=(10,7))\n",
        "CFR.plot(kind='barh', ax=ax, color='C0', fontsize='x-large')\n",
        "for i, val in enumerate(CFR):\n",
        "  ax.text(val, i-0.1, f\" {val:.1f}%\", fontsize='large')\n",
        "ax.set_title(f'COVID-19 en Chile: Tasa de letalidad (CFR) por región al 14 de abril\\nTasa de letalidad = fallecidos confirmados / casos confirmados', fontsize='x-large')\n",
        "ax.set_xlabel(f'Tasa de letalidad', fontsize='x-large')\n",
        "ax.set_ylabel(f'Región', fontsize='x-large')\n",
        "plt.xlim(0,3.1)\n",
        "fig.tight_layout()\n",
        "plt.annotate('Source:\\nhttps://github.com/MinCiencia/Datos-COVID19', (0,0), (-120,-30), fontsize='x-large', xycoords='axes fraction', textcoords='offset points', va='top')\n",
        "plt.savefig(\"2020-04-15-COVID-19-Chile-Tasa-de-Letalidad-por-Region.png\", format='png', bbox_inches='tight', dvi=1200)"
      ],
      "execution_count": 34,
      "outputs": [
        {
          "output_type": "display_data",
          "data": {
            "image/png": "[encoded data removed]",
            "text/plain": [
              "<Figure size 720x504 with 1 Axes>"
            ]
          },
          "metadata": {
            "tags": [],
            "needs_background": "light"
          }
        }
      ]
    },
    {
      "cell_type": "code",
      "metadata": {
        "id": "9k632mf-uUSf",
        "colab_type": "code",
        "colab": {}
      },
      "source": [
        "from google.colab import files\n",
        "files.download(\"2020-04-15-COVID-19-Chile-Tasa-de-Letalidad-por-Region.png\")"
      ],
      "execution_count": 0,
      "outputs": []
    },
    {
      "cell_type": "code",
      "metadata": {
        "id": "9NxEMdKcvlEG",
        "colab_type": "code",
        "colab": {}
      },
      "source": [
        ""
      ],
      "execution_count": 0,
      "outputs": []
    }
  ]
}