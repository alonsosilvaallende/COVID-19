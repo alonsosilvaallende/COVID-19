{
  "nbformat": 4,
  "nbformat_minor": 0,
  "metadata": {
    "colab": {
      "name": "COVID-19-Chile-Tests-Realizados-Informados.ipynb",
      "provenance": [],
      "collapsed_sections": [],
      "authorship_tag": "ABX9TyOU+Ouu72kTrTONU0LVhAut",
      "include_colab_link": true
    },
    "kernelspec": {
      "name": "python3",
      "display_name": "Python 3"
    }
  },
  "cells": [
    {
      "cell_type": "markdown",
      "metadata": {
        "id": "view-in-github",
        "colab_type": "text"
      },
      "source": [
        "<a href=\"https://colab.research.google.com/github/alonsosilvaallende/COVID-19/blob/master/COVID_19_Chile_Tests_Realizados_Informados.ipynb\" target=\"_parent\"><img src=\"https://colab.research.google.com/assets/colab-badge.svg\" alt=\"Open In Colab\"/></a>"
      ]
    },
    {
      "cell_type": "code",
      "metadata": {
        "id": "kSVA6scgCc1i",
        "colab_type": "code",
        "colab": {}
      },
      "source": [
        "import numpy as np\n",
        "import matplotlib.pyplot as plt\n",
        "import pandas as pd\n",
        "plt.style.use('ggplot')"
      ],
      "execution_count": 0,
      "outputs": []
    },
    {
      "cell_type": "code",
      "metadata": {
        "id": "k0jN1UbnB5zD",
        "colab_type": "code",
        "colab": {}
      },
      "source": [
        "data_raw = pd.read_csv('https://raw.githubusercontent.com/MinCiencia/Datos-COVID19/master/output/producto17/PCREstablecimiento.csv')"
      ],
      "execution_count": 0,
      "outputs": []
    },
    {
      "cell_type": "code",
      "metadata": {
        "id": "DRFqA8PXCmJD",
        "colab_type": "code",
        "colab": {
          "base_uri": "https://localhost:8080/",
          "height": 237
        },
        "outputId": "ef8774a6-79d1-4c3f-997f-07d89ba51a60"
      },
      "source": [
        "data_raw"
      ],
      "execution_count": 3,
      "outputs": [
        {
          "output_type": "execute_result",
          "data": {
            "text/html": [
              "<div>\n",
              "<style scoped>\n",
              "    .dataframe tbody tr th:only-of-type {\n",
              "        vertical-align: middle;\n",
              "    }\n",
              "\n",
              "    .dataframe tbody tr th {\n",
              "        vertical-align: top;\n",
              "    }\n",
              "\n",
              "    .dataframe thead th {\n",
              "        text-align: right;\n",
              "    }\n",
              "</style>\n",
              "<table border=\"1\" class=\"dataframe\">\n",
              "  <thead>\n",
              "    <tr style=\"text-align: right;\">\n",
              "      <th></th>\n",
              "      <th>Establecimiento</th>\n",
              "      <th>Examenes</th>\n",
              "      <th>2020-04-09</th>\n",
              "      <th>2020-04-10</th>\n",
              "      <th>2020-04-11</th>\n",
              "      <th>2020-04-12</th>\n",
              "      <th>2020-04-13</th>\n",
              "      <th>2020-04-14</th>\n",
              "      <th>2020-04-15</th>\n",
              "    </tr>\n",
              "  </thead>\n",
              "  <tbody>\n",
              "    <tr>\n",
              "      <th>0</th>\n",
              "      <td>Instituto de salud pública</td>\n",
              "      <td>realizados</td>\n",
              "      <td>9597</td>\n",
              "      <td>10056</td>\n",
              "      <td>10424</td>\n",
              "      <td>10646</td>\n",
              "      <td>10861</td>\n",
              "      <td>11007</td>\n",
              "      <td>11186</td>\n",
              "    </tr>\n",
              "    <tr>\n",
              "      <th>1</th>\n",
              "      <td>Hospitales público</td>\n",
              "      <td>realizados</td>\n",
              "      <td>34874</td>\n",
              "      <td>37086</td>\n",
              "      <td>39078</td>\n",
              "      <td>42035</td>\n",
              "      <td>43624</td>\n",
              "      <td>42265</td>\n",
              "      <td>46889</td>\n",
              "    </tr>\n",
              "    <tr>\n",
              "      <th>2</th>\n",
              "      <td>Privados</td>\n",
              "      <td>realizados</td>\n",
              "      <td>23882</td>\n",
              "      <td>25655</td>\n",
              "      <td>26872</td>\n",
              "      <td>29590</td>\n",
              "      <td>30550</td>\n",
              "      <td>31522</td>\n",
              "      <td>33789</td>\n",
              "    </tr>\n",
              "    <tr>\n",
              "      <th>3</th>\n",
              "      <td>Instituto de salud pública</td>\n",
              "      <td>informados ultimo dia</td>\n",
              "      <td>605</td>\n",
              "      <td>459</td>\n",
              "      <td>368</td>\n",
              "      <td>222</td>\n",
              "      <td>215</td>\n",
              "      <td>146</td>\n",
              "      <td>179</td>\n",
              "    </tr>\n",
              "    <tr>\n",
              "      <th>4</th>\n",
              "      <td>Hospitales público</td>\n",
              "      <td>informados ultimo dia</td>\n",
              "      <td>3420</td>\n",
              "      <td>2212</td>\n",
              "      <td>1992</td>\n",
              "      <td>2957</td>\n",
              "      <td>1589</td>\n",
              "      <td>1641</td>\n",
              "      <td>1624</td>\n",
              "    </tr>\n",
              "    <tr>\n",
              "      <th>5</th>\n",
              "      <td>Privados</td>\n",
              "      <td>informados ultimo dia</td>\n",
              "      <td>3937</td>\n",
              "      <td>1773</td>\n",
              "      <td>1217</td>\n",
              "      <td>2718</td>\n",
              "      <td>960</td>\n",
              "      <td>972</td>\n",
              "      <td>2276</td>\n",
              "    </tr>\n",
              "  </tbody>\n",
              "</table>\n",
              "</div>"
            ],
            "text/plain": [
              "              Establecimiento               Examenes  ...  2020-04-14  2020-04-15\n",
              "0  Instituto de salud pública             realizados  ...       11007       11186\n",
              "1          Hospitales público             realizados  ...       42265       46889\n",
              "2                    Privados             realizados  ...       31522       33789\n",
              "3  Instituto de salud pública  informados ultimo dia  ...         146         179\n",
              "4          Hospitales público  informados ultimo dia  ...        1641        1624\n",
              "5                    Privados  informados ultimo dia  ...         972        2276\n",
              "\n",
              "[6 rows x 9 columns]"
            ]
          },
          "metadata": {
            "tags": []
          },
          "execution_count": 3
        }
      ]
    },
    {
      "cell_type": "code",
      "metadata": {
        "id": "i9XaYTJFDW81",
        "colab_type": "code",
        "colab": {}
      },
      "source": [
        "realizados = data_raw.query(\"Examenes == 'realizados'\")\n",
        "informados = data_raw.query(\"Examenes == 'informados ultimo dia'\")"
      ],
      "execution_count": 0,
      "outputs": []
    },
    {
      "cell_type": "code",
      "metadata": {
        "id": "b0JYfVJCC0RZ",
        "colab_type": "code",
        "colab": {}
      },
      "source": [
        "realizados = realizados.drop(columns='Examenes').set_index('Establecimiento')\n",
        "informados = informados.drop(columns='Examenes').set_index('Establecimiento')"
      ],
      "execution_count": 0,
      "outputs": []
    },
    {
      "cell_type": "code",
      "metadata": {
        "id": "kpbXfPLID9wK",
        "colab_type": "code",
        "colab": {
          "base_uri": "https://localhost:8080/",
          "height": 158
        },
        "outputId": "27faec67-b06f-445f-c338-3a5552beb731"
      },
      "source": [
        "realizados.sum(axis=0)"
      ],
      "execution_count": 6,
      "outputs": [
        {
          "output_type": "execute_result",
          "data": {
            "text/plain": [
              "2020-04-09    68353\n",
              "2020-04-10    72797\n",
              "2020-04-11    76374\n",
              "2020-04-12    82271\n",
              "2020-04-13    85035\n",
              "2020-04-14    84794\n",
              "2020-04-15    91864\n",
              "dtype: int64"
            ]
          },
          "metadata": {
            "tags": []
          },
          "execution_count": 6
        }
      ]
    },
    {
      "cell_type": "code",
      "metadata": {
        "id": "qAlPjQlLC8ez",
        "colab_type": "code",
        "colab": {
          "base_uri": "https://localhost:8080/",
          "height": 158
        },
        "outputId": "195d6690-0fe8-4c1e-c4c8-d1dc26ec7746"
      },
      "source": [
        "informados.sum(axis=0)"
      ],
      "execution_count": 7,
      "outputs": [
        {
          "output_type": "execute_result",
          "data": {
            "text/plain": [
              "2020-04-09    7962\n",
              "2020-04-10    4444\n",
              "2020-04-11    3577\n",
              "2020-04-12    5897\n",
              "2020-04-13    2764\n",
              "2020-04-14    2759\n",
              "2020-04-15    4079\n",
              "dtype: int64"
            ]
          },
          "metadata": {
            "tags": []
          },
          "execution_count": 7
        }
      ]
    },
    {
      "cell_type": "code",
      "metadata": {
        "id": "P9yVrz20ExjV",
        "colab_type": "code",
        "colab": {
          "base_uri": "https://localhost:8080/",
          "height": 35
        },
        "outputId": "62fc2632-f367-4781-ac98-ce3e6037f44f"
      },
      "source": [
        "(realizados.sum(axis=0)[:-1].astype(int)+informados.sum(axis=0).values[1:].astype(int)).values"
      ],
      "execution_count": 8,
      "outputs": [
        {
          "output_type": "execute_result",
          "data": {
            "text/plain": [
              "array([72797, 76374, 82271, 85035, 87794, 88873])"
            ]
          },
          "metadata": {
            "tags": []
          },
          "execution_count": 8
        }
      ]
    }
  ]
}