{
  "nbformat": 4,
  "nbformat_minor": 0,
  "metadata": {
    "colab": {
      "name": "COVID-19-Testing-Bar-Chart-Race.ipynb",
      "provenance": [],
      "collapsed_sections": [],
      "authorship_tag": "ABX9TyNyOXL7p67Z0eXDgbUldtID",
      "include_colab_link": true
    },
    "kernelspec": {
      "name": "python3",
      "display_name": "Python 3"
    }
  },
  "cells": [
    {
      "cell_type": "markdown",
      "metadata": {
        "id": "view-in-github",
        "colab_type": "text"
      },
      "source": [
        "<a href=\"https://colab.research.google.com/github/alonsosilvaallende/COVID-19/blob/master/COVID_19_Testing_Bar_Chart_Race.ipynb\" target=\"_parent\"><img src=\"https://colab.research.google.com/assets/colab-badge.svg\" alt=\"Open In Colab\"/></a>"
      ]
    },
    {
      "cell_type": "code",
      "metadata": {
        "id": "_sE6hjpMwM7G",
        "colab_type": "code",
        "colab": {}
      },
      "source": [
        "import pandas as pd\n",
        "import matplotlib.pyplot as plt\n",
        "import numpy as np"
      ],
      "execution_count": 0,
      "outputs": []
    },
    {
      "cell_type": "code",
      "metadata": {
        "id": "gOvMCp_7wXeQ",
        "colab_type": "code",
        "colab": {}
      },
      "source": [
        "data_raw = pd.read_csv('https://raw.githubusercontent.com/owid/covid-19-data/master/public/data/owid-covid-data.csv')"
      ],
      "execution_count": 0,
      "outputs": []
    },
    {
      "cell_type": "code",
      "metadata": {
        "id": "mlUsvt7Q00Sg",
        "colab_type": "code",
        "colab": {
          "base_uri": "https://localhost:8080/",
          "height": 226
        },
        "outputId": "d7b95a47-ee66-49f5-de60-a6c98104dd57"
      },
      "source": [
        "data_raw.head()"
      ],
      "execution_count": 115,
      "outputs": [
        {
          "output_type": "execute_result",
          "data": {
            "text/html": [
              "<div>\n",
              "<style scoped>\n",
              "    .dataframe tbody tr th:only-of-type {\n",
              "        vertical-align: middle;\n",
              "    }\n",
              "\n",
              "    .dataframe tbody tr th {\n",
              "        vertical-align: top;\n",
              "    }\n",
              "\n",
              "    .dataframe thead th {\n",
              "        text-align: right;\n",
              "    }\n",
              "</style>\n",
              "<table border=\"1\" class=\"dataframe\">\n",
              "  <thead>\n",
              "    <tr style=\"text-align: right;\">\n",
              "      <th></th>\n",
              "      <th>iso_code</th>\n",
              "      <th>location</th>\n",
              "      <th>date</th>\n",
              "      <th>total_cases</th>\n",
              "      <th>new_cases</th>\n",
              "      <th>total_deaths</th>\n",
              "      <th>new_deaths</th>\n",
              "      <th>total_cases_per_million</th>\n",
              "      <th>new_cases_per_million</th>\n",
              "      <th>total_deaths_per_million</th>\n",
              "      <th>new_deaths_per_million</th>\n",
              "      <th>total_tests</th>\n",
              "      <th>new_tests</th>\n",
              "      <th>total_tests_per_thousand</th>\n",
              "      <th>new_tests_per_thousand</th>\n",
              "      <th>tests_units</th>\n",
              "    </tr>\n",
              "  </thead>\n",
              "  <tbody>\n",
              "    <tr>\n",
              "      <th>0</th>\n",
              "      <td>ABW</td>\n",
              "      <td>Aruba</td>\n",
              "      <td>2020-03-13</td>\n",
              "      <td>2</td>\n",
              "      <td>2</td>\n",
              "      <td>0</td>\n",
              "      <td>0</td>\n",
              "      <td>18.733</td>\n",
              "      <td>18.733</td>\n",
              "      <td>0.0</td>\n",
              "      <td>0.0</td>\n",
              "      <td>NaN</td>\n",
              "      <td>NaN</td>\n",
              "      <td>NaN</td>\n",
              "      <td>NaN</td>\n",
              "      <td>NaN</td>\n",
              "    </tr>\n",
              "    <tr>\n",
              "      <th>1</th>\n",
              "      <td>ABW</td>\n",
              "      <td>Aruba</td>\n",
              "      <td>2020-03-20</td>\n",
              "      <td>4</td>\n",
              "      <td>2</td>\n",
              "      <td>0</td>\n",
              "      <td>0</td>\n",
              "      <td>37.465</td>\n",
              "      <td>18.733</td>\n",
              "      <td>0.0</td>\n",
              "      <td>0.0</td>\n",
              "      <td>NaN</td>\n",
              "      <td>NaN</td>\n",
              "      <td>NaN</td>\n",
              "      <td>NaN</td>\n",
              "      <td>NaN</td>\n",
              "    </tr>\n",
              "    <tr>\n",
              "      <th>2</th>\n",
              "      <td>ABW</td>\n",
              "      <td>Aruba</td>\n",
              "      <td>2020-03-24</td>\n",
              "      <td>12</td>\n",
              "      <td>8</td>\n",
              "      <td>0</td>\n",
              "      <td>0</td>\n",
              "      <td>112.395</td>\n",
              "      <td>74.930</td>\n",
              "      <td>0.0</td>\n",
              "      <td>0.0</td>\n",
              "      <td>NaN</td>\n",
              "      <td>NaN</td>\n",
              "      <td>NaN</td>\n",
              "      <td>NaN</td>\n",
              "      <td>NaN</td>\n",
              "    </tr>\n",
              "    <tr>\n",
              "      <th>3</th>\n",
              "      <td>ABW</td>\n",
              "      <td>Aruba</td>\n",
              "      <td>2020-03-25</td>\n",
              "      <td>17</td>\n",
              "      <td>5</td>\n",
              "      <td>0</td>\n",
              "      <td>0</td>\n",
              "      <td>159.227</td>\n",
              "      <td>46.831</td>\n",
              "      <td>0.0</td>\n",
              "      <td>0.0</td>\n",
              "      <td>NaN</td>\n",
              "      <td>NaN</td>\n",
              "      <td>NaN</td>\n",
              "      <td>NaN</td>\n",
              "      <td>NaN</td>\n",
              "    </tr>\n",
              "    <tr>\n",
              "      <th>4</th>\n",
              "      <td>ABW</td>\n",
              "      <td>Aruba</td>\n",
              "      <td>2020-03-26</td>\n",
              "      <td>19</td>\n",
              "      <td>2</td>\n",
              "      <td>0</td>\n",
              "      <td>0</td>\n",
              "      <td>177.959</td>\n",
              "      <td>18.733</td>\n",
              "      <td>0.0</td>\n",
              "      <td>0.0</td>\n",
              "      <td>NaN</td>\n",
              "      <td>NaN</td>\n",
              "      <td>NaN</td>\n",
              "      <td>NaN</td>\n",
              "      <td>NaN</td>\n",
              "    </tr>\n",
              "  </tbody>\n",
              "</table>\n",
              "</div>"
            ],
            "text/plain": [
              "  iso_code location  ... new_tests_per_thousand  tests_units\n",
              "0      ABW    Aruba  ...                    NaN          NaN\n",
              "1      ABW    Aruba  ...                    NaN          NaN\n",
              "2      ABW    Aruba  ...                    NaN          NaN\n",
              "3      ABW    Aruba  ...                    NaN          NaN\n",
              "4      ABW    Aruba  ...                    NaN          NaN\n",
              "\n",
              "[5 rows x 16 columns]"
            ]
          },
          "metadata": {
            "tags": []
          },
          "execution_count": 115
        }
      ]
    },
    {
      "cell_type": "code",
      "metadata": {
        "id": "fPpgMWexwet8",
        "colab_type": "code",
        "colab": {}
      },
      "source": [
        "list_OCDE = ['Australia', 'Austria', 'Belgium', 'Canada', 'Chile', \n",
        "                  'Czech Republic', 'Denmark', 'Estonia', 'Finland', 'France',\n",
        "                  'Germany', 'Greece', 'Hungary', 'Iceland', 'Ireland',\n",
        "                  'Israel', 'Italy', 'Japan', 'Korea', 'Latvia',\n",
        "                  'Lithuania', 'Luxembourg', 'Mexico', 'Netherlands', 'New Zealand',\n",
        "                  'Norway', 'Poland', 'Portugal', 'Slovakia', 'Slovenia',\n",
        "                  'Spain', 'Sweden', 'Switzerland', 'Turkey', 'United Kingdom']"
      ],
      "execution_count": 0,
      "outputs": []
    },
    {
      "cell_type": "code",
      "metadata": {
        "id": "TVJQ52n40ndZ",
        "colab_type": "code",
        "colab": {}
      },
      "source": [
        "list_latinoamerica = ['Argentina', 'Bolivia', 'Chile', 'Colombia',\n",
        "                     'Costa Rica', 'Cuba', 'Ecuador', 'El Salvador',\n",
        "                     'Mexico', 'Panama', 'Paraguay',\n",
        "                     'Peru', 'Uruguay']"
      ],
      "execution_count": 0,
      "outputs": []
    },
    {
      "cell_type": "code",
      "metadata": {
        "id": "Nt7dovc73sn9",
        "colab_type": "code",
        "colab": {
          "base_uri": "https://localhost:8080/",
          "height": 88
        },
        "outputId": "4524918c-4b36-4c0c-f15d-1e56879ea465"
      },
      "source": [
        "!pip install bar_chart_race"
      ],
      "execution_count": 54,
      "outputs": [
        {
          "output_type": "stream",
          "text": [
            "Collecting bar_chart_race\n",
            "  Downloading https://files.pythonhosted.org/packages/1b/46/88f158390994266a3808b4a9ff0ebcdb377156ab19f290ed15bfa7f21a86/bar_chart_race-0.0.6-py3-none-any.whl\n",
            "Installing collected packages: bar-chart-race\n",
            "Successfully installed bar-chart-race-0.0.6\n"
          ],
          "name": "stdout"
        }
      ]
    },
    {
      "cell_type": "code",
      "metadata": {
        "id": "IMwyGo8E3vX9",
        "colab_type": "code",
        "colab": {}
      },
      "source": [
        "import bar_chart_race as bcr"
      ],
      "execution_count": 0,
      "outputs": []
    },
    {
      "cell_type": "code",
      "metadata": {
        "id": "NHkLBuTb1ks4",
        "colab_type": "code",
        "colab": {}
      },
      "source": [
        "# data = pd.DataFrame()\n",
        "# data['date'] = data_raw[data_raw['location'].str.contains('Chile')]['date']\n",
        "# data['Chile'] = 1000*data_raw[data_raw['location'].str.contains('Chile')]['total_tests_per_thousand']\n",
        "# data = data.set_index('date')"
      ],
      "execution_count": 0,
      "outputs": []
    },
    {
      "cell_type": "code",
      "metadata": {
        "id": "n0ct5eJ90omQ",
        "colab_type": "code",
        "colab": {}
      },
      "source": [
        "# for country in list_latinoamerica:\n",
        "#   data[country] = 1000*data_raw[data_raw['location'].str.contains(country)][['date','total_tests_per_thousand']].set_index('date')"
      ],
      "execution_count": 0,
      "outputs": []
    },
    {
      "cell_type": "code",
      "metadata": {
        "id": "Ql904IJ33odD",
        "colab_type": "code",
        "colab": {}
      },
      "source": [
        "# data = data.fillna(method='pad')\n",
        "# data = data.fillna(0)\n",
        "# data = data.loc[:'2020-04-27']"
      ],
      "execution_count": 0,
      "outputs": []
    },
    {
      "cell_type": "code",
      "metadata": {
        "id": "g7t6Z3Wv9617",
        "colab_type": "code",
        "colab": {}
      },
      "source": [
        "data = pd.DataFrame()\n",
        "data['date'] = data_raw[data_raw['location'].str.contains('Italy')]['date']\n",
        "data['Italy'] = 1000*data_raw[data_raw['location'].str.contains('Italy')]['total_tests_per_thousand']\n",
        "data = data.set_index('date')"
      ],
      "execution_count": 0,
      "outputs": []
    },
    {
      "cell_type": "code",
      "metadata": {
        "id": "NhG7a8xu-DVA",
        "colab_type": "code",
        "colab": {}
      },
      "source": [
        "for country in list_OCDE:\n",
        "  data[country] = 1000*data_raw[data_raw['location'].str.contains(country)][['date','total_tests_per_thousand']].set_index('date')"
      ],
      "execution_count": 0,
      "outputs": []
    },
    {
      "cell_type": "code",
      "metadata": {
        "id": "28KW5zud-HkY",
        "colab_type": "code",
        "colab": {}
      },
      "source": [
        "data = data.fillna(method='pad')\n",
        "data = data.fillna(0)\n",
        "data = data.loc[:'2020-04-27']"
      ],
      "execution_count": 0,
      "outputs": []
    },
    {
      "cell_type": "code",
      "metadata": {
        "id": "O1fVRjbw3y49",
        "colab_type": "code",
        "colab": {}
      },
      "source": [
        "bcr.bar_chart_race(\n",
        "    df=data,\n",
        "    filename='covid19_tests_OECD.mp4',\n",
        "    orientation='h',\n",
        "    sort='desc',\n",
        "    label_bars=True,\n",
        "    use_index=True,\n",
        "    steps_per_period=10,\n",
        "    period_length=500,\n",
        "    figsize=(6.5, 3.5),\n",
        "    cmap='dark24',\n",
        "    title='COVID-19 Tests per Million in OECD Countries',\n",
        "    bar_label_size=7,\n",
        "    tick_label_size=7,\n",
        "    period_label_size=16,\n",
        "    fig=None)"
      ],
      "execution_count": 0,
      "outputs": []
    },
    {
      "cell_type": "code",
      "metadata": {
        "id": "m9mJ7zXv4R4o",
        "colab_type": "code",
        "colab": {}
      },
      "source": [
        "from google.colab import files\n",
        "files.download(\"covid19_tests_OECD.mp4\")"
      ],
      "execution_count": 0,
      "outputs": []
    },
    {
      "cell_type": "code",
      "metadata": {
        "id": "iLlVK53u4l70",
        "colab_type": "code",
        "colab": {}
      },
      "source": [
        ""
      ],
      "execution_count": 0,
      "outputs": []
    }
  ]
}