{
  "nbformat": 4,
  "nbformat_minor": 0,
  "metadata": {
    "colab": {
      "name": "COVID-19-vs-Flu.ipynb",
      "provenance": [],
      "authorship_tag": "ABX9TyPWIYnQljx/ZSIHQBCoFbH/",
      "include_colab_link": true
    },
    "kernelspec": {
      "name": "python3",
      "display_name": "Python 3"
    }
  },
  "cells": [
    {
      "cell_type": "markdown",
      "metadata": {
        "id": "view-in-github",
        "colab_type": "text"
      },
      "source": [
        "<a href=\"https://colab.research.google.com/github/alonsosilvaallende/COVID-19/blob/master/COVID_19_vs_Flu.ipynb\" target=\"_parent\"><img src=\"https://colab.research.google.com/assets/colab-badge.svg\" alt=\"Open In Colab\"/></a>"
      ]
    },
    {
      "cell_type": "code",
      "metadata": {
        "id": "kycfe_1kYiye",
        "colab_type": "code",
        "colab": {}
      },
      "source": [
        "import numpy as np\n",
        "import matplotlib.pyplot as plt\n",
        "import pandas as pd\n",
        "plt.style.use('seaborn')"
      ],
      "execution_count": 0,
      "outputs": []
    },
    {
      "cell_type": "markdown",
      "metadata": {
        "id": "HFWMXsAWtPfg",
        "colab_type": "text"
      },
      "source": [
        "Data downloaded from [CDC's Fluview](https://gis.cdc.gov/grasp/fluview/mortality.html) which uses data from the National Center for Health Statistics Mortality Surveillance System."
      ]
    },
    {
      "cell_type": "code",
      "metadata": {
        "id": "g1P0Ets5Y1Zd",
        "colab_type": "code",
        "colab": {}
      },
      "source": [
        "data_raw = pd.read_csv('https://raw.githubusercontent.com/alonsosilvaallende/COVID-19/master/data/National_Custom_Data.csv', thousands=',')"
      ],
      "execution_count": 0,
      "outputs": []
    },
    {
      "cell_type": "code",
      "metadata": {
        "id": "8DaomT9gl0hL",
        "colab_type": "code",
        "colab": {
          "base_uri": "https://localhost:8080/",
          "height": 206
        },
        "outputId": "9627a6f5-6f73-4808-9db5-670ec7af92b8"
      },
      "source": [
        "data_raw.head()"
      ],
      "execution_count": 3,
      "outputs": [
        {
          "output_type": "execute_result",
          "data": {
            "text/html": [
              "<div>\n",
              "<style scoped>\n",
              "    .dataframe tbody tr th:only-of-type {\n",
              "        vertical-align: middle;\n",
              "    }\n",
              "\n",
              "    .dataframe tbody tr th {\n",
              "        vertical-align: top;\n",
              "    }\n",
              "\n",
              "    .dataframe thead th {\n",
              "        text-align: right;\n",
              "    }\n",
              "</style>\n",
              "<table border=\"1\" class=\"dataframe\">\n",
              "  <thead>\n",
              "    <tr style=\"text-align: right;\">\n",
              "      <th></th>\n",
              "      <th>AREA</th>\n",
              "      <th>SUB AREA</th>\n",
              "      <th>AGE GROUP</th>\n",
              "      <th>SEASON</th>\n",
              "      <th>WEEK</th>\n",
              "      <th>THRESHOLD</th>\n",
              "      <th>BASELINE</th>\n",
              "      <th>PERCENT P&amp;I</th>\n",
              "      <th>NUM INFLUENZA DEATHS</th>\n",
              "      <th>NUM PNEUMONIA DEATHS</th>\n",
              "      <th>TOTAL DEATHS</th>\n",
              "      <th>PERCENT COMPLETE</th>\n",
              "    </tr>\n",
              "  </thead>\n",
              "  <tbody>\n",
              "    <tr>\n",
              "      <th>0</th>\n",
              "      <td>National</td>\n",
              "      <td>NaN</td>\n",
              "      <td>All</td>\n",
              "      <td>2018-19</td>\n",
              "      <td>40</td>\n",
              "      <td>5.9</td>\n",
              "      <td>5.5</td>\n",
              "      <td>5.7</td>\n",
              "      <td>10</td>\n",
              "      <td>2969</td>\n",
              "      <td>52357</td>\n",
              "      <td>&gt; 100%</td>\n",
              "    </tr>\n",
              "    <tr>\n",
              "      <th>1</th>\n",
              "      <td>National</td>\n",
              "      <td>NaN</td>\n",
              "      <td>All</td>\n",
              "      <td>2018-19</td>\n",
              "      <td>41</td>\n",
              "      <td>5.9</td>\n",
              "      <td>5.6</td>\n",
              "      <td>5.6</td>\n",
              "      <td>12</td>\n",
              "      <td>2866</td>\n",
              "      <td>51849</td>\n",
              "      <td>&gt; 100%</td>\n",
              "    </tr>\n",
              "    <tr>\n",
              "      <th>2</th>\n",
              "      <td>National</td>\n",
              "      <td>NaN</td>\n",
              "      <td>All</td>\n",
              "      <td>2018-19</td>\n",
              "      <td>42</td>\n",
              "      <td>6.0</td>\n",
              "      <td>5.7</td>\n",
              "      <td>5.7</td>\n",
              "      <td>18</td>\n",
              "      <td>2987</td>\n",
              "      <td>52979</td>\n",
              "      <td>&gt; 100%</td>\n",
              "    </tr>\n",
              "    <tr>\n",
              "      <th>3</th>\n",
              "      <td>National</td>\n",
              "      <td>NaN</td>\n",
              "      <td>All</td>\n",
              "      <td>2018-19</td>\n",
              "      <td>43</td>\n",
              "      <td>6.1</td>\n",
              "      <td>5.8</td>\n",
              "      <td>5.7</td>\n",
              "      <td>24</td>\n",
              "      <td>3065</td>\n",
              "      <td>53763</td>\n",
              "      <td>&gt; 100%</td>\n",
              "    </tr>\n",
              "    <tr>\n",
              "      <th>4</th>\n",
              "      <td>National</td>\n",
              "      <td>NaN</td>\n",
              "      <td>All</td>\n",
              "      <td>2018-19</td>\n",
              "      <td>44</td>\n",
              "      <td>6.2</td>\n",
              "      <td>5.9</td>\n",
              "      <td>5.6</td>\n",
              "      <td>25</td>\n",
              "      <td>3003</td>\n",
              "      <td>53638</td>\n",
              "      <td>&gt; 100%</td>\n",
              "    </tr>\n",
              "  </tbody>\n",
              "</table>\n",
              "</div>"
            ],
            "text/plain": [
              "       AREA  SUB AREA  ... TOTAL DEATHS PERCENT COMPLETE\n",
              "0  National       NaN  ...        52357           > 100%\n",
              "1  National       NaN  ...        51849           > 100%\n",
              "2  National       NaN  ...        52979           > 100%\n",
              "3  National       NaN  ...        53763           > 100%\n",
              "4  National       NaN  ...        53638           > 100%\n",
              "\n",
              "[5 rows x 12 columns]"
            ]
          },
          "metadata": {
            "tags": []
          },
          "execution_count": 3
        }
      ]
    },
    {
      "cell_type": "code",
      "metadata": {
        "id": "zOZV9PxFZHu4",
        "colab_type": "code",
        "colab": {}
      },
      "source": [
        "data_season_2018_2019 = data_raw.query(\"SEASON == '2018-19'\")\n",
        "data_season_2017_2018 = data_raw.query(\"SEASON == '2017-18'\")\n",
        "data_season_2016_2017 = data_raw.query(\"SEASON == '2016-17'\")\n",
        "data_season_2015_2016 = data_raw.query(\"SEASON == '2015-16'\")"
      ],
      "execution_count": 0,
      "outputs": []
    },
    {
      "cell_type": "markdown",
      "metadata": {
        "id": "5clOvyOvt0z2",
        "colab_type": "text"
      },
      "source": [
        "Data from ECDC curated by [Our World in Data](https://ourworldindata.org/)."
      ]
    },
    {
      "cell_type": "code",
      "metadata": {
        "id": "YOhKQT4NerfV",
        "colab_type": "code",
        "colab": {}
      },
      "source": [
        "covid = pd.read_csv(\"https://covid.ourworldindata.org/data/ecdc/total_deaths.csv\", index_col='date')"
      ],
      "execution_count": 0,
      "outputs": []
    },
    {
      "cell_type": "code",
      "metadata": {
        "id": "kpJXcvo2euVm",
        "colab_type": "code",
        "colab": {}
      },
      "source": [
        "United_States = covid['United States'][covid['United States']>0]"
      ],
      "execution_count": 0,
      "outputs": []
    },
    {
      "cell_type": "code",
      "metadata": {
        "id": "Cya76MvDgzJ8",
        "colab_type": "code",
        "colab": {
          "base_uri": "https://localhost:8080/",
          "height": 141
        },
        "outputId": "2e2c3f03-d05b-4960-8720-3468cb52786b"
      },
      "source": [
        "United_States.head()"
      ],
      "execution_count": 7,
      "outputs": [
        {
          "output_type": "execute_result",
          "data": {
            "text/plain": [
              "date\n",
              "2020-03-01     1\n",
              "2020-03-02     2\n",
              "2020-03-03     6\n",
              "2020-03-04     9\n",
              "2020-03-05    11\n",
              "Name: United States, dtype: int64"
            ]
          },
          "metadata": {
            "tags": []
          },
          "execution_count": 7
        }
      ]
    },
    {
      "cell_type": "code",
      "metadata": {
        "id": "YNHFSuEVgTzP",
        "colab_type": "code",
        "colab": {}
      },
      "source": [
        "Week_09 = United_States.iloc[1]\n",
        "Week_10 = United_States.iloc[8]  - Week_09\n",
        "Week_11 = United_States.iloc[15] - Week_10\n",
        "Week_12 = United_States.iloc[22] - Week_11\n",
        "Week_13 = United_States.iloc[29] - Week_12\n",
        "Week_14 = United_States.iloc[36] - Week_13\n",
        "Week_15 = United_States.iloc[43] - Week_14"
      ],
      "execution_count": 0,
      "outputs": []
    },
    {
      "cell_type": "code",
      "metadata": {
        "id": "qK7hjtyijm6W",
        "colab_type": "code",
        "colab": {}
      },
      "source": [
        "deaths_covid = [Week_09, Week_10, Week_11, Week_12, Week_13, Week_14, Week_15]"
      ],
      "execution_count": 0,
      "outputs": []
    },
    {
      "cell_type": "code",
      "metadata": {
        "id": "Ve591RDGn-gG",
        "colab_type": "code",
        "colab": {
          "base_uri": "https://localhost:8080/",
          "height": 35
        },
        "outputId": "162b9564-8039-4ca1-d04a-b2687edcd0c9"
      },
      "source": [
        "deaths_covid"
      ],
      "execution_count": 10,
      "outputs": [
        {
          "output_type": "execute_result",
          "data": {
            "text/plain": [
              "[2, 19, 50, 421, 2088, 7559, 14549]"
            ]
          },
          "metadata": {
            "tags": []
          },
          "execution_count": 10
        }
      ]
    },
    {
      "cell_type": "code",
      "metadata": {
        "id": "a1UiFr8AdwGM",
        "colab_type": "code",
        "colab": {
          "base_uri": "https://localhost:8080/",
          "height": 565
        },
        "outputId": "c4e200ab-0cda-459c-cea4-f5a3cc612308"
      },
      "source": [
        "fig, ax = plt.subplots(figsize=(10,7))\n",
        "ax.plot(np.arange(21,28,1), deaths_covid, linewidth=2, color='C2', label='COVID-19')\n",
        "ax.plot(np.arange(52),data_season_2018_2019['NUM INFLUENZA DEATHS']+data_season_2018_2019['NUM PNEUMONIA DEATHS'], linewidth=2, color='C0', label='2018-2019')\n",
        "ax.plot(np.arange(52),data_season_2017_2018['NUM INFLUENZA DEATHS']+data_season_2017_2018['NUM PNEUMONIA DEATHS'], linewidth=2, color='C1', label='2017-2018')\n",
        "ax.plot(np.arange(52),data_season_2016_2017['NUM INFLUENZA DEATHS']+data_season_2016_2017['NUM PNEUMONIA DEATHS'], linewidth=2, color='C3', label='2016-2017')\n",
        "ax.plot(np.arange(52),data_season_2015_2016['NUM INFLUENZA DEATHS']+data_season_2015_2016['NUM PNEUMONIA DEATHS'], linewidth=2, color='C4', label='2015-2016')\n",
        "\n",
        "ax.set_title('Weekly Seasonal Flu Deaths vs. COVID-19 Deaths in the United States', fontsize='x-large')\n",
        "ax.set_xlabel('Week of Flu Season', fontsize='x-large')\n",
        "ax.set_ylabel('Weekly Deaths', fontsize='x-large')\n",
        "ax.legend(fontsize='x-large')\n",
        "fig.tight_layout()\n",
        "plt.annotate('Sources:\\nNational Center for Health Statistics Mortality Surveillance System\\nECDC', (0,0), (-60,-40), fontsize='x-large', xycoords='axes fraction', textcoords='offset points', va='top')\n",
        "plt.savefig('2020-04-13-COVID-19-vs-Flu.png', bbox_inches='tight', format='png', dvi=1200)"
      ],
      "execution_count": 15,
      "outputs": [
        {
          "output_type": "display_data",
          "data": {
            "image/png": "[encoded data removed]",
            "text/plain": [
              "<Figure size 720x504 with 1 Axes>"
            ]
          },
          "metadata": {
            "tags": [],
            "needs_background": "light"
          }
        }
      ]
    },
    {
      "cell_type": "code",
      "metadata": {
        "id": "zwI82AYNsLG-",
        "colab_type": "code",
        "colab": {}
      },
      "source": [
        "from google.colab import files\n",
        "files.download(\"2020-04-13-COVID-19-vs-Flu.png\")"
      ],
      "execution_count": 0,
      "outputs": []
    }
  ]
}