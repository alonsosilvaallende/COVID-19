{
  "nbformat": 4,
  "nbformat_minor": 0,
  "metadata": {
    "colab": {
      "name": "COVID-19-Chile-Tests.ipynb",
      "provenance": [],
      "collapsed_sections": [],
      "toc_visible": true,
      "authorship_tag": "ABX9TyMhRBmXHuXu96iyovJPbtR5",
      "include_colab_link": true
    },
    "kernelspec": {
      "name": "python3",
      "display_name": "Python 3"
    }
  },
  "cells": [
    {
      "cell_type": "markdown",
      "metadata": {
        "id": "view-in-github",
        "colab_type": "text"
      },
      "source": [
        "<a href=\"https://colab.research.google.com/github/alonsosilvaallende/COVID-19/blob/master/COVID_19_Chile_Tests.ipynb\" target=\"_parent\"><img src=\"https://colab.research.google.com/assets/colab-badge.svg\" alt=\"Open In Colab\"/></a>"
      ]
    },
    {
      "cell_type": "code",
      "metadata": {
        "id": "GFB-WU_MpYHr",
        "colab_type": "code",
        "colab": {}
      },
      "source": [
        "import numpy as np\n",
        "import matplotlib.pyplot as plt\n",
        "import pandas as pd\n",
        "plt.style.use('seaborn')"
      ],
      "execution_count": 0,
      "outputs": []
    },
    {
      "cell_type": "code",
      "metadata": {
        "id": "rQzhh2tVqmbO",
        "colab_type": "code",
        "colab": {
          "base_uri": "https://localhost:8080/",
          "height": 55
        },
        "outputId": "48bfc6ce-e6c7-4775-c567-abfb971e15d0"
      },
      "source": [
        "from google.colab import drive\n",
        "drive.mount('/content/gdrive')"
      ],
      "execution_count": 2,
      "outputs": [
        {
          "output_type": "stream",
          "text": [
            "Drive already mounted at /content/gdrive; to attempt to forcibly remount, call drive.mount(\"/content/gdrive\", force_remount=True).\n"
          ],
          "name": "stdout"
        }
      ]
    },
    {
      "cell_type": "markdown",
      "metadata": {
        "id": "v3FCqMQ3W7jj",
        "colab_type": "text"
      },
      "source": [
        "Archivo descargado de Our World in Data: https://ourworldindata.org/coronavirus-data#testing"
      ]
    },
    {
      "cell_type": "code",
      "metadata": {
        "id": "_AcLxlXNrBYT",
        "colab_type": "code",
        "colab": {}
      },
      "source": [
        "tests = pd.read_csv('gdrive/My Drive/tests-vs-confirmed-cases-covid-19.csv')"
      ],
      "execution_count": 0,
      "outputs": []
    },
    {
      "cell_type": "code",
      "metadata": {
        "id": "_vnePaZ_rTd7",
        "colab_type": "code",
        "colab": {
          "base_uri": "https://localhost:8080/",
          "height": 206
        },
        "outputId": "cc4dbe23-ce03-477f-f277-f43929feb1a2"
      },
      "source": [
        "tests.head()"
      ],
      "execution_count": 4,
      "outputs": [
        {
          "output_type": "execute_result",
          "data": {
            "text/html": [
              "<div>\n",
              "<style scoped>\n",
              "    .dataframe tbody tr th:only-of-type {\n",
              "        vertical-align: middle;\n",
              "    }\n",
              "\n",
              "    .dataframe tbody tr th {\n",
              "        vertical-align: top;\n",
              "    }\n",
              "\n",
              "    .dataframe thead th {\n",
              "        text-align: right;\n",
              "    }\n",
              "</style>\n",
              "<table border=\"1\" class=\"dataframe\">\n",
              "  <thead>\n",
              "    <tr style=\"text-align: right;\">\n",
              "      <th></th>\n",
              "      <th>Entity</th>\n",
              "      <th>Code</th>\n",
              "      <th>Date</th>\n",
              "      <th>Total COVID-19 tests</th>\n",
              "      <th>Total confirmed cases of COVID-19 (cases)</th>\n",
              "    </tr>\n",
              "  </thead>\n",
              "  <tbody>\n",
              "    <tr>\n",
              "      <th>0</th>\n",
              "      <td>Afghanistan</td>\n",
              "      <td>AFG</td>\n",
              "      <td>Dec 31, 2019</td>\n",
              "      <td>NaN</td>\n",
              "      <td>0.0</td>\n",
              "    </tr>\n",
              "    <tr>\n",
              "      <th>1</th>\n",
              "      <td>Afghanistan</td>\n",
              "      <td>AFG</td>\n",
              "      <td>Jan 1, 2020</td>\n",
              "      <td>NaN</td>\n",
              "      <td>0.0</td>\n",
              "    </tr>\n",
              "    <tr>\n",
              "      <th>2</th>\n",
              "      <td>Afghanistan</td>\n",
              "      <td>AFG</td>\n",
              "      <td>Jan 2, 2020</td>\n",
              "      <td>NaN</td>\n",
              "      <td>0.0</td>\n",
              "    </tr>\n",
              "    <tr>\n",
              "      <th>3</th>\n",
              "      <td>Afghanistan</td>\n",
              "      <td>AFG</td>\n",
              "      <td>Jan 3, 2020</td>\n",
              "      <td>NaN</td>\n",
              "      <td>0.0</td>\n",
              "    </tr>\n",
              "    <tr>\n",
              "      <th>4</th>\n",
              "      <td>Afghanistan</td>\n",
              "      <td>AFG</td>\n",
              "      <td>Jan 4, 2020</td>\n",
              "      <td>NaN</td>\n",
              "      <td>0.0</td>\n",
              "    </tr>\n",
              "  </tbody>\n",
              "</table>\n",
              "</div>"
            ],
            "text/plain": [
              "        Entity  ... Total confirmed cases of COVID-19 (cases)\n",
              "0  Afghanistan  ...                                       0.0\n",
              "1  Afghanistan  ...                                       0.0\n",
              "2  Afghanistan  ...                                       0.0\n",
              "3  Afghanistan  ...                                       0.0\n",
              "4  Afghanistan  ...                                       0.0\n",
              "\n",
              "[5 rows x 5 columns]"
            ]
          },
          "metadata": {
            "tags": []
          },
          "execution_count": 4
        }
      ]
    },
    {
      "cell_type": "code",
      "metadata": {
        "id": "ihXITaukM_87",
        "colab_type": "code",
        "colab": {
          "base_uri": "https://localhost:8080/",
          "height": 917
        },
        "outputId": "8b509fd9-d5da-4b1b-e8b4-ab1ecf2e6f33"
      },
      "source": [
        "tests['Entity'].unique()"
      ],
      "execution_count": 5,
      "outputs": [
        {
          "output_type": "execute_result",
          "data": {
            "text/plain": [
              "array(['Afghanistan', 'Albania', 'Algeria', 'Andorra', 'Angola',\n",
              "       'Antigua and Barbuda', 'Argentina', 'Armenia', 'Aruba',\n",
              "       'Australia', 'Australia - Australian Capital Territory',\n",
              "       'Australia - New South Wales', 'Australia - Queensland',\n",
              "       'Australia - South Australia', 'Australia - Tasmania',\n",
              "       'Australia - Victoria', 'Australia - Western Australia', 'Austria',\n",
              "       'Azerbaijan', 'Bahamas', 'Bahrain', 'Bangladesh', 'Barbados',\n",
              "       'Belarus', 'Belgium', 'Belize', 'Benin', 'Bermuda', 'Bhutan',\n",
              "       'Bolivia', 'Bosnia and Herzegovina', 'Brazil', 'Brunei',\n",
              "       'Bulgaria', 'Burkina Faso', 'Cambodia', 'Cameroon', 'Canada',\n",
              "       'Canada - Alberta', 'Canada - British Columbia',\n",
              "       'Canada - National lab', 'Canada - New Brunswick',\n",
              "       'Canada - Northwest Territories', 'Canada - Nova Scotia',\n",
              "       'Canada - Ontario', 'Canada - Quebec', 'Canada - Saskatchewan',\n",
              "       'Cape Verde', 'Cayman Islands', 'Central African Republic', 'Chad',\n",
              "       'Chile', 'China', 'China - Guangdong', 'Colombia', 'Congo',\n",
              "       'Costa Rica', \"Cote d'Ivoire\", 'Croatia', 'Cuba', 'Curacao',\n",
              "       'Cyprus', 'Czech Republic', 'Democratic Republic of Congo',\n",
              "       'Denmark', 'Djibouti', 'Dominica', 'Dominican Republic', 'Ecuador',\n",
              "       'Egypt', 'El Salvador', 'Equatorial Guinea', 'Eritrea', 'Estonia',\n",
              "       'Ethiopia', 'Faeroe Islands', 'Fiji', 'Finland', 'France',\n",
              "       'French Polynesia', 'Gabon', 'Gambia', 'Georgia', 'Germany',\n",
              "       'Ghana', 'Gibraltar', 'Greece', 'Greenland', 'Grenada', 'Guam',\n",
              "       'Guatemala', 'Guernsey', 'Guinea', 'Guyana', 'Haiti', 'Honduras',\n",
              "       'Hong Kong', 'Hungary', 'Iceland', 'India', 'Indonesia',\n",
              "       'International', 'Iran', 'Iraq', 'Ireland', 'Isle of Man',\n",
              "       'Israel', 'Italy', 'Jamaica', 'Japan', 'Jersey', 'Jordan',\n",
              "       'Kazakhstan', 'Kenya', 'Kosovo', 'Kuwait', 'Kyrgyzstan', 'Laos',\n",
              "       'Latvia', 'Lebanon', 'Liberia', 'Libya', 'Liechtenstein',\n",
              "       'Lithuania', 'Luxembourg', 'Macedonia', 'Madagascar', 'Malaysia',\n",
              "       'Maldives', 'Mali', 'Malta', 'Mauritania', 'Mauritius', 'Mexico',\n",
              "       'Moldova', 'Monaco', 'Mongolia', 'Montenegro', 'Montserrat',\n",
              "       'Morocco', 'Mozambique', 'Myanmar', 'Namibia', 'Nepal',\n",
              "       'Netherlands', 'New Caledonia', 'New Zealand', 'Nicaragua',\n",
              "       'Niger', 'Nigeria', 'Norway', 'Oman', 'Pakistan', 'Palestine',\n",
              "       'Panama', 'Papua New Guinea', 'Paraguay', 'Peru', 'Philippines',\n",
              "       'Poland', 'Portugal', 'Qatar', 'Romania', 'Russia', 'Rwanda',\n",
              "       'Saint Kitts and Nevis', 'Saint Lucia',\n",
              "       'Saint Vincent and the Grenadines', 'San Marino', 'Saudi Arabia',\n",
              "       'Senegal', 'Serbia', 'Seychelles', 'Singapore',\n",
              "       'Sint Maarten (Dutch part)', 'Slovakia', 'Slovenia', 'Somalia',\n",
              "       'South Africa', 'South Korea', 'Spain', 'Sri Lanka', 'Sudan',\n",
              "       'Suriname', 'Swaziland', 'Sweden', 'Switzerland', 'Syria',\n",
              "       'Taiwan', 'Tanzania', 'Thailand', 'Timor', 'Togo',\n",
              "       'Trinidad and Tobago', 'Tunisia', 'Turkey',\n",
              "       'Turks and Caicos Islands', 'Uganda', 'Ukraine',\n",
              "       'United Arab Emirates', 'United Kingdom', 'United States',\n",
              "       'United States - CDC samples tested',\n",
              "       'United States Virgin Islands', 'Uruguay', 'Uzbekistan', 'Vatican',\n",
              "       'Venezuela', 'Vietnam', 'World', 'Zambia', 'Zimbabwe'],\n",
              "      dtype=object)"
            ]
          },
          "metadata": {
            "tags": []
          },
          "execution_count": 5
        }
      ]
    },
    {
      "cell_type": "code",
      "metadata": {
        "id": "LRSUe_nmsAev",
        "colab_type": "code",
        "colab": {}
      },
      "source": [
        "list_countries = ['Argentina', 'Bolivia', 'Brazil', 'Chile', 'Colombia', \\\n",
        "                  'Ecuador', 'Paraguay', 'Peru', 'Uruguay', 'Venezuela', \\\n",
        "                  'France', 'Italy', 'Japan', 'Spain', 'South Korea', 'United Kingdom', 'United States']"
      ],
      "execution_count": 0,
      "outputs": []
    },
    {
      "cell_type": "code",
      "metadata": {
        "id": "EFM95Re-_3XT",
        "colab_type": "code",
        "colab": {}
      },
      "source": [
        "n_known_cases = pd.Series()\n",
        "for country in list_countries:\n",
        "  n_known_cases[country] = tests[tests['Entity'] == country]['Total confirmed cases of COVID-19 (cases)'].iloc[-1]"
      ],
      "execution_count": 0,
      "outputs": []
    },
    {
      "cell_type": "code",
      "metadata": {
        "id": "LFNOMkybOwg5",
        "colab_type": "code",
        "colab": {}
      },
      "source": [
        "n_known_cases['Chile'] = 1610.0"
      ],
      "execution_count": 0,
      "outputs": []
    },
    {
      "cell_type": "code",
      "metadata": {
        "id": "xXf9wocPAZsF",
        "colab_type": "code",
        "colab": {
          "base_uri": "https://localhost:8080/",
          "height": 335
        },
        "outputId": "e43f4d8b-739e-44dd-c8de-2adbafebef12"
      },
      "source": [
        "n_known_cases"
      ],
      "execution_count": 9,
      "outputs": [
        {
          "output_type": "execute_result",
          "data": {
            "text/plain": [
              "Argentina           502.0\n",
              "Bolivia              39.0\n",
              "Brazil             2433.0\n",
              "Chile              1610.0\n",
              "Colombia            470.0\n",
              "Ecuador            1211.0\n",
              "Paraguay             37.0\n",
              "Peru                558.0\n",
              "Uruguay             217.0\n",
              "Venezuela           106.0\n",
              "France            25233.0\n",
              "Italy             74386.0\n",
              "Japan              1268.0\n",
              "Spain             47610.0\n",
              "South Korea        9241.0\n",
              "United Kingdom     9529.0\n",
              "United States     69194.0\n",
              "dtype: float64"
            ]
          },
          "metadata": {
            "tags": []
          },
          "execution_count": 9
        }
      ]
    },
    {
      "cell_type": "code",
      "metadata": {
        "id": "or67A9tLIwqO",
        "colab_type": "code",
        "colab": {
          "base_uri": "https://localhost:8080/",
          "height": 229
        },
        "outputId": "801dd955-0719-4441-99c2-9bca550b332d"
      },
      "source": [
        "tests[tests['Entity']== 'Spain']['Total COVID-19 tests'][10:]"
      ],
      "execution_count": 42,
      "outputs": [
        {
          "output_type": "execute_result",
          "data": {
            "text/plain": [
              "5927   NaN\n",
              "5928   NaN\n",
              "5929   NaN\n",
              "5930   NaN\n",
              "5931   NaN\n",
              "        ..\n",
              "5999   NaN\n",
              "6000   NaN\n",
              "6001   NaN\n",
              "6002   NaN\n",
              "6003   NaN\n",
              "Name: Total COVID-19 tests, Length: 77, dtype: float64"
            ]
          },
          "metadata": {
            "tags": []
          },
          "execution_count": 42
        }
      ]
    },
    {
      "cell_type": "code",
      "metadata": {
        "id": "_GVKh1j2VULY",
        "colab_type": "code",
        "colab": {}
      },
      "source": [
        "aux = tests[tests['Entity'] == 'United States']['Total COVID-19 tests']"
      ],
      "execution_count": 0,
      "outputs": []
    },
    {
      "cell_type": "code",
      "metadata": {
        "id": "Kc4nKml1VdLs",
        "colab_type": "code",
        "colab": {
          "base_uri": "https://localhost:8080/",
          "height": 52
        },
        "outputId": "f4d27859-b821-49bd-b2ea-96a833a732b4"
      },
      "source": [
        "aux[aux.notnull()]"
      ],
      "execution_count": 51,
      "outputs": [
        {
          "output_type": "execute_result",
          "data": {
            "text/plain": [
              "6798    103945.0\n",
              "Name: Total COVID-19 tests, dtype: float64"
            ]
          },
          "metadata": {
            "tags": []
          },
          "execution_count": 51
        }
      ]
    },
    {
      "cell_type": "code",
      "metadata": {
        "id": "UgEj2VlcpeXA",
        "colab_type": "code",
        "colab": {}
      },
      "source": [
        "n_tests = pd.Series()\n",
        "for country in list_countries:\n",
        "  aux = tests[tests['Entity'] == country]['Total COVID-19 tests']\n",
        "  if aux.notnull().sum() != 0:\n",
        "    n_tests[country] = aux[aux.notnull()].values[0]\n",
        "  else:\n",
        "    n_tests[country] = aux.iloc[0]"
      ],
      "execution_count": 0,
      "outputs": []
    },
    {
      "cell_type": "code",
      "metadata": {
        "id": "WhUWJzz_7-Xx",
        "colab_type": "code",
        "colab": {}
      },
      "source": [
        "n_tests['Chile'] = 23105.0"
      ],
      "execution_count": 0,
      "outputs": []
    },
    {
      "cell_type": "code",
      "metadata": {
        "id": "2wXPoyI8tMs5",
        "colab_type": "code",
        "colab": {
          "base_uri": "https://localhost:8080/",
          "height": 335
        },
        "outputId": "745c09e4-5359-4584-8d21-a9f84545b8ae"
      },
      "source": [
        "n_tests"
      ],
      "execution_count": 13,
      "outputs": [
        {
          "output_type": "execute_result",
          "data": {
            "text/plain": [
              "Argentina              NaN\n",
              "Bolivia                NaN\n",
              "Brazil              2927.0\n",
              "Chile              23105.0\n",
              "Colombia            4103.0\n",
              "Ecuador                NaN\n",
              "Paraguay               NaN\n",
              "Peru                   NaN\n",
              "Uruguay                NaN\n",
              "Venezuela              NaN\n",
              "France             36747.0\n",
              "Italy             206886.0\n",
              "Japan              14901.0\n",
              "Spain              30000.0\n",
              "South Korea       316664.0\n",
              "United Kingdom     64621.0\n",
              "United States     103945.0\n",
              "dtype: float64"
            ]
          },
          "metadata": {
            "tags": []
          },
          "execution_count": 13
        }
      ]
    },
    {
      "cell_type": "code",
      "metadata": {
        "id": "a1J8GyHbC4VA",
        "colab_type": "code",
        "colab": {}
      },
      "source": [
        "data = {\n",
        "    'Country': list_countries,\n",
        "    'Number of confirmed cases': n_known_cases,\n",
        "    'Number of tests': n_tests\n",
        "}"
      ],
      "execution_count": 0,
      "outputs": []
    },
    {
      "cell_type": "code",
      "metadata": {
        "id": "_YxCY3XCDWv_",
        "colab_type": "code",
        "colab": {
          "base_uri": "https://localhost:8080/",
          "height": 237
        },
        "outputId": "9312ea79-6eb2-4f6a-8686-8aed6b93f0cb"
      },
      "source": [
        "df = pd.DataFrame(data).set_index('Country')\n",
        "df.head()"
      ],
      "execution_count": 15,
      "outputs": [
        {
          "output_type": "execute_result",
          "data": {
            "text/html": [
              "<div>\n",
              "<style scoped>\n",
              "    .dataframe tbody tr th:only-of-type {\n",
              "        vertical-align: middle;\n",
              "    }\n",
              "\n",
              "    .dataframe tbody tr th {\n",
              "        vertical-align: top;\n",
              "    }\n",
              "\n",
              "    .dataframe thead th {\n",
              "        text-align: right;\n",
              "    }\n",
              "</style>\n",
              "<table border=\"1\" class=\"dataframe\">\n",
              "  <thead>\n",
              "    <tr style=\"text-align: right;\">\n",
              "      <th></th>\n",
              "      <th>Number of confirmed cases</th>\n",
              "      <th>Number of tests</th>\n",
              "    </tr>\n",
              "    <tr>\n",
              "      <th>Country</th>\n",
              "      <th></th>\n",
              "      <th></th>\n",
              "    </tr>\n",
              "  </thead>\n",
              "  <tbody>\n",
              "    <tr>\n",
              "      <th>Argentina</th>\n",
              "      <td>502.0</td>\n",
              "      <td>NaN</td>\n",
              "    </tr>\n",
              "    <tr>\n",
              "      <th>Bolivia</th>\n",
              "      <td>39.0</td>\n",
              "      <td>NaN</td>\n",
              "    </tr>\n",
              "    <tr>\n",
              "      <th>Brazil</th>\n",
              "      <td>2433.0</td>\n",
              "      <td>2927.0</td>\n",
              "    </tr>\n",
              "    <tr>\n",
              "      <th>Chile</th>\n",
              "      <td>1610.0</td>\n",
              "      <td>23105.0</td>\n",
              "    </tr>\n",
              "    <tr>\n",
              "      <th>Colombia</th>\n",
              "      <td>470.0</td>\n",
              "      <td>4103.0</td>\n",
              "    </tr>\n",
              "  </tbody>\n",
              "</table>\n",
              "</div>"
            ],
            "text/plain": [
              "           Number of confirmed cases  Number of tests\n",
              "Country                                              \n",
              "Argentina                      502.0              NaN\n",
              "Bolivia                         39.0              NaN\n",
              "Brazil                        2433.0           2927.0\n",
              "Chile                         1610.0          23105.0\n",
              "Colombia                       470.0           4103.0"
            ]
          },
          "metadata": {
            "tags": []
          },
          "execution_count": 15
        }
      ]
    },
    {
      "cell_type": "code",
      "metadata": {
        "id": "rAIZghnXB7p8",
        "colab_type": "code",
        "colab": {}
      },
      "source": [
        "df = df.dropna()"
      ],
      "execution_count": 0,
      "outputs": []
    },
    {
      "cell_type": "code",
      "metadata": {
        "id": "rBIyw7YIEbdP",
        "colab_type": "code",
        "colab": {
          "base_uri": "https://localhost:8080/",
          "height": 394
        },
        "outputId": "52a0cc7a-9617-4199-d495-77b160babb03"
      },
      "source": [
        "df"
      ],
      "execution_count": 17,
      "outputs": [
        {
          "output_type": "execute_result",
          "data": {
            "text/html": [
              "<div>\n",
              "<style scoped>\n",
              "    .dataframe tbody tr th:only-of-type {\n",
              "        vertical-align: middle;\n",
              "    }\n",
              "\n",
              "    .dataframe tbody tr th {\n",
              "        vertical-align: top;\n",
              "    }\n",
              "\n",
              "    .dataframe thead th {\n",
              "        text-align: right;\n",
              "    }\n",
              "</style>\n",
              "<table border=\"1\" class=\"dataframe\">\n",
              "  <thead>\n",
              "    <tr style=\"text-align: right;\">\n",
              "      <th></th>\n",
              "      <th>Number of confirmed cases</th>\n",
              "      <th>Number of tests</th>\n",
              "    </tr>\n",
              "    <tr>\n",
              "      <th>Country</th>\n",
              "      <th></th>\n",
              "      <th></th>\n",
              "    </tr>\n",
              "  </thead>\n",
              "  <tbody>\n",
              "    <tr>\n",
              "      <th>Brazil</th>\n",
              "      <td>2433.0</td>\n",
              "      <td>2927.0</td>\n",
              "    </tr>\n",
              "    <tr>\n",
              "      <th>Chile</th>\n",
              "      <td>1610.0</td>\n",
              "      <td>23105.0</td>\n",
              "    </tr>\n",
              "    <tr>\n",
              "      <th>Colombia</th>\n",
              "      <td>470.0</td>\n",
              "      <td>4103.0</td>\n",
              "    </tr>\n",
              "    <tr>\n",
              "      <th>France</th>\n",
              "      <td>25233.0</td>\n",
              "      <td>36747.0</td>\n",
              "    </tr>\n",
              "    <tr>\n",
              "      <th>Italy</th>\n",
              "      <td>74386.0</td>\n",
              "      <td>206886.0</td>\n",
              "    </tr>\n",
              "    <tr>\n",
              "      <th>Japan</th>\n",
              "      <td>1268.0</td>\n",
              "      <td>14901.0</td>\n",
              "    </tr>\n",
              "    <tr>\n",
              "      <th>Spain</th>\n",
              "      <td>47610.0</td>\n",
              "      <td>30000.0</td>\n",
              "    </tr>\n",
              "    <tr>\n",
              "      <th>South Korea</th>\n",
              "      <td>9241.0</td>\n",
              "      <td>316664.0</td>\n",
              "    </tr>\n",
              "    <tr>\n",
              "      <th>United Kingdom</th>\n",
              "      <td>9529.0</td>\n",
              "      <td>64621.0</td>\n",
              "    </tr>\n",
              "    <tr>\n",
              "      <th>United States</th>\n",
              "      <td>69194.0</td>\n",
              "      <td>103945.0</td>\n",
              "    </tr>\n",
              "  </tbody>\n",
              "</table>\n",
              "</div>"
            ],
            "text/plain": [
              "                Number of confirmed cases  Number of tests\n",
              "Country                                                   \n",
              "Brazil                             2433.0           2927.0\n",
              "Chile                              1610.0          23105.0\n",
              "Colombia                            470.0           4103.0\n",
              "France                            25233.0          36747.0\n",
              "Italy                             74386.0         206886.0\n",
              "Japan                              1268.0          14901.0\n",
              "Spain                             47610.0          30000.0\n",
              "South Korea                        9241.0         316664.0\n",
              "United Kingdom                     9529.0          64621.0\n",
              "United States                     69194.0         103945.0"
            ]
          },
          "metadata": {
            "tags": []
          },
          "execution_count": 17
        }
      ]
    },
    {
      "cell_type": "code",
      "metadata": {
        "id": "77r-BYOB-aRp",
        "colab_type": "code",
        "colab": {}
      },
      "source": [
        "population = [212, 19, 50, 65, 60, 126, 46, 51, 67, 331]"
      ],
      "execution_count": 0,
      "outputs": []
    },
    {
      "cell_type": "code",
      "metadata": {
        "id": "38dO_W9s_C39",
        "colab_type": "code",
        "colab": {
          "base_uri": "https://localhost:8080/",
          "height": 229
        },
        "outputId": "506341c1-c8bf-4ace-a952-75737d7c7327"
      },
      "source": [
        "(df['Number of tests']/population).sort_values(ascending=False)"
      ],
      "execution_count": 19,
      "outputs": [
        {
          "output_type": "execute_result",
          "data": {
            "text/plain": [
              "Country\n",
              "South Korea       6209.098039\n",
              "Italy             3448.100000\n",
              "Chile             1216.052632\n",
              "United Kingdom     964.492537\n",
              "Spain              652.173913\n",
              "France             565.338462\n",
              "United States      314.033233\n",
              "Japan              118.261905\n",
              "Colombia            82.060000\n",
              "Brazil              13.806604\n",
              "Name: Number of tests, dtype: float64"
            ]
          },
          "metadata": {
            "tags": []
          },
          "execution_count": 19
        }
      ]
    },
    {
      "cell_type": "code",
      "metadata": {
        "id": "JuVqIYzb7cM_",
        "colab_type": "code",
        "colab": {
          "base_uri": "https://localhost:8080/",
          "height": 467
        },
        "outputId": "b6f16719-cb27-47da-edb3-935d82764a46"
      },
      "source": [
        "fig, ax = plt.subplots(figsize=(10,7))\n",
        "ax = df['Number of tests'].sort_values(ascending=True).plot.barh(x=n_tests.keys, y=n_tests.values, fontsize='x-large')\n",
        "plt.title('COVID-19: Número de tests por país', fontsize='x-large')\n",
        "plt.ylabel('país', fontsize='x-large')\n",
        "plt.xlabel('número de tests', fontsize='x-large')\n",
        "plt.savefig(\"2020-03-28-COVID-19-Numero-de-tests.png\", format='png', dvi=500)"
      ],
      "execution_count": 63,
      "outputs": [
        {
          "output_type": "display_data",
          "data": {
            "image/png": "[encoded data removed]",
            "text/plain": [
              "<Figure size 720x504 with 1 Axes>"
            ]
          },
          "metadata": {
            "tags": []
          }
        }
      ]
    },
    {
      "cell_type": "code",
      "metadata": {
        "id": "gTqgOYCk_PJw",
        "colab_type": "code",
        "colab": {
          "base_uri": "https://localhost:8080/",
          "height": 467
        },
        "outputId": "d62c6742-c78b-487a-f497-9bfb0dde0ba7"
      },
      "source": [
        "fig, ax = plt.subplots(figsize=(10,7))\n",
        "ax = (df['Number of tests']/population).sort_values(ascending=True).plot.barh(x=df['Number of tests'].keys, y=df['Number of tests'].values, fontsize='x-large')\n",
        "plt.title('COVID-19: Número de tests por millón de habitantes por país', fontsize='x-large')\n",
        "plt.ylabel('país', fontsize='x-large')\n",
        "plt.xlabel('número de tests por millón de habitantes', fontsize='x-large')\n",
        "plt.savefig(\"2020-03-28-COVID-19-Numero-de-tests-por-millon.png\", format='png', dvi=500)"
      ],
      "execution_count": 62,
      "outputs": [
        {
          "output_type": "display_data",
          "data": {
            "image/png": "[encoded data removed]",
            "text/plain": [
              "<Figure size 720x504 with 1 Axes>"
            ]
          },
          "metadata": {
            "tags": []
          }
        }
      ]
    },
    {
      "cell_type": "code",
      "metadata": {
        "id": "R3MRq9i7Y8Iz",
        "colab_type": "code",
        "colab": {}
      },
      "source": [
        "from google.colab import files\n",
        "files.download(\"2020-03-28-COVID-19-Numero-de-tests-por-millon.png\")"
      ],
      "execution_count": 0,
      "outputs": []
    },
    {
      "cell_type": "code",
      "metadata": {
        "id": "9okVkrNFF7JS",
        "colab_type": "code",
        "colab": {
          "base_uri": "https://localhost:8080/",
          "height": 194
        },
        "outputId": "35cb26bf-a4b2-4d41-8475-083d870d3eec"
      },
      "source": [
        "for i, txt in enumerate(df.index):\n",
        "  print(df.index[i])"
      ],
      "execution_count": 22,
      "outputs": [
        {
          "output_type": "stream",
          "text": [
            "Brazil\n",
            "Chile\n",
            "Colombia\n",
            "France\n",
            "Italy\n",
            "Japan\n",
            "Spain\n",
            "South Korea\n",
            "United Kingdom\n",
            "United States\n"
          ],
          "name": "stdout"
        }
      ]
    },
    {
      "cell_type": "code",
      "metadata": {
        "id": "AqVI26gztcSU",
        "colab_type": "code",
        "colab": {
          "base_uri": "https://localhost:8080/",
          "height": 467
        },
        "outputId": "25c4945e-ba98-4602-8d92-8a76590a39e8"
      },
      "source": [
        "fig, ax = plt.subplots(figsize=(10,7))\n",
        "plt.scatter(df['Number of tests'], df['Number of confirmed cases'])\n",
        "for i, txt in enumerate(df.index):\n",
        "    ax.annotate(df.index[i], ((df['Number of tests'].iloc[i])*1.05, (df['Number of confirmed cases'].iloc[i])*1.05), fontsize='x-large')\n",
        "\n",
        "plt.title('COVID-19: Número de casos confirmados vs número de tests', fontsize='x-large')\n",
        "plt.ylabel('número de casos confirmados', fontsize='x-large')\n",
        "plt.xlabel('número de tests', fontsize='x-large')\n",
        "plt.xscale('log')\n",
        "plt.yscale('log')\n",
        "\n",
        "plt.savefig(\"2020-03-28-COVID-19-casos-confirmados-vs-tests.png\", format='png', dvi=500)"
      ],
      "execution_count": 56,
      "outputs": [
        {
          "output_type": "display_data",
          "data": {
            "image/png": "[encoded data removed]",
            "text/plain": [
              "<Figure size 720x504 with 1 Axes>"
            ]
          },
          "metadata": {
            "tags": []
          }
        }
      ]
    },
    {
      "cell_type": "code",
      "metadata": {
        "id": "PEksk3VIEvpW",
        "colab_type": "code",
        "colab": {
          "base_uri": "https://localhost:8080/",
          "height": 467
        },
        "outputId": "162bebc6-d127-4cd6-abed-6f1dbf965cb7"
      },
      "source": [
        "fig, ax = plt.subplots(figsize=(10,7))\n",
        "plt.scatter(df['Number of tests']/population, df['Number of confirmed cases']/population)\n",
        "for i, txt in enumerate(df.index):\n",
        "  ax.annotate(df.index[i], ((df['Number of tests']/population).iloc[i],(df['Number of confirmed cases']/population).iloc[i]), fontsize='x-large')\n",
        "\n",
        "plt.title('COVID-19: Número de casos confirmados por millón de habitantes vs número de tests por millón de habitantes', fontsize='x-large')\n",
        "plt.xlabel('número de tests por millón de habitantes', fontsize='x-large')\n",
        "plt.ylabel('número de casos confirmados por millón de habitantes', fontsize='x-large')\n",
        "\n",
        "plt.xscale('log')\n",
        "plt.yscale('log')\n",
        "\n",
        "plt.savefig(\"2020-03-28-COVID-19-casos-confirmados-vs-tests-por-millon.png\", format='png', dvi=500)"
      ],
      "execution_count": 57,
      "outputs": [
        {
          "output_type": "display_data",
          "data": {
            "image/png": "[encoded data removed]",
            "text/plain": [
              "<Figure size 720x504 with 1 Axes>"
            ]
          },
          "metadata": {
            "tags": []
          }
        }
      ]
    },
    {
      "cell_type": "code",
      "metadata": {
        "id": "iqnoq3hFaYIT",
        "colab_type": "code",
        "colab": {}
      },
      "source": [
        "from google.colab import files\n",
        "files.download(\"2020-03-28-COVID-19-casos-confirmados-vs-tests.png\")"
      ],
      "execution_count": 0,
      "outputs": []
    },
    {
      "cell_type": "code",
      "metadata": {
        "id": "07MuloM8HduQ",
        "colab_type": "code",
        "colab": {}
      },
      "source": [
        "df['Positive percentage'] = df['Number of confirmed cases']/df['Number of tests']"
      ],
      "execution_count": 0,
      "outputs": []
    },
    {
      "cell_type": "code",
      "metadata": {
        "id": "r67E9vWSH1BF",
        "colab_type": "code",
        "colab": {
          "base_uri": "https://localhost:8080/",
          "height": 394
        },
        "outputId": "3fd4ef4d-0ba0-43d8-e192-df8e38a9168e"
      },
      "source": [
        "df.sort_values(ascending=False, by='Positive percentage')"
      ],
      "execution_count": 39,
      "outputs": [
        {
          "output_type": "execute_result",
          "data": {
            "text/html": [
              "<div>\n",
              "<style scoped>\n",
              "    .dataframe tbody tr th:only-of-type {\n",
              "        vertical-align: middle;\n",
              "    }\n",
              "\n",
              "    .dataframe tbody tr th {\n",
              "        vertical-align: top;\n",
              "    }\n",
              "\n",
              "    .dataframe thead th {\n",
              "        text-align: right;\n",
              "    }\n",
              "</style>\n",
              "<table border=\"1\" class=\"dataframe\">\n",
              "  <thead>\n",
              "    <tr style=\"text-align: right;\">\n",
              "      <th></th>\n",
              "      <th>Number of confirmed cases</th>\n",
              "      <th>Number of tests</th>\n",
              "      <th>Positive percentage</th>\n",
              "    </tr>\n",
              "    <tr>\n",
              "      <th>Country</th>\n",
              "      <th></th>\n",
              "      <th></th>\n",
              "      <th></th>\n",
              "    </tr>\n",
              "  </thead>\n",
              "  <tbody>\n",
              "    <tr>\n",
              "      <th>Spain</th>\n",
              "      <td>47610.0</td>\n",
              "      <td>30000.0</td>\n",
              "      <td>1.587000</td>\n",
              "    </tr>\n",
              "    <tr>\n",
              "      <th>Brazil</th>\n",
              "      <td>2433.0</td>\n",
              "      <td>2927.0</td>\n",
              "      <td>0.831227</td>\n",
              "    </tr>\n",
              "    <tr>\n",
              "      <th>France</th>\n",
              "      <td>25233.0</td>\n",
              "      <td>36747.0</td>\n",
              "      <td>0.686668</td>\n",
              "    </tr>\n",
              "    <tr>\n",
              "      <th>United States</th>\n",
              "      <td>69194.0</td>\n",
              "      <td>103945.0</td>\n",
              "      <td>0.665679</td>\n",
              "    </tr>\n",
              "    <tr>\n",
              "      <th>Italy</th>\n",
              "      <td>74386.0</td>\n",
              "      <td>206886.0</td>\n",
              "      <td>0.359551</td>\n",
              "    </tr>\n",
              "    <tr>\n",
              "      <th>United Kingdom</th>\n",
              "      <td>9529.0</td>\n",
              "      <td>64621.0</td>\n",
              "      <td>0.147460</td>\n",
              "    </tr>\n",
              "    <tr>\n",
              "      <th>Colombia</th>\n",
              "      <td>470.0</td>\n",
              "      <td>4103.0</td>\n",
              "      <td>0.114550</td>\n",
              "    </tr>\n",
              "    <tr>\n",
              "      <th>Japan</th>\n",
              "      <td>1268.0</td>\n",
              "      <td>14901.0</td>\n",
              "      <td>0.085095</td>\n",
              "    </tr>\n",
              "    <tr>\n",
              "      <th>Chile</th>\n",
              "      <td>1610.0</td>\n",
              "      <td>23105.0</td>\n",
              "      <td>0.069682</td>\n",
              "    </tr>\n",
              "    <tr>\n",
              "      <th>South Korea</th>\n",
              "      <td>9241.0</td>\n",
              "      <td>316664.0</td>\n",
              "      <td>0.029182</td>\n",
              "    </tr>\n",
              "  </tbody>\n",
              "</table>\n",
              "</div>"
            ],
            "text/plain": [
              "                Number of confirmed cases  Number of tests  Positive percentage\n",
              "Country                                                                        \n",
              "Spain                             47610.0          30000.0             1.587000\n",
              "Brazil                             2433.0           2927.0             0.831227\n",
              "France                            25233.0          36747.0             0.686668\n",
              "United States                     69194.0         103945.0             0.665679\n",
              "Italy                             74386.0         206886.0             0.359551\n",
              "United Kingdom                     9529.0          64621.0             0.147460\n",
              "Colombia                            470.0           4103.0             0.114550\n",
              "Japan                              1268.0          14901.0             0.085095\n",
              "Chile                              1610.0          23105.0             0.069682\n",
              "South Korea                        9241.0         316664.0             0.029182"
            ]
          },
          "metadata": {
            "tags": []
          },
          "execution_count": 39
        }
      ]
    },
    {
      "cell_type": "code",
      "metadata": {
        "id": "bo-c0WEnReZb",
        "colab_type": "code",
        "colab": {
          "base_uri": "https://localhost:8080/",
          "height": 35
        },
        "outputId": "12c15628-4a92-4aa3-9437-5e6954e225e8"
      },
      "source": [
        "1610/23105"
      ],
      "execution_count": 40,
      "outputs": [
        {
          "output_type": "execute_result",
          "data": {
            "text/plain": [
              "0.06968188703743779"
            ]
          },
          "metadata": {
            "tags": []
          },
          "execution_count": 40
        }
      ]
    }
  ]
}