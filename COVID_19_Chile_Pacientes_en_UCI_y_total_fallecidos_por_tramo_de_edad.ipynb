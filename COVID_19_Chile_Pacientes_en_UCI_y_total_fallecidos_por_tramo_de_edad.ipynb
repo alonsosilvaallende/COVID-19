{
  "nbformat": 4,
  "nbformat_minor": 0,
  "metadata": {
    "colab": {
      "name": "COVID-19-Chile-Pacientes-en-UCI-y-total-fallecidos-por-tramo-de-edad.ipynb",
      "provenance": [],
      "collapsed_sections": [],
      "authorship_tag": "ABX9TyNDucDjvOsMFpi08iI6PwYO",
      "include_colab_link": true
    },
    "kernelspec": {
      "name": "python3",
      "display_name": "Python 3"
    }
  },
  "cells": [
    {
      "cell_type": "markdown",
      "metadata": {
        "id": "view-in-github",
        "colab_type": "text"
      },
      "source": [
        "<a href=\"https://colab.research.google.com/github/alonsosilvaallende/COVID-19/blob/master/COVID_19_Chile_Pacientes_en_UCI_y_total_fallecidos_por_tramo_de_edad.ipynb\" target=\"_parent\"><img src=\"https://colab.research.google.com/assets/colab-badge.svg\" alt=\"Open In Colab\"/></a>"
      ]
    },
    {
      "cell_type": "code",
      "metadata": {
        "id": "DLtpv4YuFDge",
        "colab_type": "code",
        "colab": {}
      },
      "source": [
        "import numpy as np\n",
        "import matplotlib.pyplot as plt\n",
        "import pandas as pd\n",
        "plt.style.use('seaborn')"
      ],
      "execution_count": 0,
      "outputs": []
    },
    {
      "cell_type": "code",
      "metadata": {
        "id": "c1r0NHToFXzE",
        "colab_type": "code",
        "colab": {}
      },
      "source": [
        "UCI_raw = pd.read_csv('https://raw.githubusercontent.com/MinCiencia/Datos-COVID19/master/output/producto9/HospitalizadosUCIEtario.csv', index_col='Tramo de edad')"
      ],
      "execution_count": 0,
      "outputs": []
    },
    {
      "cell_type": "code",
      "metadata": {
        "id": "ACYpmfFAFolj",
        "colab_type": "code",
        "colab": {
          "base_uri": "https://localhost:8080/",
          "height": 237
        },
        "outputId": "a60ec70c-ee42-4e81-f9a4-056358d86d8e"
      },
      "source": [
        "UCI_raw"
      ],
      "execution_count": 3,
      "outputs": [
        {
          "output_type": "execute_result",
          "data": {
            "text/html": [
              "<div>\n",
              "<style scoped>\n",
              "    .dataframe tbody tr th:only-of-type {\n",
              "        vertical-align: middle;\n",
              "    }\n",
              "\n",
              "    .dataframe tbody tr th {\n",
              "        vertical-align: top;\n",
              "    }\n",
              "\n",
              "    .dataframe thead th {\n",
              "        text-align: right;\n",
              "    }\n",
              "</style>\n",
              "<table border=\"1\" class=\"dataframe\">\n",
              "  <thead>\n",
              "    <tr style=\"text-align: right;\">\n",
              "      <th></th>\n",
              "      <th>2020-04-01</th>\n",
              "      <th>2020-04-02</th>\n",
              "      <th>2020-04-03</th>\n",
              "      <th>2020-04-04</th>\n",
              "      <th>2020-04-05</th>\n",
              "      <th>2020-04-06</th>\n",
              "      <th>2020-04-07</th>\n",
              "      <th>2020-04-08</th>\n",
              "      <th>2020-04-09</th>\n",
              "      <th>2020-04-10</th>\n",
              "      <th>2020-04-11</th>\n",
              "      <th>2020-04-12</th>\n",
              "      <th>2020-04-13</th>\n",
              "      <th>2020-04-14</th>\n",
              "    </tr>\n",
              "    <tr>\n",
              "      <th>Tramo de edad</th>\n",
              "      <th></th>\n",
              "      <th></th>\n",
              "      <th></th>\n",
              "      <th></th>\n",
              "      <th></th>\n",
              "      <th></th>\n",
              "      <th></th>\n",
              "      <th></th>\n",
              "      <th></th>\n",
              "      <th></th>\n",
              "      <th></th>\n",
              "      <th></th>\n",
              "      <th></th>\n",
              "      <th></th>\n",
              "    </tr>\n",
              "  </thead>\n",
              "  <tbody>\n",
              "    <tr>\n",
              "      <th>&lt;=39</th>\n",
              "      <td>23</td>\n",
              "      <td>23</td>\n",
              "      <td>26</td>\n",
              "      <td>40</td>\n",
              "      <td>40</td>\n",
              "      <td>38</td>\n",
              "      <td>39</td>\n",
              "      <td>42</td>\n",
              "      <td>46</td>\n",
              "      <td>45</td>\n",
              "      <td>43</td>\n",
              "      <td>41</td>\n",
              "      <td>40</td>\n",
              "      <td>42</td>\n",
              "    </tr>\n",
              "    <tr>\n",
              "      <th>40-49</th>\n",
              "      <td>23</td>\n",
              "      <td>27</td>\n",
              "      <td>34</td>\n",
              "      <td>36</td>\n",
              "      <td>40</td>\n",
              "      <td>40</td>\n",
              "      <td>38</td>\n",
              "      <td>39</td>\n",
              "      <td>48</td>\n",
              "      <td>48</td>\n",
              "      <td>50</td>\n",
              "      <td>48</td>\n",
              "      <td>45</td>\n",
              "      <td>43</td>\n",
              "    </tr>\n",
              "    <tr>\n",
              "      <th>50-59</th>\n",
              "      <td>53</td>\n",
              "      <td>67</td>\n",
              "      <td>74</td>\n",
              "      <td>84</td>\n",
              "      <td>89</td>\n",
              "      <td>95</td>\n",
              "      <td>101</td>\n",
              "      <td>109</td>\n",
              "      <td>102</td>\n",
              "      <td>111</td>\n",
              "      <td>111</td>\n",
              "      <td>110</td>\n",
              "      <td>112</td>\n",
              "      <td>105</td>\n",
              "    </tr>\n",
              "    <tr>\n",
              "      <th>60-69</th>\n",
              "      <td>39</td>\n",
              "      <td>46</td>\n",
              "      <td>56</td>\n",
              "      <td>68</td>\n",
              "      <td>75</td>\n",
              "      <td>78</td>\n",
              "      <td>82</td>\n",
              "      <td>93</td>\n",
              "      <td>89</td>\n",
              "      <td>99</td>\n",
              "      <td>100</td>\n",
              "      <td>106</td>\n",
              "      <td>106</td>\n",
              "      <td>105</td>\n",
              "    </tr>\n",
              "    <tr>\n",
              "      <th>&gt;=70</th>\n",
              "      <td>35</td>\n",
              "      <td>37</td>\n",
              "      <td>47</td>\n",
              "      <td>52</td>\n",
              "      <td>63</td>\n",
              "      <td>76</td>\n",
              "      <td>77</td>\n",
              "      <td>79</td>\n",
              "      <td>75</td>\n",
              "      <td>80</td>\n",
              "      <td>79</td>\n",
              "      <td>82</td>\n",
              "      <td>84</td>\n",
              "      <td>84</td>\n",
              "    </tr>\n",
              "  </tbody>\n",
              "</table>\n",
              "</div>"
            ],
            "text/plain": [
              "               2020-04-01  2020-04-02  ...  2020-04-13  2020-04-14\n",
              "Tramo de edad                          ...                        \n",
              "<=39                   23          23  ...          40          42\n",
              "40-49                  23          27  ...          45          43\n",
              "50-59                  53          67  ...         112         105\n",
              "60-69                  39          46  ...         106         105\n",
              ">=70                   35          37  ...          84          84\n",
              "\n",
              "[5 rows x 14 columns]"
            ]
          },
          "metadata": {
            "tags": []
          },
          "execution_count": 3
        }
      ]
    },
    {
      "cell_type": "code",
      "metadata": {
        "id": "u1JcAxf1FEg0",
        "colab_type": "code",
        "colab": {}
      },
      "source": [
        "deaths_raw = pd.read_csv('https://raw.githubusercontent.com/MinCiencia/Datos-COVID19/master/output/producto10/FallecidosEtario.csv', index_col='Tramo de edad')"
      ],
      "execution_count": 0,
      "outputs": []
    },
    {
      "cell_type": "code",
      "metadata": {
        "id": "3Dy1psZRFWW0",
        "colab_type": "code",
        "colab": {
          "base_uri": "https://localhost:8080/",
          "height": 300
        },
        "outputId": "51683c30-81f9-436f-8f60-13fccde4e8e2"
      },
      "source": [
        "deaths_raw"
      ],
      "execution_count": 5,
      "outputs": [
        {
          "output_type": "execute_result",
          "data": {
            "text/html": [
              "<div>\n",
              "<style scoped>\n",
              "    .dataframe tbody tr th:only-of-type {\n",
              "        vertical-align: middle;\n",
              "    }\n",
              "\n",
              "    .dataframe tbody tr th {\n",
              "        vertical-align: top;\n",
              "    }\n",
              "\n",
              "    .dataframe thead th {\n",
              "        text-align: right;\n",
              "    }\n",
              "</style>\n",
              "<table border=\"1\" class=\"dataframe\">\n",
              "  <thead>\n",
              "    <tr style=\"text-align: right;\">\n",
              "      <th></th>\n",
              "      <th>2020-04-09</th>\n",
              "      <th>2020-04-10</th>\n",
              "      <th>2020-04-11</th>\n",
              "      <th>2020-04-12</th>\n",
              "      <th>2020-04-13</th>\n",
              "      <th>2020-04-14</th>\n",
              "    </tr>\n",
              "    <tr>\n",
              "      <th>Tramo de edad</th>\n",
              "      <th></th>\n",
              "      <th></th>\n",
              "      <th></th>\n",
              "      <th></th>\n",
              "      <th></th>\n",
              "      <th></th>\n",
              "    </tr>\n",
              "  </thead>\n",
              "  <tbody>\n",
              "    <tr>\n",
              "      <th>&lt;=39</th>\n",
              "      <td>2</td>\n",
              "      <td>2</td>\n",
              "      <td>3</td>\n",
              "      <td>3</td>\n",
              "      <td>3</td>\n",
              "      <td>3</td>\n",
              "    </tr>\n",
              "    <tr>\n",
              "      <th>40-49</th>\n",
              "      <td>1</td>\n",
              "      <td>2</td>\n",
              "      <td>2</td>\n",
              "      <td>2</td>\n",
              "      <td>2</td>\n",
              "      <td>2</td>\n",
              "    </tr>\n",
              "    <tr>\n",
              "      <th>50-59</th>\n",
              "      <td>1</td>\n",
              "      <td>2</td>\n",
              "      <td>2</td>\n",
              "      <td>3</td>\n",
              "      <td>3</td>\n",
              "      <td>5</td>\n",
              "    </tr>\n",
              "    <tr>\n",
              "      <th>60-69</th>\n",
              "      <td>9</td>\n",
              "      <td>10</td>\n",
              "      <td>12</td>\n",
              "      <td>12</td>\n",
              "      <td>12</td>\n",
              "      <td>12</td>\n",
              "    </tr>\n",
              "    <tr>\n",
              "      <th>70-79</th>\n",
              "      <td>21</td>\n",
              "      <td>22</td>\n",
              "      <td>24</td>\n",
              "      <td>28</td>\n",
              "      <td>29</td>\n",
              "      <td>30</td>\n",
              "    </tr>\n",
              "    <tr>\n",
              "      <th>80-89</th>\n",
              "      <td>19</td>\n",
              "      <td>21</td>\n",
              "      <td>24</td>\n",
              "      <td>25</td>\n",
              "      <td>26</td>\n",
              "      <td>32</td>\n",
              "    </tr>\n",
              "    <tr>\n",
              "      <th>&gt;=90</th>\n",
              "      <td>4</td>\n",
              "      <td>6</td>\n",
              "      <td>6</td>\n",
              "      <td>7</td>\n",
              "      <td>7</td>\n",
              "      <td>8</td>\n",
              "    </tr>\n",
              "  </tbody>\n",
              "</table>\n",
              "</div>"
            ],
            "text/plain": [
              "               2020-04-09  2020-04-10  ...  2020-04-13  2020-04-14\n",
              "Tramo de edad                          ...                        \n",
              "<=39                    2           2  ...           3           3\n",
              "40-49                   1           2  ...           2           2\n",
              "50-59                   1           2  ...           3           5\n",
              "60-69                   9          10  ...          12          12\n",
              "70-79                  21          22  ...          29          30\n",
              "80-89                  19          21  ...          26          32\n",
              ">=90                    4           6  ...           7           8\n",
              "\n",
              "[7 rows x 6 columns]"
            ]
          },
          "metadata": {
            "tags": []
          },
          "execution_count": 5
        }
      ]
    },
    {
      "cell_type": "code",
      "metadata": {
        "id": "LZJ9tlPVGGmC",
        "colab_type": "code",
        "colab": {}
      },
      "source": [
        "data = pd.DataFrame()"
      ],
      "execution_count": 0,
      "outputs": []
    },
    {
      "cell_type": "code",
      "metadata": {
        "id": "XP3WgSdFGXVM",
        "colab_type": "code",
        "colab": {}
      },
      "source": [
        "data['Pacientes en UCI (2020-04-14)'] = UCI_raw['2020-04-14']"
      ],
      "execution_count": 0,
      "outputs": []
    },
    {
      "cell_type": "code",
      "metadata": {
        "id": "pNb_l4y_OYRu",
        "colab_type": "code",
        "colab": {
          "base_uri": "https://localhost:8080/",
          "height": 237
        },
        "outputId": "6b554508-c881-4c43-863f-afe43617a68c"
      },
      "source": [
        "data"
      ],
      "execution_count": 8,
      "outputs": [
        {
          "output_type": "execute_result",
          "data": {
            "text/html": [
              "<div>\n",
              "<style scoped>\n",
              "    .dataframe tbody tr th:only-of-type {\n",
              "        vertical-align: middle;\n",
              "    }\n",
              "\n",
              "    .dataframe tbody tr th {\n",
              "        vertical-align: top;\n",
              "    }\n",
              "\n",
              "    .dataframe thead th {\n",
              "        text-align: right;\n",
              "    }\n",
              "</style>\n",
              "<table border=\"1\" class=\"dataframe\">\n",
              "  <thead>\n",
              "    <tr style=\"text-align: right;\">\n",
              "      <th></th>\n",
              "      <th>Pacientes en UCI (2020-04-14)</th>\n",
              "    </tr>\n",
              "    <tr>\n",
              "      <th>Tramo de edad</th>\n",
              "      <th></th>\n",
              "    </tr>\n",
              "  </thead>\n",
              "  <tbody>\n",
              "    <tr>\n",
              "      <th>&lt;=39</th>\n",
              "      <td>42</td>\n",
              "    </tr>\n",
              "    <tr>\n",
              "      <th>40-49</th>\n",
              "      <td>43</td>\n",
              "    </tr>\n",
              "    <tr>\n",
              "      <th>50-59</th>\n",
              "      <td>105</td>\n",
              "    </tr>\n",
              "    <tr>\n",
              "      <th>60-69</th>\n",
              "      <td>105</td>\n",
              "    </tr>\n",
              "    <tr>\n",
              "      <th>&gt;=70</th>\n",
              "      <td>84</td>\n",
              "    </tr>\n",
              "  </tbody>\n",
              "</table>\n",
              "</div>"
            ],
            "text/plain": [
              "               Pacientes en UCI (2020-04-14)\n",
              "Tramo de edad                               \n",
              "<=39                                      42\n",
              "40-49                                     43\n",
              "50-59                                    105\n",
              "60-69                                    105\n",
              ">=70                                      84"
            ]
          },
          "metadata": {
            "tags": []
          },
          "execution_count": 8
        }
      ]
    },
    {
      "cell_type": "code",
      "metadata": {
        "id": "MuoSUY-xGQPO",
        "colab_type": "code",
        "colab": {}
      },
      "source": [
        "data['Total fallecidos'] = deaths_raw['2020-04-14']"
      ],
      "execution_count": 0,
      "outputs": []
    },
    {
      "cell_type": "code",
      "metadata": {
        "id": "OiWO_bxUHF4o",
        "colab_type": "code",
        "colab": {
          "base_uri": "https://localhost:8080/",
          "height": 237
        },
        "outputId": "ecbb9684-7447-4a70-9741-365c8e753955"
      },
      "source": [
        "data"
      ],
      "execution_count": 10,
      "outputs": [
        {
          "output_type": "execute_result",
          "data": {
            "text/html": [
              "<div>\n",
              "<style scoped>\n",
              "    .dataframe tbody tr th:only-of-type {\n",
              "        vertical-align: middle;\n",
              "    }\n",
              "\n",
              "    .dataframe tbody tr th {\n",
              "        vertical-align: top;\n",
              "    }\n",
              "\n",
              "    .dataframe thead th {\n",
              "        text-align: right;\n",
              "    }\n",
              "</style>\n",
              "<table border=\"1\" class=\"dataframe\">\n",
              "  <thead>\n",
              "    <tr style=\"text-align: right;\">\n",
              "      <th></th>\n",
              "      <th>Pacientes en UCI (2020-04-14)</th>\n",
              "      <th>Total fallecidos</th>\n",
              "    </tr>\n",
              "    <tr>\n",
              "      <th>Tramo de edad</th>\n",
              "      <th></th>\n",
              "      <th></th>\n",
              "    </tr>\n",
              "  </thead>\n",
              "  <tbody>\n",
              "    <tr>\n",
              "      <th>&lt;=39</th>\n",
              "      <td>42</td>\n",
              "      <td>3.0</td>\n",
              "    </tr>\n",
              "    <tr>\n",
              "      <th>40-49</th>\n",
              "      <td>43</td>\n",
              "      <td>2.0</td>\n",
              "    </tr>\n",
              "    <tr>\n",
              "      <th>50-59</th>\n",
              "      <td>105</td>\n",
              "      <td>5.0</td>\n",
              "    </tr>\n",
              "    <tr>\n",
              "      <th>60-69</th>\n",
              "      <td>105</td>\n",
              "      <td>12.0</td>\n",
              "    </tr>\n",
              "    <tr>\n",
              "      <th>&gt;=70</th>\n",
              "      <td>84</td>\n",
              "      <td>NaN</td>\n",
              "    </tr>\n",
              "  </tbody>\n",
              "</table>\n",
              "</div>"
            ],
            "text/plain": [
              "               Pacientes en UCI (2020-04-14)  Total fallecidos\n",
              "Tramo de edad                                                 \n",
              "<=39                                      42               3.0\n",
              "40-49                                     43               2.0\n",
              "50-59                                    105               5.0\n",
              "60-69                                    105              12.0\n",
              ">=70                                      84               NaN"
            ]
          },
          "metadata": {
            "tags": []
          },
          "execution_count": 10
        }
      ]
    },
    {
      "cell_type": "code",
      "metadata": {
        "id": "38wqnrIHLEC2",
        "colab_type": "code",
        "colab": {}
      },
      "source": [
        "data.loc['>=70', 'Total fallecidos'] = deaths_raw['2020-04-14'][-3:].sum()"
      ],
      "execution_count": 0,
      "outputs": []
    },
    {
      "cell_type": "code",
      "metadata": {
        "id": "PGHRjJlGOgu_",
        "colab_type": "code",
        "colab": {
          "base_uri": "https://localhost:8080/",
          "height": 237
        },
        "outputId": "f30eff52-342d-4531-9f27-22317cc0ce68"
      },
      "source": [
        "data"
      ],
      "execution_count": 12,
      "outputs": [
        {
          "output_type": "execute_result",
          "data": {
            "text/html": [
              "<div>\n",
              "<style scoped>\n",
              "    .dataframe tbody tr th:only-of-type {\n",
              "        vertical-align: middle;\n",
              "    }\n",
              "\n",
              "    .dataframe tbody tr th {\n",
              "        vertical-align: top;\n",
              "    }\n",
              "\n",
              "    .dataframe thead th {\n",
              "        text-align: right;\n",
              "    }\n",
              "</style>\n",
              "<table border=\"1\" class=\"dataframe\">\n",
              "  <thead>\n",
              "    <tr style=\"text-align: right;\">\n",
              "      <th></th>\n",
              "      <th>Pacientes en UCI (2020-04-14)</th>\n",
              "      <th>Total fallecidos</th>\n",
              "    </tr>\n",
              "    <tr>\n",
              "      <th>Tramo de edad</th>\n",
              "      <th></th>\n",
              "      <th></th>\n",
              "    </tr>\n",
              "  </thead>\n",
              "  <tbody>\n",
              "    <tr>\n",
              "      <th>&lt;=39</th>\n",
              "      <td>42</td>\n",
              "      <td>3.0</td>\n",
              "    </tr>\n",
              "    <tr>\n",
              "      <th>40-49</th>\n",
              "      <td>43</td>\n",
              "      <td>2.0</td>\n",
              "    </tr>\n",
              "    <tr>\n",
              "      <th>50-59</th>\n",
              "      <td>105</td>\n",
              "      <td>5.0</td>\n",
              "    </tr>\n",
              "    <tr>\n",
              "      <th>60-69</th>\n",
              "      <td>105</td>\n",
              "      <td>12.0</td>\n",
              "    </tr>\n",
              "    <tr>\n",
              "      <th>&gt;=70</th>\n",
              "      <td>84</td>\n",
              "      <td>70.0</td>\n",
              "    </tr>\n",
              "  </tbody>\n",
              "</table>\n",
              "</div>"
            ],
            "text/plain": [
              "               Pacientes en UCI (2020-04-14)  Total fallecidos\n",
              "Tramo de edad                                                 \n",
              "<=39                                      42               3.0\n",
              "40-49                                     43               2.0\n",
              "50-59                                    105               5.0\n",
              "60-69                                    105              12.0\n",
              ">=70                                      84              70.0"
            ]
          },
          "metadata": {
            "tags": []
          },
          "execution_count": 12
        }
      ]
    },
    {
      "cell_type": "code",
      "metadata": {
        "id": "kK06C0QUFqG6",
        "colab_type": "code",
        "colab": {
          "base_uri": "https://localhost:8080/",
          "height": 513
        },
        "outputId": "b506ec12-159f-4969-abae-4a61e945910a"
      },
      "source": [
        "fig, ax = plt.subplots(figsize=(14,7))\n",
        "data.plot(ax=ax, kind=\"bar\")\n",
        "for i, val in enumerate(data['Pacientes en UCI (2020-04-14)']):\n",
        "  ax.text(i-0.15, val+2, f\"{val:.0f}\", fontsize='x-large')\n",
        "\n",
        "for i, val in enumerate(data['Total fallecidos']):\n",
        "  ax.text(i+0.1, val+2, f\"{val:.0f}\", fontsize='x-large')\n",
        "\n",
        "ax.tick_params(labelsize='x-large')\n",
        "ax.set_title(f'COVID-19 en Chile: Pacientes en UCI y fallecidos por tramo de edad al 14 de abril', fontsize='x-large')\n",
        "ax.set_xlabel(f'Tramo de edad', fontsize='x-large')\n",
        "ax.set_ylabel(f'pacientes en UCI/fallecidos', fontsize='x-large')\n",
        "ax.legend(fontsize='x-large')\n",
        "plt.ylim(0,115)\n",
        "fig.tight_layout()\n",
        "plt.annotate('Source:\\nhttps://github.com/MinCiencia/Datos-COVID19', (0,0), (-120,-30), fontsize='x-large', xycoords='axes fraction', textcoords='offset points', va='top')\n",
        "plt.savefig('2020-04-15-COVID-19-Chile-Pacientes-en-UCI-y-fallecidos-por-tramo-de-edad.png', format='png', bbox_inches='tight', dvi=1200)"
      ],
      "execution_count": 13,
      "outputs": [
        {
          "output_type": "display_data",
          "data": {
            "image/png": "[encoded data removed]",
            "text/plain": [
              "<Figure size 1008x504 with 1 Axes>"
            ]
          },
          "metadata": {
            "tags": [],
            "needs_background": "light"
          }
        }
      ]
    },
    {
      "cell_type": "code",
      "metadata": {
        "id": "xsYJmy2oPu7O",
        "colab_type": "code",
        "colab": {}
      },
      "source": [
        "from google.colab import files\n",
        "files.download(\"2020-04-15-COVID-19-Chile-Pacientes-en-UCI-y-fallecidos-por-tramo-de-edad.png\")"
      ],
      "execution_count": 0,
      "outputs": []
    }
  ]
}