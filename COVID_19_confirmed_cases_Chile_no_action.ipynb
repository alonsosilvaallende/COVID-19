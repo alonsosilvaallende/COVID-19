{
  "nbformat": 4,
  "nbformat_minor": 0,
  "metadata": {
    "colab": {
      "name": "COVID-19-confirmed-cases-Chile-no-action.ipynb",
      "provenance": [],
      "authorship_tag": "ABX9TyN+qMHySQdRDwNHnol8Cjmy",
      "include_colab_link": true
    },
    "kernelspec": {
      "name": "python3",
      "display_name": "Python 3"
    }
  },
  "cells": [
    {
      "cell_type": "markdown",
      "metadata": {
        "id": "view-in-github",
        "colab_type": "text"
      },
      "source": [
        "<a href=\"https://colab.research.google.com/github/alonsosilvaallende/COVID-19/blob/master/COVID_19_confirmed_cases_Chile_no_action.ipynb\" target=\"_parent\"><img src=\"https://colab.research.google.com/assets/colab-badge.svg\" alt=\"Open In Colab\"/></a>"
      ]
    },
    {
      "cell_type": "code",
      "metadata": {
        "id": "E5ad3mgCn30j",
        "colab_type": "code",
        "colab": {}
      },
      "source": [
        "import numpy as np\n",
        "import matplotlib.pyplot as plt\n",
        "import pandas as pd\n",
        "plt.style.use('seaborn')"
      ],
      "execution_count": 0,
      "outputs": []
    },
    {
      "cell_type": "code",
      "metadata": {
        "id": "Qpfp_q9an7We",
        "colab_type": "code",
        "colab": {}
      },
      "source": [
        "cases = pd.read_csv(\"https://raw.githubusercontent.com/CSSEGISandData/COVID-19/master/csse_covid_19_data/csse_covid_19_time_series/time_series_19-covid-Confirmed.csv\")"
      ],
      "execution_count": 0,
      "outputs": []
    },
    {
      "cell_type": "code",
      "metadata": {
        "id": "DowXMUQ3oE7L",
        "colab_type": "code",
        "colab": {}
      },
      "source": [
        "TIPPING_POINT = 100"
      ],
      "execution_count": 0,
      "outputs": []
    },
    {
      "cell_type": "code",
      "metadata": {
        "id": "Q4nNphmDn8ix",
        "colab_type": "code",
        "colab": {}
      },
      "source": [
        "index_Chile = cases[cases['Country/Region'] == 'Chile'].index[0]\n",
        "Chile_cases = cases.iloc[index_Chile,4:]\n",
        "Chile_cases_since_TP = Chile_cases[Chile_cases>TIPPING_POINT]"
      ],
      "execution_count": 0,
      "outputs": []
    },
    {
      "cell_type": "code",
      "metadata": {
        "id": "a-ShoWQdoGy3",
        "colab_type": "code",
        "colab": {}
      },
      "source": [
        "x_trn_CL = np.arange(len(Chile_cases_since_TP))\n",
        "x_trn_CL = x_trn_CL[...,None]\n",
        "y_trn = [np.log(s) for s in np.array(Chile_cases_since_TP)]"
      ],
      "execution_count": 0,
      "outputs": []
    },
    {
      "cell_type": "code",
      "metadata": {
        "id": "foJ_qGagoJjc",
        "colab_type": "code",
        "colab": {}
      },
      "source": [
        "x = np.arange(30)\n",
        "x = x[...,None]"
      ],
      "execution_count": 0,
      "outputs": []
    },
    {
      "cell_type": "code",
      "metadata": {
        "id": "WBaBc2lPoMIU",
        "colab_type": "code",
        "colab": {
          "base_uri": "https://localhost:8080/",
          "height": 35
        },
        "outputId": "dcf726f8-ebe8-4eab-bd95-6f46a5cb53a5"
      },
      "source": [
        "from sklearn.linear_model import LinearRegression\n",
        "\n",
        "lm = LinearRegression()\n",
        "lm.fit(x_trn_CL, y_trn)\n",
        "print(f\"Score of the model: {lm.score(x_trn_CL, y_trn):.2f}\")"
      ],
      "execution_count": 10,
      "outputs": [
        {
          "output_type": "stream",
          "text": [
            "Score of the model: 0.92\n"
          ],
          "name": "stdout"
        }
      ]
    },
    {
      "cell_type": "code",
      "metadata": {
        "id": "jkT-Ha4loO0E",
        "colab_type": "code",
        "colab": {
          "base_uri": "https://localhost:8080/",
          "height": 35
        },
        "outputId": "a233f95a-ae63-4ae5-c427-6fcf5229bdd4"
      },
      "source": [
        "print(f\"Slope for Chile: {lm.coef_[0]:.2f}\")"
      ],
      "execution_count": 11,
      "outputs": [
        {
          "output_type": "stream",
          "text": [
            "Slope for Chile: 0.24\n"
          ],
          "name": "stdout"
        }
      ]
    },
    {
      "cell_type": "code",
      "metadata": {
        "id": "PYhIbaQWoV1s",
        "colab_type": "code",
        "colab": {}
      },
      "source": [
        "predictions = np.exp(lm.predict(x))"
      ],
      "execution_count": 0,
      "outputs": []
    },
    {
      "cell_type": "code",
      "metadata": {
        "id": "-fGtR0XJom5I",
        "colab_type": "code",
        "colab": {}
      },
      "source": [
        "date_Chile_TP = '2020-03-16' "
      ],
      "execution_count": 0,
      "outputs": []
    },
    {
      "cell_type": "code",
      "metadata": {
        "id": "gRL6-1k4otsY",
        "colab_type": "code",
        "colab": {
          "base_uri": "https://localhost:8080/",
          "height": 564
        },
        "outputId": "f2193386-7823-49d8-ee1e-552f896d0123"
      },
      "source": [
        "print(\"Total casos confirmados bajo política de no acción:\")\n",
        "for i, pred in enumerate(predictions):\n",
        "  print(f\"{(pd.to_datetime(date_Chile_TP) + pd.DateOffset(i)).strftime('%d-%m')}: {int(pred)}\")"
      ],
      "execution_count": 15,
      "outputs": [
        {
          "output_type": "stream",
          "text": [
            "Total casos confirmados bajo política de no acción:\n",
            "16-03: 148\n",
            "17-03: 189\n",
            "18-03: 241\n",
            "19-03: 308\n",
            "20-03: 392\n",
            "21-03: 501\n",
            "22-03: 639\n",
            "23-03: 815\n",
            "24-03: 1040\n",
            "25-03: 1327\n",
            "26-03: 1693\n",
            "27-03: 2160\n",
            "28-03: 2755\n",
            "29-03: 3515\n",
            "30-03: 4485\n",
            "31-03: 5721\n",
            "01-04: 7298\n",
            "02-04: 9311\n",
            "03-04: 11878\n",
            "04-04: 15152\n",
            "05-04: 19330\n",
            "06-04: 24659\n",
            "07-04: 31457\n",
            "08-04: 40130\n",
            "09-04: 51194\n",
            "10-04: 65307\n",
            "11-04: 83312\n",
            "12-04: 106281\n",
            "13-04: 135582\n",
            "14-04: 172960\n"
          ],
          "name": "stdout"
        }
      ]
    }
  ]
}