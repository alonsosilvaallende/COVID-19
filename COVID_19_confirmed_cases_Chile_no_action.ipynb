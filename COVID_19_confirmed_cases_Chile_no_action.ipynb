{
  "nbformat": 4,
  "nbformat_minor": 0,
  "metadata": {
    "colab": {
      "name": "COVID-19-confirmed-cases-Chile-no-action.ipynb",
      "provenance": [],
      "authorship_tag": "ABX9TyPg1MMsYO7VsESLIyD5Ihp0",
      "include_colab_link": true
    },
    "kernelspec": {
      "name": "python3",
      "display_name": "Python 3"
    }
  },
  "cells": [
    {
      "cell_type": "markdown",
      "metadata": {
        "id": "view-in-github",
        "colab_type": "text"
      },
      "source": [
        "<a href=\"https://colab.research.google.com/github/alonsosilvaallende/COVID-19/blob/master/COVID_19_confirmed_cases_Chile_no_action.ipynb\" target=\"_parent\"><img src=\"https://colab.research.google.com/assets/colab-badge.svg\" alt=\"Open In Colab\"/></a>"
      ]
    },
    {
      "cell_type": "code",
      "metadata": {
        "id": "E5ad3mgCn30j",
        "colab_type": "code",
        "colab": {}
      },
      "source": [
        "import numpy as np\n",
        "import matplotlib.pyplot as plt\n",
        "import pandas as pd\n",
        "plt.style.use('seaborn')"
      ],
      "execution_count": 0,
      "outputs": []
    },
    {
      "cell_type": "code",
      "metadata": {
        "id": "Qpfp_q9an7We",
        "colab_type": "code",
        "colab": {}
      },
      "source": [
        "cases = pd.read_csv(\"https://raw.githubusercontent.com/CSSEGISandData/COVID-19/master/csse_covid_19_data/csse_covid_19_time_series/time_series_covid19_confirmed_global.csv\")"
      ],
      "execution_count": 0,
      "outputs": []
    },
    {
      "cell_type": "code",
      "metadata": {
        "id": "DowXMUQ3oE7L",
        "colab_type": "code",
        "colab": {}
      },
      "source": [
        "TIPPING_POINT = 100"
      ],
      "execution_count": 0,
      "outputs": []
    },
    {
      "cell_type": "code",
      "metadata": {
        "id": "Q4nNphmDn8ix",
        "colab_type": "code",
        "colab": {}
      },
      "source": [
        "index_Chile = cases[cases['Country/Region'] == 'Chile'].index[0]\n",
        "Chile_cases = cases.iloc[index_Chile,4:]\n",
        "Chile_cases_since_TP = Chile_cases[Chile_cases>TIPPING_POINT]"
      ],
      "execution_count": 0,
      "outputs": []
    },
    {
      "cell_type": "code",
      "metadata": {
        "id": "-BnJSBulqbQt",
        "colab_type": "code",
        "outputId": "7d4eafcc-c0b8-4926-c103-3543bc10ce79",
        "colab": {
          "base_uri": "https://localhost:8080/",
          "height": 211
        }
      },
      "source": [
        "Chile_cases_since_TP"
      ],
      "execution_count": 5,
      "outputs": [
        {
          "output_type": "execute_result",
          "data": {
            "text/plain": [
              "3/16/20     155\n",
              "3/17/20     201\n",
              "3/18/20     238\n",
              "3/19/20     238\n",
              "3/20/20     434\n",
              "3/21/20     537\n",
              "3/22/20     632\n",
              "3/23/20     746\n",
              "3/24/20     922\n",
              "3/25/20    1142\n",
              "Name: 48, dtype: object"
            ]
          },
          "metadata": {
            "tags": []
          },
          "execution_count": 5
        }
      ]
    },
    {
      "cell_type": "code",
      "metadata": {
        "id": "a-ShoWQdoGy3",
        "colab_type": "code",
        "colab": {}
      },
      "source": [
        "x_trn_CL = np.arange(len(Chile_cases_since_TP))\n",
        "x_trn_CL = x_trn_CL[...,None]\n",
        "y_trn = [np.log(s) for s in np.array(Chile_cases_since_TP)]"
      ],
      "execution_count": 0,
      "outputs": []
    },
    {
      "cell_type": "code",
      "metadata": {
        "id": "foJ_qGagoJjc",
        "colab_type": "code",
        "colab": {}
      },
      "source": [
        "x = np.arange(30)\n",
        "x = x[...,None]"
      ],
      "execution_count": 0,
      "outputs": []
    },
    {
      "cell_type": "code",
      "metadata": {
        "id": "WBaBc2lPoMIU",
        "colab_type": "code",
        "outputId": "2141ea11-2503-4b86-83fb-9ecc4f581f09",
        "colab": {
          "base_uri": "https://localhost:8080/",
          "height": 35
        }
      },
      "source": [
        "from sklearn.linear_model import LinearRegression\n",
        "\n",
        "lm = LinearRegression()\n",
        "lm.fit(x_trn_CL, y_trn)\n",
        "print(f\"Score of the model: {lm.score(x_trn_CL, y_trn):.2f}\")"
      ],
      "execution_count": 8,
      "outputs": [
        {
          "output_type": "stream",
          "text": [
            "Score of the model: 0.98\n"
          ],
          "name": "stdout"
        }
      ]
    },
    {
      "cell_type": "code",
      "metadata": {
        "id": "jkT-Ha4loO0E",
        "colab_type": "code",
        "outputId": "7f9962b0-0b2b-4089-9e0a-506b49023c60",
        "colab": {
          "base_uri": "https://localhost:8080/",
          "height": 35
        }
      },
      "source": [
        "print(f\"Slope for Chile: {lm.coef_[0]:.2f}\")"
      ],
      "execution_count": 9,
      "outputs": [
        {
          "output_type": "stream",
          "text": [
            "Slope for Chile: 0.23\n"
          ],
          "name": "stdout"
        }
      ]
    },
    {
      "cell_type": "code",
      "metadata": {
        "id": "PYhIbaQWoV1s",
        "colab_type": "code",
        "colab": {}
      },
      "source": [
        "predictions = np.exp(lm.predict(x))"
      ],
      "execution_count": 0,
      "outputs": []
    },
    {
      "cell_type": "code",
      "metadata": {
        "id": "-fGtR0XJom5I",
        "colab_type": "code",
        "colab": {}
      },
      "source": [
        "date_Chile_TP = '2020-03-16' "
      ],
      "execution_count": 0,
      "outputs": []
    },
    {
      "cell_type": "code",
      "metadata": {
        "id": "gRL6-1k4otsY",
        "colab_type": "code",
        "outputId": "5d87264a-f6d7-4654-c48c-ee670b5e723c",
        "colab": {
          "base_uri": "https://localhost:8080/",
          "height": 564
        }
      },
      "source": [
        "print(\"Total casos confirmados bajo política de no acción:\")\n",
        "for i, pred in enumerate(predictions):\n",
        "  print(f\"{(pd.to_datetime(date_Chile_TP) + pd.DateOffset(i)).strftime('%d-%m')}: {int(pred)}\")"
      ],
      "execution_count": 12,
      "outputs": [
        {
          "output_type": "stream",
          "text": [
            "Total casos confirmados bajo política de no acción:\n",
            "16-03: 153\n",
            "17-03: 193\n",
            "18-03: 242\n",
            "19-03: 304\n",
            "20-03: 381\n",
            "21-03: 479\n",
            "22-03: 601\n",
            "23-03: 754\n",
            "24-03: 947\n",
            "25-03: 1188\n",
            "26-03: 1491\n",
            "27-03: 1872\n",
            "28-03: 2350\n",
            "29-03: 2949\n",
            "30-03: 3702\n",
            "31-03: 4646\n",
            "01-04: 5832\n",
            "02-04: 7320\n",
            "03-04: 9187\n",
            "04-04: 11531\n",
            "05-04: 14473\n",
            "06-04: 18165\n",
            "07-04: 22799\n",
            "08-04: 28616\n",
            "09-04: 35916\n",
            "10-04: 45078\n",
            "11-04: 56578\n",
            "12-04: 71012\n",
            "13-04: 89128\n",
            "14-04: 111866\n"
          ],
          "name": "stdout"
        }
      ]
    }
  ]
}