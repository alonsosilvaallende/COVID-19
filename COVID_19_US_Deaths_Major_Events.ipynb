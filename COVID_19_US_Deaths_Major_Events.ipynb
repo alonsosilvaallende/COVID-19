{
  "nbformat": 4,
  "nbformat_minor": 0,
  "metadata": {
    "colab": {
      "name": "COVID-19-US-Deaths-Major-Events.ipynb",
      "provenance": [],
      "authorship_tag": "ABX9TyNOO6N2xCTCC9z+rYwsvfWG",
      "include_colab_link": true
    },
    "kernelspec": {
      "name": "python3",
      "display_name": "Python 3"
    }
  },
  "cells": [
    {
      "cell_type": "markdown",
      "metadata": {
        "id": "view-in-github",
        "colab_type": "text"
      },
      "source": [
        "<a href=\"https://colab.research.google.com/github/alonsosilvaallende/COVID-19/blob/master/COVID_19_US_Deaths_Major_Events.ipynb\" target=\"_parent\"><img src=\"https://colab.research.google.com/assets/colab-badge.svg\" alt=\"Open In Colab\"/></a>"
      ]
    },
    {
      "cell_type": "code",
      "metadata": {
        "id": "eLAShHEcb6MD",
        "colab_type": "code",
        "colab": {}
      },
      "source": [
        "import numpy as np\n",
        "import matplotlib.pyplot as plt\n",
        "import pandas as pd\n",
        "plt.style.use('seaborn')"
      ],
      "execution_count": 0,
      "outputs": []
    },
    {
      "cell_type": "code",
      "metadata": {
        "id": "iyJkPJDlpEYh",
        "colab_type": "code",
        "colab": {}
      },
      "source": [
        "!pip install -q bar_chart_race"
      ],
      "execution_count": 0,
      "outputs": []
    },
    {
      "cell_type": "code",
      "metadata": {
        "id": "hMCDms91b8Om",
        "colab_type": "code",
        "colab": {}
      },
      "source": [
        "full_data = pd.read_csv(\"https://covid.ourworldindata.org/data/ecdc/full_data.csv\", index_col='date')"
      ],
      "execution_count": 0,
      "outputs": []
    },
    {
      "cell_type": "code",
      "metadata": {
        "id": "d0l02zG0cIl1",
        "colab_type": "code",
        "colab": {}
      },
      "source": [
        "United_States = full_data.query(\"location == 'United States'\")"
      ],
      "execution_count": 0,
      "outputs": []
    },
    {
      "cell_type": "code",
      "metadata": {
        "id": "3G1MPKrgnK14",
        "colab_type": "code",
        "colab": {}
      },
      "source": [
        "data = pd.DataFrame()\n",
        "data['date'] = United_States[United_States['total_deaths']>0].reset_index()['date']\n",
        "data['Covid-19'] = United_States[United_States['total_deaths']>0].reset_index()['total_deaths']\n",
        "data['Vietnam War'] = 58209*np.ones(len(data))\n",
        "data['Korean War'] = 54246*np.ones(len(data))\n",
        "data['American Revolution'] = 25000*np.ones(len(data))\n",
        "data['War of 1812'] = 15000*np.ones(len(data))\n",
        "data['1900 Galveston Hurricane'] = 8000*np.ones(len(data))\n",
        "data['Iraq War'] = 4497*np.ones(len(data))\n",
        "data['1906 Earthquake'] = 3000*np.ones(len(data))\n",
        "data['9/11'] = 2997*np.ones(len(data))\n",
        "data['Hurricane Maria'] = 2982*np.ones(len(data))\n",
        "data['Pearl Harbor'] = 2467*np.ones(len(data))\n",
        "data['War in Afghanistan'] = 2216*np.ones(len(data))\n",
        "data['Hurricane Katrina'] = 1836*np.ones(len(data))\n",
        "data['Jonestown'] = 918*np.ones(len(data))\n",
        "data['World War I'] = 116516*np.ones(len(data))\n",
        "data['World War II'] = 405399*np.ones(len(data))\n",
        "data['1918 Flu'] = 675000*np.ones(len(data))\n",
        "data['Civil War'] = 750000*np.ones(len(data))\n",
        "data = data.set_index('date')"
      ],
      "execution_count": 0,
      "outputs": []
    },
    {
      "cell_type": "code",
      "metadata": {
        "id": "-ppCAeUnpHmT",
        "colab_type": "code",
        "colab": {}
      },
      "source": [
        "import bar_chart_race as bcr"
      ],
      "execution_count": 0,
      "outputs": []
    },
    {
      "cell_type": "code",
      "metadata": {
        "id": "L4FyUvPBpJ5D",
        "colab_type": "code",
        "colab": {}
      },
      "source": [
        "bcr.bar_chart_race(\n",
        "    df=data,\n",
        "    filename='covid19_deaths_US.mp4',\n",
        "    orientation='h',\n",
        "    sort='desc',\n",
        "    label_bars=True,\n",
        "    use_index=True,\n",
        "    steps_per_period=10,\n",
        "    period_length=500,\n",
        "    figsize=(6.5, 3.5),\n",
        "    cmap='dark24',\n",
        "    title='Deaths in major events in the US as of April 28',\n",
        "    bar_label_size=7,\n",
        "    tick_label_size=7,\n",
        "    period_label_size=16,\n",
        "    fig=None)"
      ],
      "execution_count": 0,
      "outputs": []
    },
    {
      "cell_type": "code",
      "metadata": {
        "id": "n2AyTr8npk5-",
        "colab_type": "code",
        "colab": {}
      },
      "source": [
        "from google.colab import files\n",
        "files.download(\"covid19_deaths_US.mp4\")"
      ],
      "execution_count": 0,
      "outputs": []
    },
    {
      "cell_type": "code",
      "metadata": {
        "id": "jgX4y24KsTHB",
        "colab_type": "code",
        "colab": {}
      },
      "source": [
        ""
      ],
      "execution_count": 0,
      "outputs": []
    }
  ]
}