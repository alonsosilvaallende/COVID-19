{
  "nbformat": 4,
  "nbformat_minor": 0,
  "metadata": {
    "colab": {
      "name": "COVID-Chile-Examenes-PCR-Realizados.ipynb",
      "provenance": [],
      "collapsed_sections": [],
      "authorship_tag": "ABX9TyOgj5hXQ8b0VE+bI4NAJ2yK",
      "include_colab_link": true
    },
    "kernelspec": {
      "name": "python3",
      "display_name": "Python 3"
    }
  },
  "cells": [
    {
      "cell_type": "markdown",
      "metadata": {
        "id": "view-in-github",
        "colab_type": "text"
      },
      "source": [
        "<a href=\"https://colab.research.google.com/github/alonsosilvaallende/COVID-19/blob/master/COVID_Chile_Examenes_PCR_Realizados.ipynb\" target=\"_parent\"><img src=\"https://colab.research.google.com/assets/colab-badge.svg\" alt=\"Open In Colab\"/></a>"
      ]
    },
    {
      "cell_type": "code",
      "metadata": {
        "id": "HeTzNfivtv9Y",
        "colab_type": "code",
        "colab": {}
      },
      "source": [
        "import numpy as np\n",
        "import matplotlib.pyplot as plt\n",
        "import pandas as pd\n",
        "plt.style.use('ggplot')"
      ],
      "execution_count": 0,
      "outputs": []
    },
    {
      "cell_type": "code",
      "metadata": {
        "id": "vFFc7WqCt2Nl",
        "colab_type": "code",
        "colab": {}
      },
      "source": [
        "tests_raw = pd.read_csv(\n",
        "    'https://raw.githubusercontent.com/MinCiencia/Datos-COVID19/master/output/producto7/PCR.csv',\n",
        "    index_col='Region')\n",
        "tests_raw = tests_raw.fillna(0)"
      ],
      "execution_count": 0,
      "outputs": []
    },
    {
      "cell_type": "code",
      "metadata": {
        "id": "BAwQr6lV1pYt",
        "colab_type": "code",
        "colab": {}
      },
      "source": [
        "casos_raw = pd.read_csv(\n",
        "    \"https://raw.githubusercontent.com/MinCiencia/Datos-COVID19/master/output/producto3/CasosTotalesCumulativo.csv\", \n",
        "    index_col='Region')"
      ],
      "execution_count": 0,
      "outputs": []
    },
    {
      "cell_type": "code",
      "metadata": {
        "id": "LFS3t2r0v94o",
        "colab_type": "code",
        "colab": {}
      },
      "source": [
        "tests_total = pd.Series(dtype='float64')\n",
        "for date in tests_raw.columns:\n",
        "  tests_raw[date] = tests_raw[date].apply(lambda x: 0 if x=='-' else x)\n",
        "  tests_raw[date] = tests_raw[date].astype(int)\n",
        "  tests_total[date] = np.sum(tests_raw[date])"
      ],
      "execution_count": 0,
      "outputs": []
    },
    {
      "cell_type": "code",
      "metadata": {
        "id": "BuGKyOvB6yzd",
        "colab_type": "code",
        "colab": {}
      },
      "source": [
        "tests_raw.loc['Total'] = tests_total"
      ],
      "execution_count": 0,
      "outputs": []
    },
    {
      "cell_type": "code",
      "metadata": {
        "id": "CBQg889Dtn0k",
        "colab_type": "code",
        "colab": {
          "base_uri": "https://localhost:8080/",
          "height": 614
        },
        "outputId": "883328e6-6eb1-477b-d39a-052990e80ddc"
      },
      "source": [
        "tests_raw"
      ],
      "execution_count": 9,
      "outputs": [
        {
          "output_type": "execute_result",
          "data": {
            "text/html": [
              "<div>\n",
              "<style scoped>\n",
              "    .dataframe tbody tr th:only-of-type {\n",
              "        vertical-align: middle;\n",
              "    }\n",
              "\n",
              "    .dataframe tbody tr th {\n",
              "        vertical-align: top;\n",
              "    }\n",
              "\n",
              "    .dataframe thead th {\n",
              "        text-align: right;\n",
              "    }\n",
              "</style>\n",
              "<table border=\"1\" class=\"dataframe\">\n",
              "  <thead>\n",
              "    <tr style=\"text-align: right;\">\n",
              "      <th></th>\n",
              "      <th>Poblacion</th>\n",
              "      <th>2020-04-09</th>\n",
              "      <th>2020-04-10</th>\n",
              "      <th>2020-04-11</th>\n",
              "      <th>2020-04-12</th>\n",
              "      <th>2020-04-13</th>\n",
              "    </tr>\n",
              "    <tr>\n",
              "      <th>Region</th>\n",
              "      <th></th>\n",
              "      <th></th>\n",
              "      <th></th>\n",
              "      <th></th>\n",
              "      <th></th>\n",
              "      <th></th>\n",
              "    </tr>\n",
              "  </thead>\n",
              "  <tbody>\n",
              "    <tr>\n",
              "      <th>Arica y Parinacota</th>\n",
              "      <td>252110</td>\n",
              "      <td>70</td>\n",
              "      <td>0</td>\n",
              "      <td>0</td>\n",
              "      <td>103</td>\n",
              "      <td>0</td>\n",
              "    </tr>\n",
              "    <tr>\n",
              "      <th>Tarapaca</th>\n",
              "      <td>382773</td>\n",
              "      <td>0</td>\n",
              "      <td>0</td>\n",
              "      <td>0</td>\n",
              "      <td>0</td>\n",
              "      <td>0</td>\n",
              "    </tr>\n",
              "    <tr>\n",
              "      <th>Antofagasta</th>\n",
              "      <td>691854</td>\n",
              "      <td>182</td>\n",
              "      <td>128</td>\n",
              "      <td>107</td>\n",
              "      <td>175</td>\n",
              "      <td>103</td>\n",
              "    </tr>\n",
              "    <tr>\n",
              "      <th>Atacama</th>\n",
              "      <td>314709</td>\n",
              "      <td>57</td>\n",
              "      <td>52</td>\n",
              "      <td>60</td>\n",
              "      <td>25</td>\n",
              "      <td>20</td>\n",
              "    </tr>\n",
              "    <tr>\n",
              "      <th>Coquimbo</th>\n",
              "      <td>836096</td>\n",
              "      <td>0</td>\n",
              "      <td>0</td>\n",
              "      <td>0</td>\n",
              "      <td>0</td>\n",
              "      <td>0</td>\n",
              "    </tr>\n",
              "    <tr>\n",
              "      <th>Valparaiso</th>\n",
              "      <td>1960170</td>\n",
              "      <td>301</td>\n",
              "      <td>249</td>\n",
              "      <td>248</td>\n",
              "      <td>273</td>\n",
              "      <td>223</td>\n",
              "    </tr>\n",
              "    <tr>\n",
              "      <th>Metropolitana</th>\n",
              "      <td>8125072</td>\n",
              "      <td>5383</td>\n",
              "      <td>3158</td>\n",
              "      <td>2105</td>\n",
              "      <td>3861</td>\n",
              "      <td>1850</td>\n",
              "    </tr>\n",
              "    <tr>\n",
              "      <th>Del Libertador General Bernardo O’Higgins</th>\n",
              "      <td>991063</td>\n",
              "      <td>68</td>\n",
              "      <td>0</td>\n",
              "      <td>74</td>\n",
              "      <td>0</td>\n",
              "      <td>74</td>\n",
              "    </tr>\n",
              "    <tr>\n",
              "      <th>Maule</th>\n",
              "      <td>1131939</td>\n",
              "      <td>397</td>\n",
              "      <td>219</td>\n",
              "      <td>0</td>\n",
              "      <td>341</td>\n",
              "      <td>113</td>\n",
              "    </tr>\n",
              "    <tr>\n",
              "      <th>Nuble</th>\n",
              "      <td>511551</td>\n",
              "      <td>364</td>\n",
              "      <td>0</td>\n",
              "      <td>259</td>\n",
              "      <td>189</td>\n",
              "      <td>65</td>\n",
              "    </tr>\n",
              "    <tr>\n",
              "      <th>Biobio</th>\n",
              "      <td>1663696</td>\n",
              "      <td>592</td>\n",
              "      <td>149</td>\n",
              "      <td>281</td>\n",
              "      <td>469</td>\n",
              "      <td>0</td>\n",
              "    </tr>\n",
              "    <tr>\n",
              "      <th>La Araucania</th>\n",
              "      <td>1014343</td>\n",
              "      <td>124</td>\n",
              "      <td>148</td>\n",
              "      <td>126</td>\n",
              "      <td>184</td>\n",
              "      <td>232</td>\n",
              "    </tr>\n",
              "    <tr>\n",
              "      <th>Los Rios</th>\n",
              "      <td>405835</td>\n",
              "      <td>0</td>\n",
              "      <td>91</td>\n",
              "      <td>0</td>\n",
              "      <td>0</td>\n",
              "      <td>0</td>\n",
              "    </tr>\n",
              "    <tr>\n",
              "      <th>Los Lagos</th>\n",
              "      <td>891440</td>\n",
              "      <td>341</td>\n",
              "      <td>199</td>\n",
              "      <td>178</td>\n",
              "      <td>225</td>\n",
              "      <td>39</td>\n",
              "    </tr>\n",
              "    <tr>\n",
              "      <th>Aysen</th>\n",
              "      <td>107297</td>\n",
              "      <td>10</td>\n",
              "      <td>0</td>\n",
              "      <td>0</td>\n",
              "      <td>7</td>\n",
              "      <td>0</td>\n",
              "    </tr>\n",
              "    <tr>\n",
              "      <th>Magallanes y la Antartica</th>\n",
              "      <td>178362</td>\n",
              "      <td>73</td>\n",
              "      <td>24</td>\n",
              "      <td>46</td>\n",
              "      <td>45</td>\n",
              "      <td>45</td>\n",
              "    </tr>\n",
              "    <tr>\n",
              "      <th>Total</th>\n",
              "      <td>19458310</td>\n",
              "      <td>7962</td>\n",
              "      <td>4417</td>\n",
              "      <td>3484</td>\n",
              "      <td>5897</td>\n",
              "      <td>2764</td>\n",
              "    </tr>\n",
              "  </tbody>\n",
              "</table>\n",
              "</div>"
            ],
            "text/plain": [
              "                                           Poblacion  ...  2020-04-13\n",
              "Region                                                ...            \n",
              "Arica y Parinacota                            252110  ...           0\n",
              "Tarapaca                                      382773  ...           0\n",
              "Antofagasta                                   691854  ...         103\n",
              "Atacama                                       314709  ...          20\n",
              "Coquimbo                                      836096  ...           0\n",
              "Valparaiso                                   1960170  ...         223\n",
              "Metropolitana                                8125072  ...        1850\n",
              "Del Libertador General Bernardo O’Higgins     991063  ...          74\n",
              "Maule                                        1131939  ...         113\n",
              "Nuble                                         511551  ...          65\n",
              "Biobio                                       1663696  ...           0\n",
              "La Araucania                                 1014343  ...         232\n",
              "Los Rios                                      405835  ...           0\n",
              "Los Lagos                                     891440  ...          39\n",
              "Aysen                                         107297  ...           0\n",
              "Magallanes y la Antartica                     178362  ...          45\n",
              "Total                                       19458310  ...        2764\n",
              "\n",
              "[17 rows x 6 columns]"
            ]
          },
          "metadata": {
            "tags": []
          },
          "execution_count": 9
        }
      ]
    },
    {
      "cell_type": "code",
      "metadata": {
        "id": "bRHPdpxuuMyK",
        "colab_type": "code",
        "colab": {
          "base_uri": "https://localhost:8080/",
          "height": 275
        },
        "outputId": "7d509498-a3a5-40b7-f441-e0cd2e6aef4e"
      },
      "source": [
        "casos_raw.head()"
      ],
      "execution_count": 11,
      "outputs": [
        {
          "output_type": "execute_result",
          "data": {
            "text/html": [
              "<div>\n",
              "<style scoped>\n",
              "    .dataframe tbody tr th:only-of-type {\n",
              "        vertical-align: middle;\n",
              "    }\n",
              "\n",
              "    .dataframe tbody tr th {\n",
              "        vertical-align: top;\n",
              "    }\n",
              "\n",
              "    .dataframe thead th {\n",
              "        text-align: right;\n",
              "    }\n",
              "</style>\n",
              "<table border=\"1\" class=\"dataframe\">\n",
              "  <thead>\n",
              "    <tr style=\"text-align: right;\">\n",
              "      <th></th>\n",
              "      <th>2020-03-03</th>\n",
              "      <th>2020-03-04</th>\n",
              "      <th>2020-03-05</th>\n",
              "      <th>2020-03-06</th>\n",
              "      <th>2020-03-07</th>\n",
              "      <th>2020-03-08</th>\n",
              "      <th>2020-03-09</th>\n",
              "      <th>2020-03-10</th>\n",
              "      <th>2020-03-11</th>\n",
              "      <th>2020-03-12</th>\n",
              "      <th>2020-03-13</th>\n",
              "      <th>2020-03-14</th>\n",
              "      <th>2020-03-15</th>\n",
              "      <th>2020-03-16</th>\n",
              "      <th>2020-03-17</th>\n",
              "      <th>2020-03-18</th>\n",
              "      <th>2020-03-19</th>\n",
              "      <th>2020-03-20</th>\n",
              "      <th>2020-03-21</th>\n",
              "      <th>2020-03-22</th>\n",
              "      <th>2020-03-23</th>\n",
              "      <th>2020-03-24</th>\n",
              "      <th>2020-03-25</th>\n",
              "      <th>2020-03-26</th>\n",
              "      <th>2020-03-27</th>\n",
              "      <th>2020-03-28</th>\n",
              "      <th>2020-03-29</th>\n",
              "      <th>2020-03-30</th>\n",
              "      <th>2020-03-31</th>\n",
              "      <th>2020-04-01</th>\n",
              "      <th>2020-04-02</th>\n",
              "      <th>2020-04-03</th>\n",
              "      <th>2020-04-04</th>\n",
              "      <th>2020-04-05</th>\n",
              "      <th>2020-04-06</th>\n",
              "      <th>2020-04-07</th>\n",
              "      <th>2020-04-08</th>\n",
              "      <th>2020-04-09</th>\n",
              "      <th>2020-04-10</th>\n",
              "      <th>2020-04-11</th>\n",
              "    </tr>\n",
              "    <tr>\n",
              "      <th>Region</th>\n",
              "      <th></th>\n",
              "      <th></th>\n",
              "      <th></th>\n",
              "      <th></th>\n",
              "      <th></th>\n",
              "      <th></th>\n",
              "      <th></th>\n",
              "      <th></th>\n",
              "      <th></th>\n",
              "      <th></th>\n",
              "      <th></th>\n",
              "      <th></th>\n",
              "      <th></th>\n",
              "      <th></th>\n",
              "      <th></th>\n",
              "      <th></th>\n",
              "      <th></th>\n",
              "      <th></th>\n",
              "      <th></th>\n",
              "      <th></th>\n",
              "      <th></th>\n",
              "      <th></th>\n",
              "      <th></th>\n",
              "      <th></th>\n",
              "      <th></th>\n",
              "      <th></th>\n",
              "      <th></th>\n",
              "      <th></th>\n",
              "      <th></th>\n",
              "      <th></th>\n",
              "      <th></th>\n",
              "      <th></th>\n",
              "      <th></th>\n",
              "      <th></th>\n",
              "      <th></th>\n",
              "      <th></th>\n",
              "      <th></th>\n",
              "      <th></th>\n",
              "      <th></th>\n",
              "      <th></th>\n",
              "    </tr>\n",
              "  </thead>\n",
              "  <tbody>\n",
              "    <tr>\n",
              "      <th>Arica y Parinacota</th>\n",
              "      <td>0</td>\n",
              "      <td>0</td>\n",
              "      <td>0</td>\n",
              "      <td>0</td>\n",
              "      <td>0</td>\n",
              "      <td>0</td>\n",
              "      <td>0</td>\n",
              "      <td>0</td>\n",
              "      <td>0</td>\n",
              "      <td>0</td>\n",
              "      <td>0</td>\n",
              "      <td>0</td>\n",
              "      <td>0</td>\n",
              "      <td>0</td>\n",
              "      <td>0</td>\n",
              "      <td>0</td>\n",
              "      <td>1</td>\n",
              "      <td>1</td>\n",
              "      <td>1</td>\n",
              "      <td>2</td>\n",
              "      <td>2</td>\n",
              "      <td>2</td>\n",
              "      <td>2</td>\n",
              "      <td>3</td>\n",
              "      <td>3</td>\n",
              "      <td>3</td>\n",
              "      <td>4</td>\n",
              "      <td>6</td>\n",
              "      <td>6</td>\n",
              "      <td>6</td>\n",
              "      <td>7</td>\n",
              "      <td>12</td>\n",
              "      <td>12</td>\n",
              "      <td>28</td>\n",
              "      <td>41</td>\n",
              "      <td>53</td>\n",
              "      <td>63</td>\n",
              "      <td>75</td>\n",
              "      <td>87</td>\n",
              "      <td>107</td>\n",
              "    </tr>\n",
              "    <tr>\n",
              "      <th>Tarapaca</th>\n",
              "      <td>0</td>\n",
              "      <td>0</td>\n",
              "      <td>0</td>\n",
              "      <td>0</td>\n",
              "      <td>0</td>\n",
              "      <td>0</td>\n",
              "      <td>0</td>\n",
              "      <td>0</td>\n",
              "      <td>0</td>\n",
              "      <td>0</td>\n",
              "      <td>0</td>\n",
              "      <td>0</td>\n",
              "      <td>0</td>\n",
              "      <td>0</td>\n",
              "      <td>0</td>\n",
              "      <td>0</td>\n",
              "      <td>0</td>\n",
              "      <td>0</td>\n",
              "      <td>0</td>\n",
              "      <td>0</td>\n",
              "      <td>0</td>\n",
              "      <td>1</td>\n",
              "      <td>4</td>\n",
              "      <td>5</td>\n",
              "      <td>5</td>\n",
              "      <td>5</td>\n",
              "      <td>6</td>\n",
              "      <td>8</td>\n",
              "      <td>10</td>\n",
              "      <td>10</td>\n",
              "      <td>12</td>\n",
              "      <td>13</td>\n",
              "      <td>17</td>\n",
              "      <td>20</td>\n",
              "      <td>21</td>\n",
              "      <td>23</td>\n",
              "      <td>26</td>\n",
              "      <td>29</td>\n",
              "      <td>35</td>\n",
              "      <td>38</td>\n",
              "    </tr>\n",
              "    <tr>\n",
              "      <th>Antofagasta</th>\n",
              "      <td>0</td>\n",
              "      <td>0</td>\n",
              "      <td>0</td>\n",
              "      <td>0</td>\n",
              "      <td>0</td>\n",
              "      <td>0</td>\n",
              "      <td>0</td>\n",
              "      <td>0</td>\n",
              "      <td>0</td>\n",
              "      <td>0</td>\n",
              "      <td>0</td>\n",
              "      <td>2</td>\n",
              "      <td>2</td>\n",
              "      <td>2</td>\n",
              "      <td>2</td>\n",
              "      <td>2</td>\n",
              "      <td>2</td>\n",
              "      <td>6</td>\n",
              "      <td>10</td>\n",
              "      <td>11</td>\n",
              "      <td>11</td>\n",
              "      <td>11</td>\n",
              "      <td>13</td>\n",
              "      <td>20</td>\n",
              "      <td>21</td>\n",
              "      <td>25</td>\n",
              "      <td>27</td>\n",
              "      <td>35</td>\n",
              "      <td>35</td>\n",
              "      <td>39</td>\n",
              "      <td>47</td>\n",
              "      <td>54</td>\n",
              "      <td>55</td>\n",
              "      <td>60</td>\n",
              "      <td>68</td>\n",
              "      <td>69</td>\n",
              "      <td>77</td>\n",
              "      <td>92</td>\n",
              "      <td>110</td>\n",
              "      <td>117</td>\n",
              "    </tr>\n",
              "    <tr>\n",
              "      <th>Atacama</th>\n",
              "      <td>0</td>\n",
              "      <td>0</td>\n",
              "      <td>0</td>\n",
              "      <td>0</td>\n",
              "      <td>0</td>\n",
              "      <td>0</td>\n",
              "      <td>0</td>\n",
              "      <td>0</td>\n",
              "      <td>0</td>\n",
              "      <td>0</td>\n",
              "      <td>0</td>\n",
              "      <td>1</td>\n",
              "      <td>1</td>\n",
              "      <td>1</td>\n",
              "      <td>1</td>\n",
              "      <td>1</td>\n",
              "      <td>1</td>\n",
              "      <td>1</td>\n",
              "      <td>1</td>\n",
              "      <td>1</td>\n",
              "      <td>1</td>\n",
              "      <td>1</td>\n",
              "      <td>1</td>\n",
              "      <td>1</td>\n",
              "      <td>1</td>\n",
              "      <td>1</td>\n",
              "      <td>2</td>\n",
              "      <td>2</td>\n",
              "      <td>2</td>\n",
              "      <td>3</td>\n",
              "      <td>3</td>\n",
              "      <td>5</td>\n",
              "      <td>5</td>\n",
              "      <td>5</td>\n",
              "      <td>5</td>\n",
              "      <td>6</td>\n",
              "      <td>8</td>\n",
              "      <td>10</td>\n",
              "      <td>13</td>\n",
              "      <td>13</td>\n",
              "    </tr>\n",
              "    <tr>\n",
              "      <th>Coquimbo</th>\n",
              "      <td>0</td>\n",
              "      <td>0</td>\n",
              "      <td>0</td>\n",
              "      <td>0</td>\n",
              "      <td>0</td>\n",
              "      <td>0</td>\n",
              "      <td>0</td>\n",
              "      <td>0</td>\n",
              "      <td>0</td>\n",
              "      <td>0</td>\n",
              "      <td>0</td>\n",
              "      <td>0</td>\n",
              "      <td>0</td>\n",
              "      <td>0</td>\n",
              "      <td>0</td>\n",
              "      <td>0</td>\n",
              "      <td>2</td>\n",
              "      <td>3</td>\n",
              "      <td>3</td>\n",
              "      <td>5</td>\n",
              "      <td>5</td>\n",
              "      <td>6</td>\n",
              "      <td>11</td>\n",
              "      <td>13</td>\n",
              "      <td>14</td>\n",
              "      <td>15</td>\n",
              "      <td>18</td>\n",
              "      <td>27</td>\n",
              "      <td>28</td>\n",
              "      <td>30</td>\n",
              "      <td>34</td>\n",
              "      <td>35</td>\n",
              "      <td>44</td>\n",
              "      <td>50</td>\n",
              "      <td>51</td>\n",
              "      <td>52</td>\n",
              "      <td>56</td>\n",
              "      <td>61</td>\n",
              "      <td>61</td>\n",
              "      <td>64</td>\n",
              "    </tr>\n",
              "  </tbody>\n",
              "</table>\n",
              "</div>"
            ],
            "text/plain": [
              "                    2020-03-03  2020-03-04  ...  2020-04-10  2020-04-11\n",
              "Region                                      ...                        \n",
              "Arica y Parinacota           0           0  ...          87         107\n",
              "Tarapaca                     0           0  ...          35          38\n",
              "Antofagasta                  0           0  ...         110         117\n",
              "Atacama                      0           0  ...          13          13\n",
              "Coquimbo                     0           0  ...          61          64\n",
              "\n",
              "[5 rows x 40 columns]"
            ]
          },
          "metadata": {
            "tags": []
          },
          "execution_count": 11
        }
      ]
    },
    {
      "cell_type": "code",
      "metadata": {
        "id": "h9LzhS-CvLd0",
        "colab_type": "code",
        "colab": {}
      },
      "source": [
        "tests_20200408 = pd.read_csv('https://raw.githubusercontent.com/MinCiencia/Datos-COVID19/master/output/producto4/2020-04-08-CasosConfirmados-totalRegional.csv', index_col='Region')"
      ],
      "execution_count": 0,
      "outputs": []
    },
    {
      "cell_type": "code",
      "metadata": {
        "id": "KFy21elcutJK",
        "colab_type": "code",
        "colab": {}
      },
      "source": [
        "tests_20200413 = pd.read_csv('https://raw.githubusercontent.com/MinCiencia/Datos-COVID19/master/output/producto4/2020-04-13-CasosConfirmados-totalRegional.csv', index_col='Region')"
      ],
      "execution_count": 0,
      "outputs": []
    },
    {
      "cell_type": "code",
      "metadata": {
        "id": "kir2rJyAvvq_",
        "colab_type": "code",
        "colab": {
          "base_uri": "https://localhost:8080/",
          "height": 35
        },
        "outputId": "a420ae91-9f49-4370-8085-d53e900d1e81"
      },
      "source": [
        "len(tests_20200408), len(tests_20200413), len(tests_20200413['Casos  totales'] - tests_20200408['Casos  totales'])"
      ],
      "execution_count": 28,
      "outputs": [
        {
          "output_type": "execute_result",
          "data": {
            "text/plain": [
              "(17, 17, 17)"
            ]
          },
          "metadata": {
            "tags": []
          },
          "execution_count": 28
        }
      ]
    },
    {
      "cell_type": "code",
      "metadata": {
        "id": "KKyAVpOov_5I",
        "colab_type": "code",
        "colab": {}
      },
      "source": [
        "positividad = 100*(tests_20200413['Casos  totales'] - tests_20200408['Casos  totales'])/tests_raw.drop(columns='Poblacion').sum(axis=1).values"
      ],
      "execution_count": 0,
      "outputs": []
    },
    {
      "cell_type": "code",
      "metadata": {
        "id": "lmDVcvJzz24S",
        "colab_type": "code",
        "colab": {}
      },
      "source": [
        "positividad = positividad.drop(['Tarapaca', 'Coquimbo'])"
      ],
      "execution_count": 0,
      "outputs": []
    },
    {
      "cell_type": "code",
      "metadata": {
        "id": "-YlIUxjh0tLR",
        "colab_type": "code",
        "colab": {
          "base_uri": "https://localhost:8080/",
          "height": 318
        },
        "outputId": "fd644ae0-d4fc-4101-b16f-82a56e4e69d1"
      },
      "source": [
        "positividad"
      ],
      "execution_count": 48,
      "outputs": [
        {
          "output_type": "execute_result",
          "data": {
            "text/plain": [
              "Region\n",
              "Arica  y  Parinacota    30.057803\n",
              "Antofagasta             10.359712\n",
              "Atacama                  2.336449\n",
              "Valparaiso               3.709428\n",
              "Metropolitana            7.672556\n",
              "O'Higgins                2.314815\n",
              "Maule                    2.056075\n",
              "Nuble                    6.499430\n",
              "Biobio                   4.896043\n",
              "Araucania               15.479115\n",
              "Los  Rios               26.373626\n",
              "Los  Lagos               5.600815\n",
              "Aysen                    0.000000\n",
              "Magallanes              63.948498\n",
              "Total                    8.069646\n",
              "Name: Casos  totales, dtype: float64"
            ]
          },
          "metadata": {
            "tags": []
          },
          "execution_count": 48
        }
      ]
    },
    {
      "cell_type": "code",
      "metadata": {
        "id": "i-86WQvM0kby",
        "colab_type": "code",
        "colab": {}
      },
      "source": [
        "positividad = positividad.sort_values(ascending=True)"
      ],
      "execution_count": 0,
      "outputs": []
    },
    {
      "cell_type": "code",
      "metadata": {
        "id": "j3P7T97bz5ST",
        "colab_type": "code",
        "colab": {
          "base_uri": "https://localhost:8080/",
          "height": 484
        },
        "outputId": "40067f85-2adb-441a-e70e-11b6d2765f22"
      },
      "source": [
        "fig, ax = plt.subplots(figsize=(10,7))\n",
        "positividad.plot(kind='barh', ax=ax, color='C1', fontsize='x-large')\n",
        "for i, val in enumerate(positividad):\n",
        "  ax.text(val, i-0.1, f\" {val:.1f}%\", fontsize='large')\n",
        "ax.set_xticks([0,10,20,30,40,50,60,70])\n",
        "ax.set_xticklabels(['0%', '10%', '20%', '30%', '40%', '50%' ,'60%' ,'70%' ])\n",
        "ax.set_title(f'COVID-19 en Chile: Positividad por Región entre el 9 y el 13 de abril\\nPositividad = Casos confirmados / exámenes informados', fontsize='x-large')\n",
        "ax.set_xlabel(f'Positividad', fontsize='x-large')\n",
        "ax.set_ylabel(f'Región', fontsize='x-large')\n",
        "plt.xlim(0,70)\n",
        "plt.savefig(\"2020-04-14-COVID-19-Chile-Positividad-por-Region.png\", format='png', dvi=1200)"
      ],
      "execution_count": 61,
      "outputs": [
        {
          "output_type": "display_data",
          "data": {
            "image/png": "[encoded data removed]",
            "text/plain": [
              "<Figure size 720x504 with 1 Axes>"
            ]
          },
          "metadata": {
            "tags": [],
            "needs_background": "light"
          }
        }
      ]
    },
    {
      "cell_type": "code",
      "metadata": {
        "id": "-RmSOaXf3jgg",
        "colab_type": "code",
        "colab": {}
      },
      "source": [
        "from google.colab import files\n",
        "files.download(\"2020-04-14-COVID-19-Chile-Positividad-por-Region.png\")"
      ],
      "execution_count": 0,
      "outputs": []
    },
    {
      "cell_type": "code",
      "metadata": {
        "id": "0V28r2HQAEd2",
        "colab_type": "code",
        "colab": {}
      },
      "source": [
        "date = '2020-04-10'"
      ],
      "execution_count": 0,
      "outputs": []
    },
    {
      "cell_type": "code",
      "metadata": {
        "id": "as0QK9Qg3O3q",
        "colab_type": "code",
        "colab": {}
      },
      "source": [
        "data = pd.DataFrame()"
      ],
      "execution_count": 0,
      "outputs": []
    },
    {
      "cell_type": "code",
      "metadata": {
        "id": "lyVs5nvU13hV",
        "colab_type": "code",
        "colab": {}
      },
      "source": [
        "data['Casos confirmados'] = casos_raw[date] - casos_raw[(pd.to_datetime(date)-pd.DateOffset(1)).strftime('%Y-%m-%d')]"
      ],
      "execution_count": 0,
      "outputs": []
    },
    {
      "cell_type": "code",
      "metadata": {
        "id": "LGuBZHpW3V1Q",
        "colab_type": "code",
        "colab": {}
      },
      "source": [
        "data['Tests'] = tests_raw[date].values"
      ],
      "execution_count": 0,
      "outputs": []
    },
    {
      "cell_type": "code",
      "metadata": {
        "id": "6runuv4y8_N2",
        "colab_type": "code",
        "colab": {}
      },
      "source": [
        "positividad = pd.Series(dtype='float64')\n",
        "for i in np.arange(len(data)):\n",
        "  if data['Tests'].iloc[i] != 0:\n",
        "    positividad[f'{i}'] = f\"{data['Casos confirmados'].iloc[i]/data['Tests'].iloc[i]*100:.1f}\"\n",
        "  else:\n",
        "    positividad[f'{i}'] = 0.0"
      ],
      "execution_count": 0,
      "outputs": []
    },
    {
      "cell_type": "code",
      "metadata": {
        "id": "pMwubhi48at_",
        "colab_type": "code",
        "colab": {}
      },
      "source": [
        "data['Positividad (%)'] = positividad.values"
      ],
      "execution_count": 0,
      "outputs": []
    },
    {
      "cell_type": "code",
      "metadata": {
        "id": "bvR76Mm17Ku8",
        "colab_type": "code",
        "outputId": "6068a831-97cc-4850-ba6a-17d0928cb308",
        "colab": {
          "base_uri": "https://localhost:8080/",
          "height": 614
        }
      },
      "source": [
        "data"
      ],
      "execution_count": 0,
      "outputs": [
        {
          "output_type": "execute_result",
          "data": {
            "text/html": [
              "<div>\n",
              "<style scoped>\n",
              "    .dataframe tbody tr th:only-of-type {\n",
              "        vertical-align: middle;\n",
              "    }\n",
              "\n",
              "    .dataframe tbody tr th {\n",
              "        vertical-align: top;\n",
              "    }\n",
              "\n",
              "    .dataframe thead th {\n",
              "        text-align: right;\n",
              "    }\n",
              "</style>\n",
              "<table border=\"1\" class=\"dataframe\">\n",
              "  <thead>\n",
              "    <tr style=\"text-align: right;\">\n",
              "      <th></th>\n",
              "      <th>Casos confirmados</th>\n",
              "      <th>Tests</th>\n",
              "      <th>Positividad (%)</th>\n",
              "    </tr>\n",
              "    <tr>\n",
              "      <th>Region</th>\n",
              "      <th></th>\n",
              "      <th></th>\n",
              "      <th></th>\n",
              "    </tr>\n",
              "  </thead>\n",
              "  <tbody>\n",
              "    <tr>\n",
              "      <th>Arica y Parinacota</th>\n",
              "      <td>12</td>\n",
              "      <td>0</td>\n",
              "      <td>0</td>\n",
              "    </tr>\n",
              "    <tr>\n",
              "      <th>Tarapaca</th>\n",
              "      <td>6</td>\n",
              "      <td>0</td>\n",
              "      <td>0</td>\n",
              "    </tr>\n",
              "    <tr>\n",
              "      <th>Antofagasta</th>\n",
              "      <td>18</td>\n",
              "      <td>128</td>\n",
              "      <td>14.1</td>\n",
              "    </tr>\n",
              "    <tr>\n",
              "      <th>Atacama</th>\n",
              "      <td>3</td>\n",
              "      <td>52</td>\n",
              "      <td>5.8</td>\n",
              "    </tr>\n",
              "    <tr>\n",
              "      <th>Coquimbo</th>\n",
              "      <td>0</td>\n",
              "      <td>0</td>\n",
              "      <td>0</td>\n",
              "    </tr>\n",
              "    <tr>\n",
              "      <th>Valparaiso</th>\n",
              "      <td>11</td>\n",
              "      <td>249</td>\n",
              "      <td>4.4</td>\n",
              "    </tr>\n",
              "    <tr>\n",
              "      <th>Metropolitana</th>\n",
              "      <td>361</td>\n",
              "      <td>3158</td>\n",
              "      <td>11.4</td>\n",
              "    </tr>\n",
              "    <tr>\n",
              "      <th>O’Higgins</th>\n",
              "      <td>0</td>\n",
              "      <td>0</td>\n",
              "      <td>0</td>\n",
              "    </tr>\n",
              "    <tr>\n",
              "      <th>Maule</th>\n",
              "      <td>3</td>\n",
              "      <td>219</td>\n",
              "      <td>1.4</td>\n",
              "    </tr>\n",
              "    <tr>\n",
              "      <th>Ñuble</th>\n",
              "      <td>18</td>\n",
              "      <td>0</td>\n",
              "      <td>0</td>\n",
              "    </tr>\n",
              "    <tr>\n",
              "      <th>Biobío</th>\n",
              "      <td>14</td>\n",
              "      <td>149</td>\n",
              "      <td>9.4</td>\n",
              "    </tr>\n",
              "    <tr>\n",
              "      <th>Araucanía</th>\n",
              "      <td>23</td>\n",
              "      <td>148</td>\n",
              "      <td>15.5</td>\n",
              "    </tr>\n",
              "    <tr>\n",
              "      <th>Los Ríos</th>\n",
              "      <td>6</td>\n",
              "      <td>91</td>\n",
              "      <td>6.6</td>\n",
              "    </tr>\n",
              "    <tr>\n",
              "      <th>Los Lagos</th>\n",
              "      <td>9</td>\n",
              "      <td>199</td>\n",
              "      <td>4.5</td>\n",
              "    </tr>\n",
              "    <tr>\n",
              "      <th>Aysén</th>\n",
              "      <td>0</td>\n",
              "      <td>0</td>\n",
              "      <td>0</td>\n",
              "    </tr>\n",
              "    <tr>\n",
              "      <th>Magallanes</th>\n",
              "      <td>45</td>\n",
              "      <td>24</td>\n",
              "      <td>187.5</td>\n",
              "    </tr>\n",
              "    <tr>\n",
              "      <th>Total</th>\n",
              "      <td>529</td>\n",
              "      <td>4417</td>\n",
              "      <td>12.0</td>\n",
              "    </tr>\n",
              "  </tbody>\n",
              "</table>\n",
              "</div>"
            ],
            "text/plain": [
              "                    Casos confirmados  Tests Positividad (%)\n",
              "Region                                                      \n",
              "Arica y Parinacota                 12      0               0\n",
              "Tarapaca                            6      0               0\n",
              "Antofagasta                        18    128            14.1\n",
              "Atacama                             3     52             5.8\n",
              "Coquimbo                            0      0               0\n",
              "Valparaiso                         11    249             4.4\n",
              "Metropolitana                     361   3158            11.4\n",
              "O’Higgins                           0      0               0\n",
              "Maule                               3    219             1.4\n",
              "Ñuble                              18      0               0\n",
              "Biobío                             14    149             9.4\n",
              "Araucanía                          23    148            15.5\n",
              "Los Ríos                            6     91             6.6\n",
              "Los Lagos                           9    199             4.5\n",
              "Aysén                               0      0               0\n",
              "Magallanes                         45     24           187.5\n",
              "Total                             529   4417            12.0"
            ]
          },
          "metadata": {
            "tags": []
          },
          "execution_count": 12
        }
      ]
    },
    {
      "cell_type": "code",
      "metadata": {
        "id": "80aAX0ejCve5",
        "colab_type": "code",
        "colab": {}
      },
      "source": [
        "data['Positividad (%)'] = data['Positividad (%)'].astype(float)"
      ],
      "execution_count": 0,
      "outputs": []
    },
    {
      "cell_type": "code",
      "metadata": {
        "id": "p-vReIeRDJ8r",
        "colab_type": "code",
        "outputId": "bb508feb-d1b1-494e-aeb1-b588cf785bed",
        "colab": {
          "base_uri": "https://localhost:8080/",
          "height": 526
        }
      },
      "source": [
        "fig, ax = plt.subplots(figsize=(10,7))\n",
        "data['Positividad (%)'].plot(kind='bar', ax=ax, color='C1')\n",
        "plt.show()"
      ],
      "execution_count": 0,
      "outputs": [
        {
          "output_type": "display_data",
          "data": {
            "image/png": "[encoded data removed]",
            "text/plain": [
              "<Figure size 720x504 with 1 Axes>"
            ]
          },
          "metadata": {
            "tags": [],
            "needs_background": "light"
          }
        }
      ]
    }
  ]
}